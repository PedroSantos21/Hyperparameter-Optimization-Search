{
 "cells": [
  {
   "cell_type": "markdown",
   "metadata": {},
   "source": [
    "Neste trabalho iremos fazer a busca dos melhores hiperparametros de uma SVM para Regressão num banco de dados em particular. Para o desenvolvimento utilizaremos a biblioteca sklearn.svm que apresenta a função  SVR() que implementa o regressor SVM e tem vários hiperparametros.\n",
    "Vamos usar o kernel “rbf”, havendo 3 hiperparametros que consideramos como os mais importantes: C, gamma, e epsilon.\n",
    "\n",
    "Vamos fazer a busca no range:\n",
    "    - C entre 2^{-5} e 2^{15}  (uniforme nos expoentes);\n",
    "    - gamma entre 2^{15} e 2^{-3} (uniforme nos expoentes);\n",
    "    - episolon entre 0.05 e 10  (uniforme neste intervalo);\n",
    "    \n",
    "Utilizamos como dados de treino e testes os arquivos Xtreino5.npy e Xteste5.npy. Para as sáidas dos dados correspondenetres usamos os arquivos ytreino5.npy e yteste5.npy. Todos os arquivos foram disponibilizados na página no trabalho https://www.ic.unicamp.br/~wainer/cursos/1s2020/431/ex4.html."
   ]
  },
  {
   "cell_type": "markdown",
   "metadata": {},
   "source": [
    "### Importação das Bibliotecas"
   ]
  },
  {
   "cell_type": "markdown",
   "metadata": {},
   "source": [
    "Como primeiro passo, importamos as bibliotecas necessárias para a implementação desse trabalho: numpy e sklearn.svm."
   ]
  },
  {
   "cell_type": "code",
   "execution_count": 1,
   "metadata": {},
   "outputs": [],
   "source": [
    "import numpy as np\n",
    "from sklearn.svm import SVR\n",
    "from sklearn.model_selection import RandomizedSearchCV, GridSearchCV\n",
    "from sklearn import metrics\n",
    "import pyspark\n",
    "from hyperopt import fmin, tpe, hp, SparkTrials, STATUS_OK, Trials\n",
    "from sklearn.model_selection import cross_val_score\n",
    "\n",
    "from pyswarm import pso\n",
    "from simanneal import Annealer\n",
    "import optuna\n",
    "from scipy.stats import loguniform\n",
    "import random"
   ]
  },
  {
   "cell_type": "markdown",
   "metadata": {},
   "source": [
    "### Leitura e Exibição dos arquivos"
   ]
  },
  {
   "cell_type": "markdown",
   "metadata": {},
   "source": [
    "Após importamos as bibliotecas necessárias, realizamos a leitura dos arquivos .npy disponibilizados para uso neste trabalho. Para isso fizemos uso da função load() da biblioteca numpy. Armazenamos cada um dos arquivos de treino e de teste em variáveis locais."
   ]
  },
  {
   "cell_type": "code",
   "execution_count": 2,
   "metadata": {},
   "outputs": [],
   "source": [
    "x_treino = np.load('data/Xtreino5.npy')\n",
    "x_teste = np.load('data/Xteste5.npy')\n",
    "y_treino = np.load('data/ytreino5.npy')\n",
    "y_teste = np.load('data/yteste5.npy')"
   ]
  },
  {
   "cell_type": "markdown",
   "metadata": {},
   "source": [
    "### Medida de erro"
   ]
  },
  {
   "cell_type": "markdown",
   "metadata": {},
   "source": [
    "Como primeira tarefa, para cada conjunto de hiperparametros, treinamos o SVM no conjunto de treino (Xtreino e ytreino), e medimos o erro absoluto médio (MAE) no conjunto de teste (Xteste e yteste)."
   ]
  },
  {
   "cell_type": "markdown",
   "metadata": {},
   "source": [
    "## Randomized Search"
   ]
  },
  {
   "cell_type": "code",
   "execution_count": 3,
   "metadata": {},
   "outputs": [],
   "source": [
    "n_combinations = 125\n",
    "\n",
    "# Hyperparameters Search Space\n",
    "# C_range = np.random.uniform(-5, 15, n_combinations).astype(float)\n",
    "# C_range = 2**C_range\n",
    "\n",
    "C_range = loguniform(2**-5, 2**15).rvs(size=n_combinations)\n",
    "\n",
    "# gamma_range = np.random.uniform(-15, 3, n_combinations).astype(float)\n",
    "# gamma_range = 2**gamma_range\n",
    "\n",
    "gamma_range = loguniform(2**-15, 2** 3).rvs(size=n_combinations)\n",
    "\n",
    "epsilon_range = np.random.uniform(0.05, 1.0, n_combinations).astype(float)\n",
    "\n",
    " \n",
    "hyperparameters = {'gamma': list(gamma_range), \n",
    "                    'C': list(C_range),\n",
    "                  'epsilon': list(epsilon_range)}\n",
    " \n",
    "# print (hyperparameters)"
   ]
  },
  {
   "cell_type": "code",
   "execution_count": 4,
   "metadata": {},
   "outputs": [
    {
     "name": "stdout",
     "output_type": "stream",
     "text": [
      "The best performing C value is: 62.85\n",
      "The best performing gamma value is: 0.00016\n",
      "The best performing epsilon value is:  0.93\n"
     ]
    }
   ],
   "source": [
    "# Run randomized search\n",
    "randomCV = RandomizedSearchCV(SVR(kernel='rbf'), param_distributions=hyperparameters, n_iter=20)\n",
    "randomCV.fit(x_treino, y_treino)\n",
    " \n",
    "# Identify optimal hyperparameter values\n",
    "best_gamma  = randomCV.best_params_['gamma']\n",
    "best_C      = randomCV.best_params_['C']\n",
    "best_epsilon= randomCV.best_params_['epsilon']\n",
    "\n",
    "print(\"The best performing C value is: {:5.2f}\".format(best_C))\n",
    "print(\"The best performing gamma value is: {:5.5f}\".format(best_gamma))\n",
    "print(\"The best performing epsilon value is: {:5.2f}\".format(best_epsilon))\n"
   ]
  },
  {
   "cell_type": "code",
   "execution_count": 5,
   "metadata": {},
   "outputs": [
    {
     "name": "stdout",
     "output_type": "stream",
     "text": [
      "MAE:  3.674047769591726\n"
     ]
    }
   ],
   "source": [
    "# Validation\n",
    "\n",
    "svr  = SVR(kernel='rbf', gamma=best_gamma, epsilon=best_epsilon, C=best_C)\n",
    "svr.fit(x_treino, y_treino)\n",
    "\n",
    "pred = svr.predict(x_teste)\n",
    "\n",
    "# print(regression.score(x_teste, y_teste))\n",
    "print(\"MAE: \", metrics.mean_absolute_error(y_true=y_teste, y_pred=pred))"
   ]
  },
  {
   "cell_type": "markdown",
   "metadata": {},
   "source": [
    "### Grid seach"
   ]
  },
  {
   "cell_type": "markdown",
   "metadata": {},
   "source": [
    "O próximo algoritimo de otimização proposto foi o Grid Search. Seguindo a especificação de uma busca em uma grid de 5x5x5, amostras do range de busca foram tomadas:"
   ]
  },
  {
   "cell_type": "code",
   "execution_count": 6,
   "metadata": {},
   "outputs": [],
   "source": [
    "grid_c = random.sample(list(C_range), k=5)\n",
    "grid_gamma = random.sample(list(gamma_range), k=5)\n",
    "grid_episolon = random.sample(list(epsilon_range), k=5)\n",
    "\n",
    "hyperparameters_grid = {'gamma': list(grid_gamma), \n",
    "                        'C': list(grid_c),\n",
    "                        'epsilon': list(grid_episolon)}"
   ]
  },
  {
   "cell_type": "code",
   "execution_count": 7,
   "metadata": {},
   "outputs": [
    {
     "name": "stdout",
     "output_type": "stream",
     "text": [
      "The best performing gamma value is: 0.00005\n",
      "The best performing C value is: 1356.98\n",
      "The best performing epsilon value is:  0.09\n"
     ]
    }
   ],
   "source": [
    "# Run Grid Search\n",
    "randomCV = GridSearchCV(SVR(kernel='rbf'), param_grid=hyperparameters_grid, cv = 5)\n",
    "randomCV.fit(x_treino, y_treino)\n",
    " \n",
    "# Identify optimal hyperparameter values\n",
    "best_gamma  = randomCV.best_params_['gamma']\n",
    "best_C      = randomCV.best_params_['C']\n",
    "best_epsilon= randomCV.best_params_['epsilon']\n",
    " \n",
    "print(\"The best performing gamma value is: {:5.5f}\".format(best_gamma))\n",
    "print(\"The best performing C value is: {:5.2f}\".format(best_C))\n",
    "print(\"The best performing epsilon value is: {:5.2f}\".format(best_epsilon))"
   ]
  },
  {
   "cell_type": "code",
   "execution_count": 8,
   "metadata": {},
   "outputs": [
    {
     "name": "stdout",
     "output_type": "stream",
     "text": [
      "MAE:  2.9099338966940835\n"
     ]
    }
   ],
   "source": [
    "# Validation\n",
    "\n",
    "svr  = SVR(kernel='rbf', gamma=best_gamma, epsilon=best_epsilon, C=best_C)\n",
    "svr.fit(x_treino, y_treino)\n",
    "\n",
    "pred = svr.predict(x_teste)\n",
    "\n",
    "# print(regression.score(x_teste, y_teste))\n",
    "print(\"MAE: \", metrics.mean_absolute_error(y_true=y_teste, y_pred=pred))"
   ]
  },
  {
   "cell_type": "markdown",
   "metadata": {},
   "source": [
    "### Otimização bayesiana"
   ]
  },
  {
   "cell_type": "markdown",
   "metadata": {},
   "source": [
    "Outro algoritimo proposto foi a otimização bayesiana. Para a sua implementação utilziamos a biblioteca hyperopt, que dispnibiliza O regressor (TPE) para modelar a distribuição de probabilidades que é muito mais rápido que a implementação padrão utilizando “processos gaussianos”.\n",
    "\n",
    "Esta implementação foi feita em passos:"
   ]
  },
  {
   "cell_type": "markdown",
   "metadata": {},
   "source": [
    "### Definir a Função de mínimo"
   ]
  },
  {
   "cell_type": "markdown",
   "metadata": {},
   "source": [
    "Como queremos pesquisar por Support Vector Machines (SVM), definimos um parâmetro params ['type'] como o nome do modelo, e uma função para executar o treinamento e retornar a precisão da validação cruzada. \n",
    "Como estamos tentando maximizar a precisão da validação cruzada, devemos negar esse valor para o hyperopt, pois o hyperopt sabe apenas como minimizar uma função."
   ]
  },
  {
   "cell_type": "code",
   "execution_count": 9,
   "metadata": {},
   "outputs": [],
   "source": [
    "def get_acc_status(clf,X_,y):\n",
    "    acc = cross_val_score(clf, X_, y, cv=5).mean()\n",
    "    return {'loss': -acc, 'status': STATUS_OK}"
   ]
  },
  {
   "cell_type": "code",
   "execution_count": 10,
   "metadata": {},
   "outputs": [],
   "source": [
    "def objective(params):\n",
    "    classifier_type = params['type']\n",
    "    del params['type']\n",
    "    if classifier_type == 'svm':\n",
    "        clf = SVR(**params)\n",
    "    else:\n",
    "        return 0\n",
    "    accuracy = cross_val_score(clf, x_treino, y_treino).mean()\n",
    "    \n",
    "    return {'loss': -accuracy, 'status': STATUS_OK}"
   ]
  },
  {
   "cell_type": "markdown",
   "metadata": {},
   "source": [
    "### Definir espaço de pesquisa sobre os hiperparâmetros"
   ]
  },
  {
   "cell_type": "code",
   "execution_count": 11,
   "metadata": {},
   "outputs": [],
   "source": [
    "search_space = hp.choice('classifier_type', [\n",
    "    {\n",
    "        'type': 'svm',\n",
    "        'C': hp.uniform('C', (2**-5), (2**15)),\n",
    "        'gamma': hp.uniform('gamma', (2**-15), (2**3)),\n",
    "        'epsilon': hp.uniform('epsilon', 0.05, 1.0),\n",
    "        'kernel': hp.choice('kernel', ['rbf'])\n",
    "    },\n",
    "])"
   ]
  },
  {
   "cell_type": "markdown",
   "metadata": {},
   "source": [
    "### Selecionar um algoritimo de busca"
   ]
  },
  {
   "cell_type": "markdown",
   "metadata": {},
   "source": [
    "As duas opções principais de algoritmos de busca são:\n",
    "\n",
    "    - hyperopt.tpe.suggest: Estimadores da Árvore de Parzen, uma abordagem bayesiana que seleciona iterativa e adaptativamente novas configurações de hiperparâmetro para explorar com base em resultados anteriores;\n",
    "    - hyperopt.rand.suggest: Pesquisa aleatória, uma abordagem não adaptativa que mostra o espaço de pesquisa.\n",
    "    \n",
    "Conforme pedido, utilziamos o algoritimo TPE."
   ]
  },
  {
   "cell_type": "markdown",
   "metadata": {},
   "source": [
    "### Executar o algoritmo de ajuste com hyperopt fmin ()"
   ]
  },
  {
   "cell_type": "markdown",
   "metadata": {},
   "source": [
    "Definimos max_evals como o número máximo de pontos no espaço do hiperparâmetro para testar, ou seja, o número máximo de modelos para ajustar e avaliar.\n",
    "\n",
    "O SparkTrials usa 2 argumentos:\n",
    "    - parallelism: Número de modelos para ajustar e avaliar simultaneamente.\n",
    "    - timeout: tempo máximo (em segundos) que fmin pode demorar. Este argumento é opcional.\n",
    "\n",
    "O rastreamento automatizado do MLflow está ativado por padrão. Ligue para mlflow.start_run () antes de chamar fmin (), como mostra o exemplo abaixo."
   ]
  },
  {
   "cell_type": "code",
   "execution_count": 12,
   "metadata": {},
   "outputs": [
    {
     "name": "stdout",
     "output_type": "stream",
     "text": [
      "100%|██████████| 125/125 [00:11<00:00, 10.47trial/s, best loss: -0.517901045072695]  \n",
      "The best performing gamma value is: 0.00359\n",
      "The best performing C value is: 25984.93\n",
      "The best performing epsilon value is:  0.44\n"
     ]
    }
   ],
   "source": [
    "hypopt_trials = Trials()\n",
    " \n",
    "best_params = fmin(objective, search_space, algo=tpe.suggest, \n",
    "max_evals=125, trials= hypopt_trials)\n",
    " \n",
    "best_gamma  = best_params['gamma']\n",
    "best_C      = best_params['C']\n",
    "best_epsilon= best_params['epsilon']\n",
    " \n",
    "print(\"The best performing gamma value is: {:5.5f}\".format(best_gamma))\n",
    "print(\"The best performing C value is: {:5.2f}\".format(best_C))\n",
    "print(\"The best performing epsilon value is: {:5.2f}\".format(best_epsilon))"
   ]
  },
  {
   "cell_type": "code",
   "execution_count": 13,
   "metadata": {},
   "outputs": [
    {
     "name": "stdout",
     "output_type": "stream",
     "text": [
      "MAE:  4.452631232325906\n"
     ]
    }
   ],
   "source": [
    "# Validation\n",
    "\n",
    "svr  = SVR(kernel='rbf', gamma=best_gamma, epsilon=best_epsilon, C=best_C)\n",
    "svr.fit(x_treino, y_treino)\n",
    "\n",
    "pred = svr.predict(x_teste)\n",
    "\n",
    "# print(regression.score(x_teste, y_teste))\n",
    "print(\"MAE: \", metrics.mean_absolute_error(y_true=y_teste, y_pred=pred))"
   ]
  },
  {
   "cell_type": "markdown",
   "metadata": {},
   "source": [
    "## PSO"
   ]
  },
  {
   "cell_type": "code",
   "execution_count": 14,
   "metadata": {},
   "outputs": [
    {
     "name": "stdout",
     "output_type": "stream",
     "text": [
      "PSO...\n",
      "Stopping search: maximum iterations reached --> 11\n",
      " C optimal: 14740.885607664062\n",
      " Gamma Optimal: 3.0517578125e-05\n",
      " Epsilon Optimal: 0.3875906008160747\n",
      "MAE:  2.329532586890168\n"
     ]
    }
   ],
   "source": [
    "# PARAMETERS\n",
    "C_MIN = 2**(-5)\n",
    "C_MAX = 2**15\n",
    "\n",
    "GAMMA_MIN = 2**(-15)\n",
    "GAMMA_MAX = 2**3\n",
    "\n",
    "EPSILON_MIN = 0.05\n",
    "EPSILON_MAX = 1.0\n",
    "\n",
    "lb = np.array([C_MIN, GAMMA_MIN, EPSILON_MIN])\n",
    "ub = np.array([C_MAX, GAMMA_MAX, EPSILON_MAX])\n",
    "\n",
    "# FUNCTION\n",
    "def svr_fun(X):\n",
    "    c = X[0]\n",
    "    g = X[1]\n",
    "    eps = X[2]\n",
    "    \n",
    "    svr  = SVR(kernel='rbf', C=c, gamma=g, epsilon=eps)\n",
    "    svr.fit(x_treino, y_treino)\n",
    "    \n",
    "    pred = svr.predict(x_teste)\n",
    "    mae = metrics.mean_absolute_error(y_true=y_teste, y_pred=pred)\n",
    "    \n",
    "    return mae\n",
    "\n",
    "print(\"PSO...\")\n",
    "x_opt, y_opt = pso(svr_fun, lb, ub, swarmsize=11, maxiter=11)\n",
    "\n",
    "print(\" C optimal: \"+ str(x_opt[0])+\n",
    "     \"\\n Gamma Optimal: \"+ str(x_opt[1])+\n",
    "     \"\\n Epsilon Optimal: \"+ str(x_opt[2]))\n",
    "print(\"MAE: \", str(y_opt))"
   ]
  },
  {
   "cell_type": "markdown",
   "metadata": {},
   "source": [
    "## Simulated Annealing"
   ]
  },
  {
   "cell_type": "markdown",
   "metadata": {},
   "source": [
    "## CMA-ES"
   ]
  },
  {
   "cell_type": "code",
   "execution_count": 15,
   "metadata": {},
   "outputs": [
    {
     "name": "stderr",
     "output_type": "stream",
     "text": [
      "\u001b[32m[I 2020-05-06 07:22:07,226]\u001b[0m Finished trial#0 with value: 5.718012616136094 with parameters: {'gamma': 3.7014720077567342, 'c': 2.2665568624495847, 'epsilon': 0.6068782513078113}. Best is trial#0 with value: 5.718012616136094.\u001b[0m\n",
      "\u001b[32m[I 2020-05-06 07:22:07,326]\u001b[0m Finished trial#1 with value: 3.5601416967391346 with parameters: {'gamma': 0.0011221996279333647, 'c': 80.64333574640082, 'epsilon': 0.14172352299424795}. Best is trial#1 with value: 3.5601416967391346.\u001b[0m\n",
      "\u001b[32m[I 2020-05-06 07:22:08,262]\u001b[0m Finished trial#2 with value: 4.599421181772981 with parameters: {'gamma': 0.00046810208629241746, 'c': 9419.638664343644, 'epsilon': 0.9797404324762193}. Best is trial#1 with value: 3.5601416967391346.\u001b[0m\n",
      "\u001b[32m[I 2020-05-06 07:22:08,334]\u001b[0m Finished trial#3 with value: 3.620044030135721 with parameters: {'gamma': 0.0002778424802327442, 'c': 28.65018342247947, 'epsilon': 0.9307057009048231}. Best is trial#1 with value: 3.5601416967391346.\u001b[0m\n",
      "\u001b[32m[I 2020-05-06 07:22:08,398]\u001b[0m Finished trial#4 with value: 5.7057750787365835 with parameters: {'gamma': 0.036068508723087735, 'c': 0.05512114933474489, 'epsilon': 0.9320700742664773}. Best is trial#1 with value: 3.5601416967391346.\u001b[0m\n",
      "\u001b[32m[I 2020-05-06 07:22:08,916]\u001b[0m Finished trial#5 with value: 2.6243327181452267 with parameters: {'gamma': 0.0001412859855087547, 'c': 3033.4557352663187, 'epsilon': 0.2541963552147519}. Best is trial#5 with value: 2.6243327181452267.\u001b[0m\n",
      "\u001b[32m[I 2020-05-06 07:22:08,985]\u001b[0m Finished trial#6 with value: 3.8611781224788113 with parameters: {'gamma': 0.00014430955090132132, 'c': 10.75712923208257, 'epsilon': 0.8221874519281533}. Best is trial#5 with value: 2.6243327181452267.\u001b[0m\n",
      "\u001b[32m[I 2020-05-06 07:22:09,051]\u001b[0m Finished trial#7 with value: 4.2284144728593835 with parameters: {'gamma': 0.00025752921214876155, 'c': 1.4477649236949661, 'epsilon': 0.43205874542612105}. Best is trial#5 with value: 2.6243327181452267.\u001b[0m\n",
      "\u001b[32m[I 2020-05-06 07:22:09,117]\u001b[0m Finished trial#8 with value: 5.379756084396307 with parameters: {'gamma': 0.041525038760357055, 'c': 1.3331698167836046, 'epsilon': 0.6945754828521178}. Best is trial#5 with value: 2.6243327181452267.\u001b[0m\n",
      "\u001b[32m[I 2020-05-06 07:22:09,181]\u001b[0m Finished trial#9 with value: 5.695512011256408 with parameters: {'gamma': 0.20966085433021245, 'c': 0.9234672317591496, 'epsilon': 0.3974796406614661}. Best is trial#5 with value: 2.6243327181452267.\u001b[0m\n",
      "\u001b[32m[I 2020-05-06 07:22:09,443]\u001b[0m Finished trial#10 with value: 4.598375005580189 with parameters: {'gamma': 0.003422834749118577, 'c': 4943.28085275891, 'epsilon': 0.0958571823005813}. Best is trial#5 with value: 2.6243327181452267.\u001b[0m\n",
      "\u001b[32m[I 2020-05-06 07:22:09,574]\u001b[0m Finished trial#11 with value: 3.168315307784546 with parameters: {'gamma': 3.627465395714845e-05, 'c': 869.3587663216534, 'epsilon': 0.12018488011365713}. Best is trial#5 with value: 2.6243327181452267.\u001b[0m\n",
      "\u001b[32m[I 2020-05-06 07:22:09,704]\u001b[0m Finished trial#12 with value: 3.225115026452063 with parameters: {'gamma': 4.8950758086660684e-05, 'c': 675.5619339441607, 'epsilon': 0.2734977774640663}. Best is trial#5 with value: 2.6243327181452267.\u001b[0m\n",
      "\u001b[32m[I 2020-05-06 07:22:09,849]\u001b[0m Finished trial#13 with value: 3.1391036846237967 with parameters: {'gamma': 4.096046242886534e-05, 'c': 863.50263759467, 'epsilon': 0.22564147842925403}. Best is trial#5 with value: 2.6243327181452267.\u001b[0m\n",
      "\u001b[32m[I 2020-05-06 07:22:09,969]\u001b[0m Finished trial#14 with value: 3.2877390095047225 with parameters: {'gamma': 3.524946264674527e-05, 'c': 629.9406866764496, 'epsilon': 0.26206393114762117}. Best is trial#5 with value: 2.6243327181452267.\u001b[0m\n",
      "\u001b[32m[I 2020-05-06 07:22:10,337]\u001b[0m Finished trial#15 with value: 4.715924417133384 with parameters: {'gamma': 0.0028179751798055154, 'c': 31651.511573996253, 'epsilon': 0.2972761354316653}. Best is trial#5 with value: 2.6243327181452267.\u001b[0m\n",
      "\u001b[32m[I 2020-05-06 07:22:10,630]\u001b[0m Finished trial#16 with value: 2.5753514563623803 with parameters: {'gamma': 4.7552392682474904e-05, 'c': 3028.0006470330272, 'epsilon': 0.4802913349863263}. Best is trial#16 with value: 2.5753514563623803.\u001b[0m\n",
      "\u001b[32m[I 2020-05-06 07:22:10,708]\u001b[0m Finished trial#17 with value: 5.764774005293717 with parameters: {'gamma': 6.1480848836004425, 'c': 31553.230412669924, 'epsilon': 0.5034795920847748}. Best is trial#16 with value: 2.5753514563623803.\u001b[0m\n",
      "\u001b[32m[I 2020-05-06 07:22:10,878]\u001b[0m Finished trial#18 with value: 4.223808108749751 with parameters: {'gamma': 0.004214596367762325, 'c': 3400.426233665396, 'epsilon': 0.6206288639886932}. Best is trial#16 with value: 2.5753514563623803.\u001b[0m\n",
      "\u001b[32m[I 2020-05-06 07:22:10,970]\u001b[0m Finished trial#19 with value: 5.74939968385949 with parameters: {'gamma': 0.45685459255778654, 'c': 87.71742493358542, 'epsilon': 0.393294172339516}. Best is trial#16 with value: 2.5753514563623803.\u001b[0m\n",
      "\u001b[32m[I 2020-05-06 07:22:11,079]\u001b[0m Finished trial#20 with value: 3.5820346414007864 with parameters: {'gamma': 9.482322436368637e-05, 'c': 167.1123990407346, 'epsilon': 0.5112151592723676}. Best is trial#16 with value: 2.5753514563623803.\u001b[0m\n",
      "\u001b[32m[I 2020-05-06 07:22:11,324]\u001b[0m Finished trial#21 with value: 2.8478581535403875 with parameters: {'gamma': 3.534534099969561e-05, 'c': 2063.8086046002772, 'epsilon': 0.2031795428626855}. Best is trial#16 with value: 2.5753514563623803.\u001b[0m\n",
      "\u001b[32m[I 2020-05-06 07:22:13,636]\u001b[0m Finished trial#22 with value: 5.089413703329609 with parameters: {'gamma': 0.0006873825450350957, 'c': 16633.587326564502, 'epsilon': 0.1884350754383689}. Best is trial#16 with value: 2.5753514563623803.\u001b[0m\n",
      "\u001b[32m[I 2020-05-06 07:22:14,080]\u001b[0m Finished trial#23 with value: 2.643957344430325 with parameters: {'gamma': 0.00011481450793924018, 'c': 2977.5701350974746, 'epsilon': 0.3503978914075886}. Best is trial#16 with value: 2.5753514563623803.\u001b[0m\n",
      "\u001b[32m[I 2020-05-06 07:22:15,727]\u001b[0m Finished trial#24 with value: 2.8146223194624698 with parameters: {'gamma': 0.0001378003487236387, 'c': 8471.260005380222, 'epsilon': 0.33205515119285867}. Best is trial#16 with value: 2.5753514563623803.\u001b[0m\n",
      "\u001b[32m[I 2020-05-06 07:22:15,854]\u001b[0m Finished trial#25 with value: 3.9103455332194725 with parameters: {'gamma': 0.001390197443794362, 'c': 244.2510874259759, 'epsilon': 0.4414915115375124}. Best is trial#16 with value: 2.5753514563623803.\u001b[0m\n",
      "\u001b[32m[I 2020-05-06 07:22:15,973]\u001b[0m Finished trial#26 with value: 3.9726573045778437 with parameters: {'gamma': 0.008599675587216686, 'c': 2310.4518953114593, 'epsilon': 0.05541953561532165}. Best is trial#16 with value: 2.5753514563623803.\u001b[0m\n",
      "\u001b[32m[I 2020-05-06 07:22:20,658]\u001b[0m Finished trial#27 with value: 2.86001958988212 with parameters: {'gamma': 8.907797575928343e-05, 'c': 31705.312125052533, 'epsilon': 0.3344697802164239}. Best is trial#16 with value: 2.5753514563623803.\u001b[0m\n",
      "\u001b[32m[I 2020-05-06 07:22:21,131]\u001b[0m Finished trial#28 with value: 3.2429777330745106 with parameters: {'gamma': 0.00034964441323049255, 'c': 2042.541528647242, 'epsilon': 0.5975897801674952}. Best is trial#16 with value: 2.5753514563623803.\u001b[0m\n",
      "\u001b[32m[I 2020-05-06 07:22:21,207]\u001b[0m Finished trial#29 with value: 5.713809064717724 with parameters: {'gamma': 1.4908631613334273, 'c': 6.869185201064034, 'epsilon': 0.5631335035746987}. Best is trial#16 with value: 2.5753514563623803.\u001b[0m\n",
      "\u001b[32m[I 2020-05-06 07:22:22,639]\u001b[0m Finished trial#30 with value: 2.618929498835908 with parameters: {'gamma': 8.751138451173049e-05, 'c': 10829.925178368258, 'epsilon': 0.3669361458531211}. Best is trial#16 with value: 2.5753514563623803.\u001b[0m\n",
      "\u001b[32m[I 2020-05-06 07:22:24,243]\u001b[0m Finished trial#31 with value: 2.663856946266311 with parameters: {'gamma': 8.760500211319133e-05, 'c': 14040.387822188794, 'epsilon': 0.3720487976915966}. Best is trial#16 with value: 2.5753514563623803.\u001b[0m\n",
      "\u001b[32m[I 2020-05-06 07:22:24,929]\u001b[0m Finished trial#32 with value: 4.525789856655362 with parameters: {'gamma': 0.0008254285492988475, 'c': 5906.8651834850525, 'epsilon': 0.4580672902563288}. Best is trial#16 with value: 2.5753514563623803.\u001b[0m\n",
      "\u001b[32m[I 2020-05-06 07:22:25,049]\u001b[0m Finished trial#33 with value: 3.3593489391129285 with parameters: {'gamma': 0.00016054066287147516, 'c': 293.95384084173617, 'epsilon': 0.3149838378883483}. Best is trial#16 with value: 2.5753514563623803.\u001b[0m\n"
     ]
    },
    {
     "name": "stderr",
     "output_type": "stream",
     "text": [
      "\u001b[32m[I 2020-05-06 07:22:25,570]\u001b[0m Finished trial#34 with value: 4.355703833769283 with parameters: {'gamma': 0.0013663595774014532, 'c': 14067.249821070534, 'epsilon': 0.6654359364755511}. Best is trial#16 with value: 2.5753514563623803.\u001b[0m\n",
      "\u001b[32m[I 2020-05-06 07:22:25,881]\u001b[0m Finished trial#35 with value: 3.11177603047703 with parameters: {'gamma': 0.00040312886590855666, 'c': 1210.8297550583984, 'epsilon': 0.4887876921243496}. Best is trial#16 with value: 2.5753514563623803.\u001b[0m\n",
      "\u001b[32m[I 2020-05-06 07:22:26,578]\u001b[0m Finished trial#36 with value: 2.5562672440821483 with parameters: {'gamma': 6.713914023986103e-05, 'c': 5449.940960958966, 'epsilon': 0.36565326145965776}. Best is trial#36 with value: 2.5562672440821483.\u001b[0m\n",
      "\u001b[32m[I 2020-05-06 07:22:27,552]\u001b[0m Finished trial#37 with value: 2.4519686300934933 with parameters: {'gamma': 5.645873601532198e-05, 'c': 6148.7611789681, 'epsilon': 0.1781936974787613}. Best is trial#37 with value: 2.4519686300934933.\u001b[0m\n",
      "\u001b[32m[I 2020-05-06 07:22:28,482]\u001b[0m Finished trial#38 with value: 2.547275938899617 with parameters: {'gamma': 6.23620047839897e-05, 'c': 8398.148610555323, 'epsilon': 0.5545174810569063}. Best is trial#37 with value: 2.4519686300934933.\u001b[0m\n",
      "\u001b[32m[I 2020-05-06 07:22:28,575]\u001b[0m Finished trial#39 with value: 3.6026076559973252 with parameters: {'gamma': 0.00023572668566689965, 'c': 44.195891571165, 'epsilon': 0.5574352521916501}. Best is trial#37 with value: 2.4519686300934933.\u001b[0m\n",
      "\u001b[32m[I 2020-05-06 07:22:30,909]\u001b[0m Finished trial#40 with value: 2.5080832542985108 with parameters: {'gamma': 5.970048111390679e-05, 'c': 22318.137680508444, 'epsilon': 0.6644845603792894}. Best is trial#37 with value: 2.4519686300934933.\u001b[0m\n",
      "\u001b[32m[I 2020-05-06 07:22:33,473]\u001b[0m Finished trial#41 with value: 2.5400363116452773 with parameters: {'gamma': 6.247991441627069e-05, 'c': 23068.392774331507, 'epsilon': 0.7385287978176118}. Best is trial#37 with value: 2.4519686300934933.\u001b[0m\n",
      "\u001b[32m[I 2020-05-06 07:22:36,284]\u001b[0m Finished trial#42 with value: 2.630891175846442 with parameters: {'gamma': 6.314814777337942e-05, 'c': 31377.619733575233, 'epsilon': 0.7834434073530284}. Best is trial#37 with value: 2.4519686300934933.\u001b[0m\n",
      "\u001b[32m[I 2020-05-06 07:22:36,359]\u001b[0m Finished trial#43 with value: 4.929143658308733 with parameters: {'gamma': 3.0801775911311044e-05, 'c': 0.11919168119919796, 'epsilon': 0.7490751344244867}. Best is trial#37 with value: 2.4519686300934933.\u001b[0m\n",
      "\u001b[32m[I 2020-05-06 07:22:37,332]\u001b[0m Finished trial#44 with value: 3.3168690956760756 with parameters: {'gamma': 0.000216647764549814, 'c': 7028.97246821362, 'epsilon': 0.8727977361592898}. Best is trial#37 with value: 2.4519686300934933.\u001b[0m\n",
      "\u001b[32m[I 2020-05-06 07:22:38,836]\u001b[0m Finished trial#45 with value: 4.601496282057644 with parameters: {'gamma': 0.000453800741294503, 'c': 17098.204063269142, 'epsilon': 0.6982074495467014}. Best is trial#37 with value: 2.4519686300934933.\u001b[0m\n",
      "\u001b[32m[I 2020-05-06 07:22:41,142]\u001b[0m Finished trial#46 with value: 2.502981050707211 with parameters: {'gamma': 5.9943107196386335e-05, 'c': 20118.68268422504, 'epsilon': 0.6597361972563762}. Best is trial#37 with value: 2.4519686300934933.\u001b[0m\n",
      "\u001b[32m[I 2020-05-06 07:22:41,243]\u001b[0m Finished trial#47 with value: 4.377333191930335 with parameters: {'gamma': 0.02874422948664186, 'c': 23103.864371181244, 'epsilon': 0.6538978506325943}. Best is trial#37 with value: 2.4519686300934933.\u001b[0m\n",
      "\u001b[32m[I 2020-05-06 07:22:42,706]\u001b[0m Finished trial#48 with value: 3.6718171362630287 with parameters: {'gamma': 0.00020902897687677974, 'c': 11323.36657134528, 'epsilon': 0.7157152380396072}. Best is trial#37 with value: 2.4519686300934933.\u001b[0m\n",
      "\u001b[32m[I 2020-05-06 07:22:42,853]\u001b[0m Finished trial#49 with value: 3.115801745435199 with parameters: {'gamma': 3.2024186957893554e-05, 'c': 1279.6563502289948, 'epsilon': 0.8171535792028098}. Best is trial#37 with value: 2.4519686300934933.\u001b[0m\n",
      "\u001b[32m[I 2020-05-06 07:22:43,396]\u001b[0m Finished trial#50 with value: 2.590614885078046 with parameters: {'gamma': 5.825626102628208e-05, 'c': 4943.451439260063, 'epsilon': 0.7546630528956157}. Best is trial#37 with value: 2.4519686300934933.\u001b[0m\n",
      "\u001b[32m[I 2020-05-06 07:22:44,311]\u001b[0m Finished trial#51 with value: 2.557767622873406 with parameters: {'gamma': 6.393843370130108e-05, 'c': 6393.713835199152, 'epsilon': 0.6202764925743878}. Best is trial#37 with value: 2.4519686300934933.\u001b[0m\n",
      "\u001b[32m[I 2020-05-06 07:22:46,924]\u001b[0m Finished trial#52 with value: 3.6555129421993473 with parameters: {'gamma': 0.0001634549599132163, 'c': 20947.58323438962, 'epsilon': 0.569110780437988}. Best is trial#37 with value: 2.4519686300934933.\u001b[0m\n",
      "\u001b[32m[I 2020-05-06 07:22:49,963]\u001b[0m Finished trial#53 with value: 2.4186656907478654 with parameters: {'gamma': 3.098433319433418e-05, 'c': 32232.669788595547, 'epsilon': 0.6614952814205802}. Best is trial#53 with value: 2.4186656907478654.\u001b[0m\n",
      "\u001b[32m[I 2020-05-06 07:22:52,454]\u001b[0m Finished trial#54 with value: 2.4008977098957835 with parameters: {'gamma': 3.199317409404024e-05, 'c': 25430.132748473123, 'epsilon': 0.6565014743206183}. Best is trial#54 with value: 2.4008977098957835.\u001b[0m\n",
      "\u001b[32m[I 2020-05-06 07:22:54,304]\u001b[0m Finished trial#55 with value: 2.471962786393255 with parameters: {'gamma': 3.3895377765416564e-05, 'c': 29435.267197233665, 'epsilon': 0.8726473913725568}. Best is trial#54 with value: 2.4008977098957835.\u001b[0m\n",
      "\u001b[32m[I 2020-05-06 07:22:56,892]\u001b[0m Finished trial#56 with value: 2.46762464524406 with parameters: {'gamma': 3.8304774506884616e-05, 'c': 32226.51252126102, 'epsilon': 0.981600606164535}. Best is trial#54 with value: 2.4008977098957835.\u001b[0m\n",
      "\u001b[32m[I 2020-05-06 07:22:59,011]\u001b[0m Finished trial#57 with value: 2.5086344833422562 with parameters: {'gamma': 3.0624927582041156e-05, 'c': 30405.218309235934, 'epsilon': 0.9795939903578554}. Best is trial#54 with value: 2.4008977098957835.\u001b[0m\n",
      "\u001b[32m[I 2020-05-06 07:23:00,396]\u001b[0m Finished trial#58 with value: 2.4789090114452472 with parameters: {'gamma': 3.121337840551128e-05, 'c': 30580.34271551838, 'epsilon': 0.8788014690735454}. Best is trial#54 with value: 2.4008977098957835.\u001b[0m\n",
      "\u001b[32m[I 2020-05-06 07:23:00,970]\u001b[0m Finished trial#59 with value: 2.481563444804661 with parameters: {'gamma': 3.21196108025779e-05, 'c': 11084.432897471985, 'epsilon': 0.9094859141783687}. Best is trial#54 with value: 2.4008977098957835.\u001b[0m\n",
      "\u001b[32m[I 2020-05-06 07:23:01,044]\u001b[0m Finished trial#60 with value: 5.6756100294740435 with parameters: {'gamma': 0.06758693451648326, 'c': 0.2803059160265363, 'epsilon': 0.8688815924055123}. Best is trial#54 with value: 2.4008977098957835.\u001b[0m\n",
      "\u001b[32m[I 2020-05-06 07:23:03,919]\u001b[0m Finished trial#61 with value: 2.498608091761183 with parameters: {'gamma': 3.143131865653159e-05, 'c': 32478.969716421212, 'epsilon': 0.9958752871163864}. Best is trial#54 with value: 2.4008977098957835.\u001b[0m\n",
      "\u001b[32m[I 2020-05-06 07:23:05,068]\u001b[0m Finished trial#62 with value: 2.5460007381806653 with parameters: {'gamma': 3.8035707281354216e-05, 'c': 12880.1098555264, 'epsilon': 0.9451782982515677}. Best is trial#54 with value: 2.4008977098957835.\u001b[0m\n",
      "\u001b[32m[I 2020-05-06 07:23:05,710]\u001b[0m Finished trial#63 with value: 2.46752457314293 with parameters: {'gamma': 3.069108568098069e-05, 'c': 9698.549791850644, 'epsilon': 0.8966338527634184}. Best is trial#54 with value: 2.4008977098957835.\u001b[0m\n",
      "\u001b[32m[I 2020-05-06 07:23:06,316]\u001b[0m Finished trial#64 with value: 2.5847482770617622 with parameters: {'gamma': 0.00011577385719393785, 'c': 3595.0739421371036, 'epsilon': 0.8820110346388298}. Best is trial#54 with value: 2.4008977098957835.\u001b[0m\n",
      "\u001b[32m[I 2020-05-06 07:23:10,768]\u001b[0m Finished trial#65 with value: 2.453818068985837 with parameters: {'gamma': 4.338629954335355e-05, 'c': 31575.56462749482, 'epsilon': 0.960393392396721}. Best is trial#54 with value: 2.4008977098957835.\u001b[0m\n",
      "\u001b[32m[I 2020-05-06 07:23:11,607]\u001b[0m Finished trial#66 with value: 2.5094516961819195 with parameters: {'gamma': 4.2570196164970803e-05, 'c': 9309.167503266655, 'epsilon': 0.8359644014150887}. Best is trial#54 with value: 2.4008977098957835.\u001b[0m\n",
      "\u001b[32m[I 2020-05-06 07:23:12,181]\u001b[0m Finished trial#67 with value: 2.549714110441571 with parameters: {'gamma': 0.00010228628067808977, 'c': 4480.198088867456, 'epsilon': 0.9575987229345577}. Best is trial#54 with value: 2.4008977098957835.\u001b[0m\n"
     ]
    },
    {
     "name": "stderr",
     "output_type": "stream",
     "text": [
      "\u001b[32m[I 2020-05-06 07:23:12,257]\u001b[0m Finished trial#68 with value: 4.149400205778916 with parameters: {'gamma': 4.651131196417641e-05, 'c': 7.125773203541027, 'epsilon': 0.9181306168577806}. Best is trial#54 with value: 2.4008977098957835.\u001b[0m\n",
      "\u001b[32m[I 2020-05-06 07:23:14,100]\u001b[0m Finished trial#69 with value: 3.554715829164987 with parameters: {'gamma': 0.0001659793959413781, 'c': 16368.849325884023, 'epsilon': 0.7975288332361459}. Best is trial#54 with value: 2.4008977098957835.\u001b[0m\n",
      "\u001b[32m[I 2020-05-06 07:23:14,297]\u001b[0m Finished trial#70 with value: 2.9176369979964014 with parameters: {'gamma': 9.039657702072606e-05, 'c': 1348.1473180467551, 'epsilon': 0.9950432758142433}. Best is trial#54 with value: 2.4008977098957835.\u001b[0m\n",
      "\u001b[32m[I 2020-05-06 07:23:16,353]\u001b[0m Finished trial#71 with value: 2.488431785515231 with parameters: {'gamma': 3.098288139051743e-05, 'c': 28199.047029373713, 'epsilon': 0.8477433083638157}. Best is trial#54 with value: 2.4008977098957835.\u001b[0m\n",
      "\u001b[32m[I 2020-05-06 07:23:17,215]\u001b[0m Finished trial#72 with value: 2.532049811500404 with parameters: {'gamma': 4.355217557729813e-05, 'c': 8482.650021513451, 'epsilon': 0.9013110339884707}. Best is trial#54 with value: 2.4008977098957835.\u001b[0m\n",
      "\u001b[32m[I 2020-05-06 07:23:19,301]\u001b[0m Finished trial#73 with value: 2.488677142098257 with parameters: {'gamma': 4.5348902819713764e-05, 'c': 16175.069188302936, 'epsilon': 0.9452325153390014}. Best is trial#54 with value: 2.4008977098957835.\u001b[0m\n",
      "\u001b[32m[I 2020-05-06 07:23:21,287]\u001b[0m Finished trial#74 with value: 4.574679097386974 with parameters: {'gamma': 0.00031191956405021904, 'c': 29607.824252209564, 'epsilon': 0.9815916716786467}. Best is trial#54 with value: 2.4008977098957835.\u001b[0m\n",
      "\u001b[32m[I 2020-05-06 07:23:25,073]\u001b[0m Finished trial#75 with value: 2.8902574088624275 with parameters: {'gamma': 8.843128027208048e-05, 'c': 32487.29680517031, 'epsilon': 0.8988816783655934}. Best is trial#54 with value: 2.4008977098957835.\u001b[0m\n",
      "\u001b[32m[I 2020-05-06 07:23:26,052]\u001b[0m Finished trial#76 with value: 2.5173703022039113 with parameters: {'gamma': 4.554171994409251e-05, 'c': 12475.74768687641, 'epsilon': 0.7847224641502248}. Best is trial#54 with value: 2.4008977098957835.\u001b[0m\n",
      "\u001b[32m[I 2020-05-06 07:23:26,403]\u001b[0m Finished trial#77 with value: 2.6845416458656186 with parameters: {'gamma': 0.0001259621351234291, 'c': 2537.776709293187, 'epsilon': 0.8486207550777196}. Best is trial#54 with value: 2.4008977098957835.\u001b[0m\n",
      "\u001b[32m[I 2020-05-06 07:23:27,819]\u001b[0m Finished trial#78 with value: 2.5474777128082784 with parameters: {'gamma': 3.1069716194436835e-05, 'c': 20532.219767313592, 'epsilon': 0.9649522480038625}. Best is trial#54 with value: 2.4008977098957835.\u001b[0m\n",
      "\u001b[32m[I 2020-05-06 07:23:28,662]\u001b[0m Finished trial#79 with value: 2.5054655526722294 with parameters: {'gamma': 8.177994038906855e-05, 'c': 7426.954367676375, 'epsilon': 0.9400056370225691}. Best is trial#54 with value: 2.4008977098957835.\u001b[0m\n",
      "\u001b[32m[I 2020-05-06 07:23:29,423]\u001b[0m Finished trial#80 with value: 2.657951943491908 with parameters: {'gamma': 0.0001431216289316113, 'c': 4301.5652321104135, 'epsilon': 0.5267351037806818}. Best is trial#54 with value: 2.4008977098957835.\u001b[0m\n",
      "\u001b[32m[I 2020-05-06 07:23:30,052]\u001b[0m Finished trial#81 with value: 2.4867383366178486 with parameters: {'gamma': 3.276727173401944e-05, 'c': 10541.88494987445, 'epsilon': 0.9049969349021562}. Best is trial#54 with value: 2.4008977098957835.\u001b[0m\n",
      "\u001b[32m[I 2020-05-06 07:23:33,307]\u001b[0m Finished trial#82 with value: 2.4453735190758117 with parameters: {'gamma': 4.32364287447264e-05, 'c': 32197.62614608293, 'epsilon': 0.8690946937026964}. Best is trial#54 with value: 2.4008977098957835.\u001b[0m\n",
      "\u001b[32m[I 2020-05-06 07:23:35,453]\u001b[0m Finished trial#83 with value: 2.6652067316848442 with parameters: {'gamma': 7.543256157534098e-05, 'c': 23132.839051238283, 'epsilon': 0.817646134558816}. Best is trial#54 with value: 2.4008977098957835.\u001b[0m\n",
      "\u001b[32m[I 2020-05-06 07:23:37,064]\u001b[0m Finished trial#84 with value: 2.464166849128003 with parameters: {'gamma': 4.7844420476195215e-05, 'c': 18174.149980251022, 'epsilon': 0.8849070177907244}. Best is trial#54 with value: 2.4008977098957835.\u001b[0m\n",
      "\u001b[32m[I 2020-05-06 07:23:39,133]\u001b[0m Finished trial#85 with value: 2.472829578753189 with parameters: {'gamma': 4.887257994421565e-05, 'c': 16707.36509431947, 'epsilon': 0.8618999168760815}. Best is trial#54 with value: 2.4008977098957835.\u001b[0m\n",
      "\u001b[32m[I 2020-05-06 07:23:40,428]\u001b[0m Finished trial#86 with value: 2.5703597315944062 with parameters: {'gamma': 0.00011724175265257922, 'c': 7022.575702605659, 'epsilon': 0.7697801916292895}. Best is trial#54 with value: 2.4008977098957835.\u001b[0m\n",
      "\u001b[32m[I 2020-05-06 07:23:40,512]\u001b[0m Finished trial#87 with value: 5.773893860296823 with parameters: {'gamma': 1.0406515815892423, 'c': 14110.875551484001, 'epsilon': 0.8079831272169213}. Best is trial#54 with value: 2.4008977098957835.\u001b[0m\n",
      "\u001b[32m[I 2020-05-06 07:23:42,440]\u001b[0m Finished trial#88 with value: 2.456907024316958 with parameters: {'gamma': 5.373108100358639e-05, 'c': 22891.025588992878, 'epsilon': 0.7303659258818509}. Best is trial#54 with value: 2.4008977098957835.\u001b[0m\n",
      "\u001b[32m[I 2020-05-06 07:23:42,698]\u001b[0m Finished trial#89 with value: 3.475395040700945 with parameters: {'gamma': 0.0006844909695141937, 'c': 475.93830665008636, 'epsilon': 0.7127115390068102}. Best is trial#54 with value: 2.4008977098957835.\u001b[0m\n",
      "\u001b[32m[I 2020-05-06 07:23:43,056]\u001b[0m Finished trial#90 with value: 2.8040581735677463 with parameters: {'gamma': 0.00018271922124193937, 'c': 1783.7044231515488, 'epsilon': 0.5992762548909356}. Best is trial#54 with value: 2.4008977098957835.\u001b[0m\n",
      "\u001b[32m[I 2020-05-06 07:23:45,451]\u001b[0m Finished trial#91 with value: 2.460736536470803 with parameters: {'gamma': 5.4282229444641156e-05, 'c': 22405.17426654259, 'epsilon': 0.6398700260655584}. Best is trial#54 with value: 2.4008977098957835.\u001b[0m\n",
      "\u001b[32m[I 2020-05-06 07:23:47,838]\u001b[0m Finished trial#92 with value: 2.4576439240937193 with parameters: {'gamma': 5.384125677204953e-05, 'c': 22553.01452258076, 'epsilon': 0.6310528944688996}. Best is trial#54 with value: 2.4008977098957835.\u001b[0m\n",
      "\u001b[32m[I 2020-05-06 07:23:49,566]\u001b[0m Finished trial#93 with value: 2.477205171599508 with parameters: {'gamma': 5.736041872505325e-05, 'c': 20335.09251874163, 'epsilon': 0.6398826098794226}. Best is trial#54 with value: 2.4008977098957835.\u001b[0m\n",
      "\u001b[32m[I 2020-05-06 07:23:49,651]\u001b[0m Finished trial#94 with value: 3.78911661781459 with parameters: {'gamma': 7.936204063299753e-05, 'c': 20.54129724372569, 'epsilon': 0.6730892325166113}. Best is trial#54 with value: 2.4008977098957835.\u001b[0m\n",
      "\u001b[32m[I 2020-05-06 07:23:51,061]\u001b[0m Finished trial#95 with value: 3.879776225517002 with parameters: {'gamma': 0.0002883684507753895, 'c': 9364.655747935178, 'epsilon': 0.6862834639250267}. Best is trial#54 with value: 2.4008977098957835.\u001b[0m\n",
      "\u001b[32m[I 2020-05-06 07:23:51,607]\u001b[0m Finished trial#96 with value: 2.5049978440001475 with parameters: {'gamma': 5.187235311633975e-05, 'c': 5554.762650305656, 'epsilon': 0.6311017507221032}. Best is trial#54 with value: 2.4008977098957835.\u001b[0m\n",
      "\u001b[32m[I 2020-05-06 07:23:53,229]\u001b[0m Finished trial#97 with value: 2.4995007848177226 with parameters: {'gamma': 7.013817045982808e-05, 'c': 13869.33468294479, 'epsilon': 0.7196860466449067}. Best is trial#54 with value: 2.4008977098957835.\u001b[0m\n",
      "\u001b[32m[I 2020-05-06 07:23:56,965]\u001b[0m Finished trial#98 with value: 2.9652757829090644 with parameters: {'gamma': 0.00010497192829835871, 'c': 23423.556543583512, 'epsilon': 0.5771175887539516}. Best is trial#54 with value: 2.4008977098957835.\u001b[0m\n",
      "\u001b[32m[I 2020-05-06 07:23:58,909]\u001b[0m Finished trial#99 with value: 2.4690105000761053 with parameters: {'gamma': 5.078656870646075e-05, 'c': 17640.97825521438, 'epsilon': 0.7398650460767932}. Best is trial#54 with value: 2.4008977098957835.\u001b[0m\n",
      "\u001b[32m[I 2020-05-06 07:23:59,480]\u001b[0m Finished trial#100 with value: 2.8274010286779254 with parameters: {'gamma': 0.00022965374246610817, 'c': 3340.002168759434, 'epsilon': 0.5316937704913147}. Best is trial#54 with value: 2.4008977098957835.\u001b[0m\n",
      "\u001b[32m[I 2020-05-06 07:24:02,992]\u001b[0m Finished trial#101 with value: 2.411206419198478 with parameters: {'gamma': 3.874156429611486e-05, 'c': 32532.26758322353, 'epsilon': 0.6415139613081959}. Best is trial#54 with value: 2.4008977098957835.\u001b[0m\n"
     ]
    },
    {
     "name": "stderr",
     "output_type": "stream",
     "text": [
      "\u001b[32m[I 2020-05-06 07:24:04,965]\u001b[0m Finished trial#102 with value: 2.4115188486434693 with parameters: {'gamma': 4.04467357615737e-05, 'c': 25161.863137888027, 'epsilon': 0.6044605150380016}. Best is trial#54 with value: 2.4008977098957835.\u001b[0m\n",
      "\u001b[32m[I 2020-05-06 07:24:07,960]\u001b[0m Finished trial#103 with value: 2.5956671494586216 with parameters: {'gamma': 6.739598352498436e-05, 'c': 24728.11439962013, 'epsilon': 0.6143921981924532}. Best is trial#54 with value: 2.4008977098957835.\u001b[0m\n",
      "\u001b[32m[I 2020-05-06 07:24:11,002]\u001b[0m Finished trial#104 with value: 2.4055954653150904 with parameters: {'gamma': 3.787579790066236e-05, 'c': 32357.341301789784, 'epsilon': 0.5854429806111348}. Best is trial#54 with value: 2.4008977098957835.\u001b[0m\n",
      "\u001b[32m[I 2020-05-06 07:24:14,428]\u001b[0m Finished trial#105 with value: 2.4153958065455745 with parameters: {'gamma': 3.9145702231048015e-05, 'c': 32723.873092543137, 'epsilon': 0.6454990981164679}. Best is trial#54 with value: 2.4008977098957835.\u001b[0m\n",
      "\u001b[32m[I 2020-05-06 07:24:14,512]\u001b[0m Finished trial#106 with value: 4.378939695300501 with parameters: {'gamma': 3.967481275143431e-05, 'c': 3.0111861330696277, 'epsilon': 0.5867474320272206}. Best is trial#54 with value: 2.4008977098957835.\u001b[0m\n",
      "\u001b[32m[I 2020-05-06 07:24:18,514]\u001b[0m Finished trial#107 with value: 2.7421518848765425 with parameters: {'gamma': 7.484304487718773e-05, 'c': 32236.69334697858, 'epsilon': 0.5413315607150527}. Best is trial#54 with value: 2.4008977098957835.\u001b[0m\n",
      "\u001b[32m[I 2020-05-06 07:24:20,334]\u001b[0m Finished trial#108 with value: 2.682763165885782 with parameters: {'gamma': 0.00010374518888758545, 'c': 12031.73270130594, 'epsilon': 0.5938088503741131}. Best is trial#54 with value: 2.4008977098957835.\u001b[0m\n",
      "\u001b[32m[I 2020-05-06 07:24:20,411]\u001b[0m Finished trial#109 with value: 5.323103108904743 with parameters: {'gamma': 3.852617944190004e-05, 'c': 0.03135054611119344, 'epsilon': 0.6883177564262786}. Best is trial#54 with value: 2.4008977098957835.\u001b[0m\n",
      "\u001b[32m[I 2020-05-06 07:24:20,510]\u001b[0m Finished trial#110 with value: 3.989508556256387 with parameters: {'gamma': 0.010406024980652446, 'c': 26560.136754791507, 'epsilon': 0.6526102309073474}. Best is trial#54 with value: 2.4008977098957835.\u001b[0m\n",
      "\u001b[32m[I 2020-05-06 07:24:22,976]\u001b[0m Finished trial#111 with value: 2.503369099416927 with parameters: {'gamma': 5.643829184493791e-05, 'c': 24260.007775165555, 'epsilon': 0.6415104816021193}. Best is trial#54 with value: 2.4008977098957835.\u001b[0m\n",
      "\u001b[32m[I 2020-05-06 07:24:23,433]\u001b[0m Finished trial#112 with value: 4.68817538527752 with parameters: {'gamma': 0.002095745941507193, 'c': 31867.879484738638, 'epsilon': 0.6187107591124743}. Best is trial#54 with value: 2.4008977098957835.\u001b[0m\n",
      "\u001b[32m[I 2020-05-06 07:24:24,808]\u001b[0m Finished trial#113 with value: 2.425772670989127 with parameters: {'gamma': 3.86652620438801e-05, 'c': 15440.859119175888, 'epsilon': 0.5070945658017914}. Best is trial#54 with value: 2.4008977098957835.\u001b[0m\n",
      "\u001b[32m[I 2020-05-06 07:24:26,112]\u001b[0m Finished trial#114 with value: 2.463941106346161 with parameters: {'gamma': 3.938256416302985e-05, 'c': 14765.084561090855, 'epsilon': 0.6796736569399452}. Best is trial#54 with value: 2.4008977098957835.\u001b[0m\n",
      "\u001b[32m[I 2020-05-06 07:24:26,203]\u001b[0m Finished trial#115 with value: 5.358850168432495 with parameters: {'gamma': 0.11110904761685583, 'c': 17590.753318168805, 'epsilon': 0.10466535556370771}. Best is trial#54 with value: 2.4008977098957835.\u001b[0m\n",
      "\u001b[32m[I 2020-05-06 07:24:29,079]\u001b[0m Finished trial#116 with value: 2.400558657952 with parameters: {'gamma': 3.144654909361702e-05, 'c': 32562.04113381643, 'epsilon': 0.5496561572258479}. Best is trial#116 with value: 2.400558657952.\u001b[0m\n",
      "\u001b[32m[I 2020-05-06 07:24:30,074]\u001b[0m Finished trial#117 with value: 2.349490664032069 with parameters: {'gamma': 3.0982114295492385e-05, 'c': 11543.43684801506, 'epsilon': 0.49201377274029967}. Best is trial#117 with value: 2.349490664032069.\u001b[0m\n",
      "\u001b[32m[I 2020-05-06 07:24:30,703]\u001b[0m Finished trial#118 with value: 2.371502364448147 with parameters: {'gamma': 3.181110145262195e-05, 'c': 7735.74180528595, 'epsilon': 0.47506045469258484}. Best is trial#117 with value: 2.349490664032069.\u001b[0m\n",
      "\u001b[32m[I 2020-05-06 07:24:31,179]\u001b[0m Finished trial#119 with value: 2.412726345883285 with parameters: {'gamma': 3.487804321376968e-05, 'c': 6650.971290543629, 'epsilon': 0.46892264217480784}. Best is trial#117 with value: 2.349490664032069.\u001b[0m\n",
      "\u001b[32m[I 2020-05-06 07:24:31,974]\u001b[0m Finished trial#120 with value: 2.3711245906791345 with parameters: {'gamma': 3.056510505798034e-05, 'c': 7889.578121779176, 'epsilon': 0.4583651155944216}. Best is trial#117 with value: 2.349490664032069.\u001b[0m\n",
      "\u001b[32m[I 2020-05-06 07:24:32,696]\u001b[0m Finished trial#121 with value: 2.382515933720506 with parameters: {'gamma': 3.087715360143284e-05, 'c': 7477.010156396152, 'epsilon': 0.4165732286821957}. Best is trial#117 with value: 2.349490664032069.\u001b[0m\n",
      "\u001b[32m[I 2020-05-06 07:24:33,033]\u001b[0m Finished trial#122 with value: 2.570658065161671 with parameters: {'gamma': 3.19195230672378e-05, 'c': 4052.013213615307, 'epsilon': 0.40693786756865435}. Best is trial#117 with value: 2.349490664032069.\u001b[0m\n",
      "\u001b[32m[I 2020-05-06 07:24:33,638]\u001b[0m Finished trial#123 with value: 2.3994418482000124 with parameters: {'gamma': 3.202946578550331e-05, 'c': 6975.499278192053, 'epsilon': 0.4525331552331143}. Best is trial#117 with value: 2.349490664032069.\u001b[0m\n",
      "\u001b[32m[I 2020-05-06 07:24:34,437]\u001b[0m Finished trial#124 with value: 2.3946960919026323 with parameters: {'gamma': 3.056870748065837e-05, 'c': 7426.702643549165, 'epsilon': 0.4683209592270509}. Best is trial#117 with value: 2.349490664032069.\u001b[0m\n"
     ]
    }
   ],
   "source": [
    "def objective(trial):\n",
    "    c = trial.suggest_loguniform('c', 2**(-5),  2**15)\n",
    "    gamma = trial.suggest_loguniform('gamma', 2**(-15),  2**3)    \n",
    "    epsilon = trial.suggest_uniform('epsilon', 0.05,  1.0)\n",
    "    \n",
    "    svr  = SVR(kernel='rbf', C=c, gamma=gamma, epsilon=epsilon)\n",
    "    svr.fit(x_treino, y_treino)\n",
    "    \n",
    "    pred = svr.predict(x_teste)\n",
    "    mae = metrics.mean_absolute_error(y_true=y_teste, y_pred=pred)\n",
    "    \n",
    "    return mae\n",
    "\n",
    "study = optuna.create_study()\n",
    "study.optimize(objective, n_trials=125)\n"
   ]
  },
  {
   "cell_type": "markdown",
   "metadata": {},
   "source": [
    "Logo, como resultado os melhores parâmetros encontrados durante a busca são mostrados:"
   ]
  },
  {
   "cell_type": "code",
   "execution_count": 16,
   "metadata": {},
   "outputs": [
    {
     "data": {
      "text/plain": [
       "{'c': 11543.43684801506,\n",
       " 'epsilon': 0.49201377274029967,\n",
       " 'gamma': 3.0982114295492385e-05}"
      ]
     },
     "execution_count": 16,
     "metadata": {},
     "output_type": "execute_result"
    }
   ],
   "source": [
    "study.best_params"
   ]
  },
  {
   "cell_type": "markdown",
   "metadata": {},
   "source": [
    "Bem como o resultado para o  erro absoluto médio (MAE) no conjunto de teste com esses parâmetros:"
   ]
  },
  {
   "cell_type": "code",
   "execution_count": 17,
   "metadata": {},
   "outputs": [
    {
     "data": {
      "text/plain": [
       "2.349490664032069"
      ]
     },
     "execution_count": 17,
     "metadata": {},
     "output_type": "execute_result"
    }
   ],
   "source": [
    "study.best_value"
   ]
  },
  {
   "cell_type": "code",
   "execution_count": null,
   "metadata": {},
   "outputs": [],
   "source": []
  }
 ],
 "metadata": {
  "kernelspec": {
   "display_name": "Python 3",
   "language": "python",
   "name": "python3"
  },
  "language_info": {
   "codemirror_mode": {
    "name": "ipython",
    "version": 3
   },
   "file_extension": ".py",
   "mimetype": "text/x-python",
   "name": "python",
   "nbconvert_exporter": "python",
   "pygments_lexer": "ipython3",
   "version": "3.5.6"
  }
 },
 "nbformat": 4,
 "nbformat_minor": 4
}
