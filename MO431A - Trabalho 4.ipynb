{
 "cells": [
  {
   "cell_type": "markdown",
   "metadata": {},
   "source": [
    "Neste trabalho iremos fazer a busca dos melhores hiperparametros de uma SVM para Regressão num banco de dados em particular. Para o desenvolvimento utilizaremos a biblioteca sklearn.svm que apresenta a função  SVR() que implementa o regressor SVM e tem vários hiperparametros.\n",
    "Vamos usar o kernel “rbf”, havendo 3 hiperparametros que consideramos como os mais importantes: C, gamma, e epsilon.\n",
    "\n",
    "Vamos fazer a busca no range:\n",
    "    - C entre 2^{-5} e 2^{15}  (uniforme nos expoentes);\n",
    "    - gamma entre 2^{15} e 2^{-3} (uniforme nos expoentes);\n",
    "    - episolon entre 0.05 e 10  (uniforme neste intervalo);\n",
    "    \n",
    "Utilizamos como dados de treino e testes os arquivos Xtreino5.npy e Xteste5.npy. Para as sáidas dos dados correspondenetres usamos os arquivos ytreino5.npy e yteste5.npy. Todos os arquivos foram disponibilizados na página no trabalho https://www.ic.unicamp.br/~wainer/cursos/1s2020/431/ex4.html."
   ]
  },
  {
   "cell_type": "markdown",
   "metadata": {},
   "source": [
    "### Importação das Bibliotecas"
   ]
  },
  {
   "cell_type": "markdown",
   "metadata": {},
   "source": [
    "Como primeiro passo, importamos as bibliotecas necessárias para a implementação desse trabalho: numpy e sklearn.svm."
   ]
  },
  {
   "cell_type": "code",
   "execution_count": 1,
   "metadata": {},
   "outputs": [],
   "source": [
    "import numpy as np\n",
    "from sklearn.svm import SVR\n",
    "from sklearn.model_selection import RandomizedSearchCV, GridSearchCV\n",
    "from sklearn import metrics\n",
    "import pyspark\n",
    "from hyperopt import fmin, tpe, hp, SparkTrials, STATUS_OK, Trials\n",
    "from sklearn.model_selection import cross_val_score\n",
    "\n",
    "from pyswarm import pso\n",
    "from simanneal import Annealer\n",
    "import optuna\n",
    "from scipy.stats import loguniform\n",
    "import random"
   ]
  },
  {
   "cell_type": "markdown",
   "metadata": {},
   "source": [
    "### Leitura e Exibição dos arquivos"
   ]
  },
  {
   "cell_type": "markdown",
   "metadata": {},
   "source": [
    "Após importamos as bibliotecas necessárias, realizamos a leitura dos arquivos .npy disponibilizados para uso neste trabalho. Para isso fizemos uso da função load() da biblioteca numpy. Armazenamos cada um dos arquivos de treino e de teste em variáveis locais."
   ]
  },
  {
   "cell_type": "code",
   "execution_count": 2,
   "metadata": {},
   "outputs": [],
   "source": [
    "x_treino = np.load('data/Xtreino5.npy')\n",
    "x_teste = np.load('data/Xteste5.npy')\n",
    "y_treino = np.load('data/ytreino5.npy')\n",
    "y_teste = np.load('data/yteste5.npy')"
   ]
  },
  {
   "cell_type": "markdown",
   "metadata": {},
   "source": [
    "### Medida de erro"
   ]
  },
  {
   "cell_type": "markdown",
   "metadata": {},
   "source": [
    "Como primeira tarefa, para cada conjunto de hiperparametros, treinamos o SVM no conjunto de treino (Xtreino e ytreino), e medimos o erro absoluto médio (MAE) no conjunto de teste (Xteste e yteste)."
   ]
  },
  {
   "cell_type": "markdown",
   "metadata": {},
   "source": [
    "## Randomized Search"
   ]
  },
  {
   "cell_type": "code",
   "execution_count": 3,
   "metadata": {},
   "outputs": [],
   "source": [
    "n_combinations = 125\n",
    "\n",
    "# Hyperparameters Search Space\n",
    "C_range = np.random.uniform(-5, 15, n_combinations).astype(float)\n",
    "C_range = 2**C_range\n",
    "\n",
    "# C_range = loguniform(2**-5, 2**15).rvs(size=n_combinations)\n",
    "\n",
    "gamma_range = np.random.uniform(-15, 3, n_combinations).astype(float)\n",
    "gamma_range = 2**gamma_range\n",
    "\n",
    "# gamma_range = loguniform(2**-15, 2** 3).rvs(size=n_combinations)\n",
    "\n",
    "epsilon_range = np.random.uniform(0.05, 1.0, n_combinations).astype(float)\n",
    "\n",
    " \n",
    "hyperparameters = {'gamma': list(gamma_range), \n",
    "                    'C': list(C_range),\n",
    "                  'epsilon': list(epsilon_range)}\n",
    " \n",
    "# print (hyperparameters)"
   ]
  },
  {
   "cell_type": "code",
   "execution_count": 4,
   "metadata": {},
   "outputs": [
    {
     "name": "stdout",
     "output_type": "stream",
     "text": [
      "The best performing C value is: 203.58\n",
      "The best performing gamma value is: 0.00004\n",
      "The best performing epsilon value is:  0.10\n"
     ]
    }
   ],
   "source": [
    "# Run randomized search\n",
    "randomCV = RandomizedSearchCV(SVR(kernel='rbf'), param_distributions=hyperparameters, n_iter=20)\n",
    "randomCV.fit(x_treino, y_treino)\n",
    " \n",
    "# Identify optimal hyperparameter values\n",
    "best_gamma  = randomCV.best_params_['gamma']\n",
    "best_C      = randomCV.best_params_['C']\n",
    "best_epsilon= randomCV.best_params_['epsilon']\n",
    "\n",
    "print(\"The best performing C value is: {:5.2f}\".format(best_C))\n",
    "print(\"The best performing gamma value is: {:5.5f}\".format(best_gamma))\n",
    "print(\"The best performing epsilon value is: {:5.2f}\".format(best_epsilon))\n"
   ]
  },
  {
   "cell_type": "code",
   "execution_count": 5,
   "metadata": {},
   "outputs": [
    {
     "name": "stdout",
     "output_type": "stream",
     "text": [
      "MAE:  3.5179791474928157\n"
     ]
    }
   ],
   "source": [
    "# Validation\n",
    "\n",
    "svr  = SVR(kernel='rbf', gamma=best_gamma, epsilon=best_epsilon, C=best_C)\n",
    "svr.fit(x_treino, y_treino)\n",
    "\n",
    "pred = svr.predict(x_teste)\n",
    "\n",
    "# print(regression.score(x_teste, y_teste))\n",
    "print(\"MAE: \", metrics.mean_absolute_error(y_true=y_teste, y_pred=pred))"
   ]
  },
  {
   "cell_type": "markdown",
   "metadata": {},
   "source": [
    "### Grid seach"
   ]
  },
  {
   "cell_type": "markdown",
   "metadata": {},
   "source": [
    "O próximo algoritimo de otimização proposto foi o Grid Search. Seguindo a especificação de uma busca em uma grid de 5x5x5, amostras do range de busca foram tomadas:"
   ]
  },
  {
   "cell_type": "code",
   "execution_count": 26,
   "metadata": {},
   "outputs": [],
   "source": [
    "# Hyperparameters Search Space\n",
    "n_combinations = 5\n",
    "\n",
    "# Taken 5 samples randomly\n",
    "grid_c = random.sample(list(C_range), k=n_combinations)\n",
    "grid_gamma = random.sample(list(gamma_range), k=n_combinations)\n",
    "grid_episolon = random.sample(list(epsilon_range), k=n_combinations)\n",
    "\n",
    "# The best performing gamma value is: 0.00021\n",
    "# The best performing C value is: 1425.76\n",
    "# The best performing epsilon value is:  0.91\n",
    "\n",
    "# Generate a uniform distribution with 5 elements\n",
    "# grid_c = np.random.uniform(-5, 15, n_combinations).astype(float)\n",
    "# grid_c = 2**grid_c\n",
    "\n",
    "# grid_gamma = np.random.uniform(-15, 3, n_combinations).astype(float)\n",
    "# grid_gamma = 2**grid_gamma\n",
    "\n",
    "# grid_episolon = np.random.uniform(0.05, 1.0, n_combinations).astype(float)\n",
    "\n",
    "# The best performing gamma value is: 0.01466\n",
    "# The best performing C value is: 593.42\n",
    "# The best performing epsilon value is:  0.16\n",
    "\n",
    "hyperparameters_grid = {'gamma': list(grid_gamma), \n",
    "                        'C': list(grid_c),\n",
    "                        'epsilon': list(grid_episolon)}"
   ]
  },
  {
   "cell_type": "code",
   "execution_count": 27,
   "metadata": {},
   "outputs": [
    {
     "name": "stdout",
     "output_type": "stream",
     "text": [
      "The best performing gamma value is: 0.00021\n",
      "The best performing C value is: 1425.76\n",
      "The best performing epsilon value is:  0.91\n"
     ]
    }
   ],
   "source": [
    "# Run Grid Search\n",
    "randomCV = GridSearchCV(SVR(kernel='rbf'), param_grid=hyperparameters_grid, cv = 5)\n",
    "randomCV.fit(x_treino, y_treino)\n",
    " \n",
    "# Identify optimal hyperparameter values\n",
    "best_gamma  = randomCV.best_params_['gamma']\n",
    "best_C      = randomCV.best_params_['C']\n",
    "best_epsilon= randomCV.best_params_['epsilon']\n",
    " \n",
    "print(\"The best performing gamma value is: {:5.5f}\".format(best_gamma))\n",
    "print(\"The best performing C value is: {:5.2f}\".format(best_C))\n",
    "print(\"The best performing epsilon value is: {:5.2f}\".format(best_epsilon))"
   ]
  },
  {
   "cell_type": "code",
   "execution_count": 8,
   "metadata": {},
   "outputs": [
    {
     "name": "stdout",
     "output_type": "stream",
     "text": [
      "MAE:  3.125782711726864\n"
     ]
    }
   ],
   "source": [
    "# Validation\n",
    "\n",
    "svr  = SVR(kernel='rbf', gamma=best_gamma, epsilon=best_epsilon, C=best_C)\n",
    "svr.fit(x_treino, y_treino)\n",
    "\n",
    "pred = svr.predict(x_teste)\n",
    "\n",
    "# print(regression.score(x_teste, y_teste))\n",
    "print(\"MAE: \", metrics.mean_absolute_error(y_true=y_teste, y_pred=pred))"
   ]
  },
  {
   "cell_type": "markdown",
   "metadata": {},
   "source": [
    "### Otimização bayesiana"
   ]
  },
  {
   "cell_type": "markdown",
   "metadata": {},
   "source": [
    "Outro algoritimo proposto foi a otimização bayesiana. Para a sua implementação utilziamos a biblioteca hyperopt, que dispnibiliza O regressor (TPE) para modelar a distribuição de probabilidades que é muito mais rápido que a implementação padrão utilizando “processos gaussianos”.\n",
    "\n",
    "Esta implementação foi feita em passos:"
   ]
  },
  {
   "cell_type": "markdown",
   "metadata": {},
   "source": [
    "### Definir a Função de mínimo"
   ]
  },
  {
   "cell_type": "markdown",
   "metadata": {},
   "source": [
    "Como queremos pesquisar por Support Vector Machines (SVM), definimos um parâmetro params ['type'] como o nome do modelo, e uma função para executar o treinamento e retornar a precisão da validação cruzada. \n",
    "Como estamos tentando maximizar a precisão da validação cruzada, devemos negar esse valor para o hyperopt, pois o hyperopt sabe apenas como minimizar uma função."
   ]
  },
  {
   "cell_type": "code",
   "execution_count": 9,
   "metadata": {},
   "outputs": [],
   "source": [
    "def get_acc_status(clf,X_,y):\n",
    "    acc = cross_val_score(clf, X_, y, cv=5).mean()\n",
    "    return {'loss': -acc, 'status': STATUS_OK}"
   ]
  },
  {
   "cell_type": "code",
   "execution_count": 10,
   "metadata": {},
   "outputs": [],
   "source": [
    "def objective(params):\n",
    "    classifier_type = params['type']\n",
    "    del params['type']\n",
    "    if classifier_type == 'svm':\n",
    "        clf = SVR(**params)\n",
    "    else:\n",
    "        return 0\n",
    "    accuracy = cross_val_score(clf, x_treino, y_treino).mean()\n",
    "    \n",
    "    return {'loss': -accuracy, 'status': STATUS_OK}"
   ]
  },
  {
   "cell_type": "markdown",
   "metadata": {},
   "source": [
    "### Definir espaço de pesquisa sobre os hiperparâmetros"
   ]
  },
  {
   "cell_type": "code",
   "execution_count": 11,
   "metadata": {},
   "outputs": [],
   "source": [
    "search_space = hp.choice('classifier_type', [\n",
    "    {\n",
    "        'type': 'svm',\n",
    "        'C': hp.uniform('C', (2**-5), (2**15)),\n",
    "        'gamma': hp.uniform('gamma', (2**-15), (2**3)),\n",
    "        'epsilon': hp.uniform('epsilon', 0.05, 1.0),\n",
    "        'kernel': hp.choice('kernel', ['rbf'])\n",
    "    },\n",
    "])"
   ]
  },
  {
   "cell_type": "markdown",
   "metadata": {},
   "source": [
    "### Selecionar um algoritimo de busca"
   ]
  },
  {
   "cell_type": "markdown",
   "metadata": {},
   "source": [
    "As duas opções principais de algoritmos de busca são:\n",
    "\n",
    "    - hyperopt.tpe.suggest: Estimadores da Árvore de Parzen, uma abordagem bayesiana que seleciona iterativa e adaptativamente novas configurações de hiperparâmetro para explorar com base em resultados anteriores;\n",
    "    - hyperopt.rand.suggest: Pesquisa aleatória, uma abordagem não adaptativa que mostra o espaço de pesquisa.\n",
    "    \n",
    "Conforme pedido, utilziamos o algoritimo TPE."
   ]
  },
  {
   "cell_type": "markdown",
   "metadata": {},
   "source": [
    "### Executar o algoritmo de ajuste com hyperopt fmin ()"
   ]
  },
  {
   "cell_type": "markdown",
   "metadata": {},
   "source": [
    "Definimos max_evals como o número máximo de pontos no espaço do hiperparâmetro para testar, ou seja, o número máximo de modelos para ajustar e avaliar.\n",
    "\n",
    "O SparkTrials usa 2 argumentos:\n",
    "    - parallelism: Número de modelos para ajustar e avaliar simultaneamente.\n",
    "    - timeout: tempo máximo (em segundos) que fmin pode demorar. Este argumento é opcional.\n",
    "\n",
    "O rastreamento automatizado do MLflow está ativado por padrão. Ligue para mlflow.start_run () antes de chamar fmin (), como mostra o exemplo abaixo."
   ]
  },
  {
   "cell_type": "code",
   "execution_count": 12,
   "metadata": {},
   "outputs": [
    {
     "name": "stdout",
     "output_type": "stream",
     "text": [
      "100%|██████████| 125/125 [00:10<00:00, 12.12trial/s, best loss: -0.5333664926129773]\n",
      "The best performing gamma value is: 0.00405\n",
      "The best performing C value is: 1439.71\n",
      "The best performing epsilon value is:  0.89\n"
     ]
    }
   ],
   "source": [
    "hypopt_trials = Trials()\n",
    " \n",
    "best_params = fmin(objective, search_space, algo=tpe.suggest, \n",
    "max_evals=125, trials= hypopt_trials)\n",
    " \n",
    "best_gamma  = best_params['gamma']\n",
    "best_C      = best_params['C']\n",
    "best_epsilon= best_params['epsilon']\n",
    " \n",
    "print(\"The best performing gamma value is: {:5.5f}\".format(best_gamma))\n",
    "print(\"The best performing C value is: {:5.2f}\".format(best_C))\n",
    "print(\"The best performing epsilon value is: {:5.2f}\".format(best_epsilon))"
   ]
  },
  {
   "cell_type": "code",
   "execution_count": 13,
   "metadata": {},
   "outputs": [
    {
     "name": "stdout",
     "output_type": "stream",
     "text": [
      "MAE:  4.1689907232274175\n"
     ]
    }
   ],
   "source": [
    "# Validation\n",
    "\n",
    "svr  = SVR(kernel='rbf', gamma=best_gamma, epsilon=best_epsilon, C=best_C)\n",
    "svr.fit(x_treino, y_treino)\n",
    "\n",
    "pred = svr.predict(x_teste)\n",
    "\n",
    "# print(regression.score(x_teste, y_teste))\n",
    "print(\"MAE: \", metrics.mean_absolute_error(y_true=y_teste, y_pred=pred))"
   ]
  },
  {
   "cell_type": "markdown",
   "metadata": {},
   "source": [
    "## PSO"
   ]
  },
  {
   "cell_type": "code",
   "execution_count": 14,
   "metadata": {},
   "outputs": [
    {
     "name": "stdout",
     "output_type": "stream",
     "text": [
      "PSO...\n",
      "Stopping search: maximum iterations reached --> 11\n",
      " C optimal: 11310.702824752187\n",
      " Gamma Optimal: 3.0517578125e-05\n",
      " Epsilon Optimal: 0.31212512970162964\n",
      "MAE:  2.294919070973627\n"
     ]
    }
   ],
   "source": [
    "# PARAMETERS\n",
    "C_MIN = 2**(-5)\n",
    "C_MAX = 2**15\n",
    "\n",
    "GAMMA_MIN = 2**(-15)\n",
    "GAMMA_MAX = 2**3\n",
    "\n",
    "EPSILON_MIN = 0.05\n",
    "EPSILON_MAX = 1.0\n",
    "\n",
    "lb = np.array([C_MIN, GAMMA_MIN, EPSILON_MIN])\n",
    "ub = np.array([C_MAX, GAMMA_MAX, EPSILON_MAX])\n",
    "\n",
    "# FUNCTION\n",
    "def svr_fun(X):\n",
    "    c = X[0]\n",
    "    g = X[1]\n",
    "    eps = X[2]\n",
    "    \n",
    "    svr  = SVR(kernel='rbf', C=c, gamma=g, epsilon=eps)\n",
    "    svr.fit(x_treino, y_treino)\n",
    "    \n",
    "    pred = svr.predict(x_teste)\n",
    "    mae = metrics.mean_absolute_error(y_true=y_teste, y_pred=pred)\n",
    "    \n",
    "    return mae\n",
    "\n",
    "print(\"PSO...\")\n",
    "x_opt, y_opt = pso(svr_fun, lb, ub, swarmsize=11, maxiter=11)\n",
    "\n",
    "print(\" C optimal: \"+ str(x_opt[0])+\n",
    "     \"\\n Gamma Optimal: \"+ str(x_opt[1])+\n",
    "     \"\\n Epsilon Optimal: \"+ str(x_opt[2]))\n",
    "print(\"MAE: \", str(y_opt))"
   ]
  },
  {
   "cell_type": "markdown",
   "metadata": {},
   "source": [
    "## Simulated Annealing"
   ]
  },
  {
   "cell_type": "markdown",
   "metadata": {},
   "source": [
    "Para a implementação dos Métodos de Simmulate Annealing e CMA-ES foi utilizado a biblioteca optuna.\n",
    "\n",
    "Para o método de Simulated Annealing a biblioteca fornece uma implementação via classe através dos chamados \"samplers\" para determinar os valores dos parâmetros a serem avaliados durante o teste. Para o Simmulated Annealing o sampler é implementado via classe explicitamente (vale ressaltar que estamos utilizando a implementação proposta pela própria documentação)."
   ]
  },
  {
   "cell_type": "code",
   "execution_count": 15,
   "metadata": {},
   "outputs": [],
   "source": [
    "class SimulatedAnnealingSampler(optuna.samplers.BaseSampler):\n",
    "    def __init__(self, temperature=100):\n",
    "        self._rng = np.random.RandomState()\n",
    "        self._temperature = temperature  # Current temperature.\n",
    "        self._current_trial = None  # Current state.\n",
    "\n",
    "    def sample_relative(self, study, trial, search_space):\n",
    "        if search_space == {}:\n",
    "            return {}\n",
    "\n",
    "        #\n",
    "        # An implementation of SA algorithm.\n",
    "        #\n",
    "\n",
    "        # Calculate transition probability.\n",
    "        prev_trial = study.trials[-2]\n",
    "        if self._current_trial is None or prev_trial.value <= self._current_trial.value:\n",
    "            probability = 1.0\n",
    "        else:\n",
    "            probability = np.exp((self._current_trial.value - prev_trial.value) / self._temperature)\n",
    "        self._temperature *= 0.9  # Decrease temperature.\n",
    "\n",
    "        # Transit the current state if the previous result is accepted.\n",
    "        if self._rng.uniform(0, 1) < probability:\n",
    "            self._current_trial = prev_trial\n",
    "\n",
    "        # Sample parameters from the neighborhood of the current point.\n",
    "        #\n",
    "        # The sampled parameters will be used during the next execution of\n",
    "        # the objective function passed to the study.\n",
    "        params = {}\n",
    "        for param_name, param_distribution in search_space.items():\n",
    "            if not isinstance(param_distribution, optuna.distributions.UniformDistribution):\n",
    "                raise NotImplementedError('Only suggest_uniform() is supported')\n",
    "\n",
    "            current_value = self._current_trial.params[param_name]\n",
    "            width = (param_distribution.high - param_distribution.low) * 0.1\n",
    "            neighbor_low = max(current_value - width, param_distribution.low)\n",
    "            neighbor_high = min(current_value + width, param_distribution.high)\n",
    "            params[param_name] = self._rng.uniform(neighbor_low, neighbor_high)\n",
    "\n",
    "        return params\n",
    "\n",
    "    #\n",
    "    # The rest is boilerplate code and unrelated to SA algorithm.\n",
    "    #\n",
    "    def infer_relative_search_space(self, study, trial):\n",
    "        return optuna.samplers.intersection_search_space(study)\n",
    "\n",
    "    def sample_independent(self, study, trial, param_name, param_distribution):\n",
    "        independent_sampler = optuna.samplers.RandomSampler()\n",
    "        return independent_sampler.sample_independent(study, trial, param_name, param_distribution)\n",
    "\n",
    "\n",
    "\n"
   ]
  },
  {
   "cell_type": "markdown",
   "metadata": {},
   "source": [
    "Por fim o é necessário criar uma função objetivo a qual deseja-se otimizar, em nosso caso procuramos minimizar o Erro Médio Absoluto (MAE) com uma validação no conjunto de testes da aplicação dos hyperparâmetros encontrados para o problema do SVM Regressor."
   ]
  },
  {
   "cell_type": "code",
   "execution_count": 16,
   "metadata": {},
   "outputs": [
    {
     "name": "stderr",
     "output_type": "stream",
     "text": [
      "\u001b[32m[I 2020-05-06 08:35:33,214]\u001b[0m Finished trial#0 with value: 5.779741223206209 with parameters: {'gamma': 7.922091409550109, 'c': 23164.392036329296, 'epsilon': 0.9063545432872883}. Best is trial#0 with value: 5.779741223206209.\u001b[0m\n",
      "\u001b[32m[I 2020-05-06 08:35:33,313]\u001b[0m Finished trial#1 with value: 5.778987068264555 with parameters: {'gamma': 7.893022210570613, 'c': 24308.26755972299, 'epsilon': 0.8860306004199994}. Best is trial#1 with value: 5.778987068264555.\u001b[0m\n",
      "\u001b[32m[I 2020-05-06 08:35:33,399]\u001b[0m Finished trial#2 with value: 5.777997028769795 with parameters: {'gamma': 7.204369796172042, 'c': 22932.282935682775, 'epsilon': 0.8631791868499427}. Best is trial#2 with value: 5.777997028769795.\u001b[0m\n",
      "\u001b[32m[I 2020-05-06 08:35:33,487]\u001b[0m Finished trial#3 with value: 5.777047263160402 with parameters: {'gamma': 7.724072788773284, 'c': 24186.57349188241, 'epsilon': 0.8334495812680451}. Best is trial#3 with value: 5.777047263160402.\u001b[0m\n",
      "\u001b[32m[I 2020-05-06 08:35:33,577]\u001b[0m Finished trial#4 with value: 5.773753283195609 with parameters: {'gamma': 7.718575671260645, 'c': 23298.418064869227, 'epsilon': 0.742310492948391}. Best is trial#4 with value: 5.773753283195609.\u001b[0m\n",
      "\u001b[32m[I 2020-05-06 08:35:33,666]\u001b[0m Finished trial#5 with value: 5.773930515017435 with parameters: {'gamma': 7.779846914440586, 'c': 22860.944171762505, 'epsilon': 0.7467593500256564}. Best is trial#4 with value: 5.773753283195609.\u001b[0m\n",
      "\u001b[32m[I 2020-05-06 08:35:33,746]\u001b[0m Finished trial#6 with value: 5.773421464770196 with parameters: {'gamma': 7.42158116151127, 'c': 23026.305534189763, 'epsilon': 0.7351894321529322}. Best is trial#6 with value: 5.773421464770196.\u001b[0m\n",
      "\u001b[32m[I 2020-05-06 08:35:33,833]\u001b[0m Finished trial#7 with value: 5.774330302424387 with parameters: {'gamma': 6.963215725635607, 'c': 20662.76082057305, 'epsilon': 0.7630993730317279}. Best is trial#6 with value: 5.773421464770196.\u001b[0m\n",
      "\u001b[32m[I 2020-05-06 08:35:33,918]\u001b[0m Finished trial#8 with value: 5.7746184885305025 with parameters: {'gamma': 7.103688403766616, 'c': 20337.975513021756, 'epsilon': 0.7700022490511159}. Best is trial#6 with value: 5.773421464770196.\u001b[0m\n",
      "\u001b[32m[I 2020-05-06 08:35:34,006]\u001b[0m Finished trial#9 with value: 5.77204436003579 with parameters: {'gamma': 7.254794667164775, 'c': 17412.46311673029, 'epsilon': 0.6982037328773114}. Best is trial#9 with value: 5.77204436003579.\u001b[0m\n",
      "\u001b[32m[I 2020-05-06 08:35:34,088]\u001b[0m Finished trial#10 with value: 5.775512138936732 with parameters: {'gamma': 7.6091087787486735, 'c': 17259.889539196458, 'epsilon': 0.7914064058272037}. Best is trial#9 with value: 5.77204436003579.\u001b[0m\n",
      "\u001b[32m[I 2020-05-06 08:35:34,170]\u001b[0m Finished trial#11 with value: 5.77630483483516 with parameters: {'gamma': 7.900721654709628, 'c': 20170.401266964618, 'epsilon': 0.811747978801579}. Best is trial#9 with value: 5.77204436003579.\u001b[0m\n",
      "\u001b[32m[I 2020-05-06 08:35:34,251]\u001b[0m Finished trial#12 with value: 5.774043383190991 with parameters: {'gamma': 7.230088496600463, 'c': 17771.15639838512, 'epsilon': 0.7534490716840675}. Best is trial#9 with value: 5.77204436003579.\u001b[0m\n",
      "\u001b[32m[I 2020-05-06 08:35:34,329]\u001b[0m Finished trial#13 with value: 5.772028359591659 with parameters: {'gamma': 7.588147491409053, 'c': 19195.44931065082, 'epsilon': 0.6955153775026862}. Best is trial#13 with value: 5.772028359591659.\u001b[0m\n",
      "\u001b[32m[I 2020-05-06 08:35:34,404]\u001b[0m Finished trial#14 with value: 5.769943384670164 with parameters: {'gamma': 7.88186246479548, 'c': 19581.609836517753, 'epsilon': 0.635775846544006}. Best is trial#14 with value: 5.769943384670164.\u001b[0m\n",
      "\u001b[32m[I 2020-05-06 08:35:34,480]\u001b[0m Finished trial#15 with value: 5.771713391503287 with parameters: {'gamma': 7.6305772970883785, 'c': 18263.579446317126, 'epsilon': 0.6865067814083339}. Best is trial#14 with value: 5.769943384670164.\u001b[0m\n",
      "\u001b[32m[I 2020-05-06 08:35:34,556]\u001b[0m Finished trial#16 with value: 5.771991972359017 with parameters: {'gamma': 6.97249988382847, 'c': 20788.87115501705, 'epsilon': 0.6987179097268641}. Best is trial#14 with value: 5.769943384670164.\u001b[0m\n",
      "\u001b[32m[I 2020-05-06 08:35:34,635]\u001b[0m Finished trial#17 with value: 5.774645713188183 with parameters: {'gamma': 7.582622581532059, 'c': 20672.02092440596, 'epsilon': 0.7675622027857871}. Best is trial#14 with value: 5.769943384670164.\u001b[0m\n",
      "\u001b[32m[I 2020-05-06 08:35:34,713]\u001b[0m Finished trial#18 with value: 5.77496868065568 with parameters: {'gamma': 7.12280863287623, 'c': 18573.684791504304, 'epsilon': 0.7794892676883978}. Best is trial#14 with value: 5.769943384670164.\u001b[0m\n",
      "\u001b[32m[I 2020-05-06 08:35:34,790]\u001b[0m Finished trial#19 with value: 5.774177057085904 with parameters: {'gamma': 7.637938844210553, 'c': 20894.18867062513, 'epsilon': 0.7544076650304338}. Best is trial#14 with value: 5.769943384670164.\u001b[0m\n",
      "\u001b[32m[I 2020-05-06 08:35:34,868]\u001b[0m Finished trial#20 with value: 5.772014209409247 with parameters: {'gamma': 7.113019923499801, 'c': 18343.815623306742, 'epsilon': 0.698346276148735}. Best is trial#14 with value: 5.769943384670164.\u001b[0m\n",
      "\u001b[32m[I 2020-05-06 08:35:34,949]\u001b[0m Finished trial#21 with value: 5.7737929129502366 with parameters: {'gamma': 7.1360859458831225, 'c': 17199.868230735934, 'epsilon': 0.7472466737311758}. Best is trial#14 with value: 5.769943384670164.\u001b[0m\n",
      "\u001b[32m[I 2020-05-06 08:35:35,030]\u001b[0m Finished trial#22 with value: 5.773879606494351 with parameters: {'gamma': 6.672152618410094, 'c': 16823.265580669908, 'epsilon': 0.7528399247013768}. Best is trial#14 with value: 5.769943384670164.\u001b[0m\n",
      "\u001b[32m[I 2020-05-06 08:35:35,107]\u001b[0m Finished trial#23 with value: 5.775496575990815 with parameters: {'gamma': 6.092062666683712, 'c': 14209.905458476325, 'epsilon': 0.8018906660862074}. Best is trial#14 with value: 5.769943384670164.\u001b[0m\n",
      "\u001b[32m[I 2020-05-06 08:35:35,186]\u001b[0m Finished trial#24 with value: 5.777186056498333 with parameters: {'gamma': 6.726060227461189, 'c': 15042.275989206388, 'epsilon': 0.8440977633906329}. Best is trial#14 with value: 5.769943384670164.\u001b[0m\n",
      "\u001b[32m[I 2020-05-06 08:35:35,264]\u001b[0m Finished trial#25 with value: 5.7760175227798225 with parameters: {'gamma': 6.879413810830668, 'c': 17850.669748991942, 'epsilon': 0.8106496765812414}. Best is trial#14 with value: 5.769943384670164.\u001b[0m\n",
      "\u001b[32m[I 2020-05-06 08:35:35,344]\u001b[0m Finished trial#26 with value: 5.776616480476832 with parameters: {'gamma': 7.233598660391014, 'c': 19897.924163354633, 'epsilon': 0.8248028272368818}. Best is trial#14 with value: 5.769943384670164.\u001b[0m\n",
      "\u001b[32m[I 2020-05-06 08:35:35,423]\u001b[0m Finished trial#27 with value: 5.776046056272525 with parameters: {'gamma': 6.866786166109919, 'c': 17324.083512664714, 'epsilon': 0.8115427476558373}. Best is trial#14 with value: 5.769943384670164.\u001b[0m\n",
      "\u001b[32m[I 2020-05-06 08:35:35,505]\u001b[0m Finished trial#28 with value: 5.777709122083358 with parameters: {'gamma': 7.491920344994331, 'c': 16295.200967823946, 'epsilon': 0.8532808371167241}. Best is trial#14 with value: 5.769943384670164.\u001b[0m\n",
      "\u001b[32m[I 2020-05-06 08:35:35,581]\u001b[0m Finished trial#29 with value: 5.7763726628235705 with parameters: {'gamma': 7.627918366461673, 'c': 13254.16068536156, 'epsilon': 0.8154158401153118}. Best is trial#14 with value: 5.769943384670164.\u001b[0m\n",
      "\u001b[32m[I 2020-05-06 08:35:35,662]\u001b[0m Finished trial#30 with value: 5.7777667220738165 with parameters: {'gamma': 7.892962628851212, 'c': 12842.703254190936, 'epsilon': 0.8522673834224628}. Best is trial#14 with value: 5.769943384670164.\u001b[0m\n",
      "\u001b[32m[I 2020-05-06 08:35:35,740]\u001b[0m Finished trial#31 with value: 5.7791397057886 with parameters: {'gamma': 7.234075760061232, 'c': 15740.832067402058, 'epsilon': 0.8945741268234302}. Best is trial#14 with value: 5.769943384670164.\u001b[0m\n",
      "\u001b[32m[I 2020-05-06 08:35:35,829]\u001b[0m Finished trial#32 with value: 5.780941458449312 with parameters: {'gamma': 7.975081885609132, 'c': 17690.70622344197, 'epsilon': 0.9382725431011494}. Best is trial#14 with value: 5.769943384670164.\u001b[0m\n",
      "\u001b[32m[I 2020-05-06 08:35:35,912]\u001b[0m Finished trial#33 with value: 5.779286405583099 with parameters: {'gamma': 7.820128970795082, 'c': 19479.940825175043, 'epsilon': 0.8947700116881538}. Best is trial#14 with value: 5.769943384670164.\u001b[0m\n",
      "\u001b[32m[I 2020-05-06 08:35:36,001]\u001b[0m Finished trial#34 with value: 5.781320517596759 with parameters: {'gamma': 7.110723574912923, 'c': 18039.89905260065, 'epsilon': 0.9539553131130846}. Best is trial#14 with value: 5.769943384670164.\u001b[0m\n"
     ]
    },
    {
     "name": "stderr",
     "output_type": "stream",
     "text": [
      "\u001b[32m[I 2020-05-06 08:35:36,086]\u001b[0m Finished trial#35 with value: 5.778796658729584 with parameters: {'gamma': 6.590026640225364, 'c': 20583.200964201533, 'epsilon': 0.8895866370545631}. Best is trial#14 with value: 5.769943384670164.\u001b[0m\n",
      "\u001b[32m[I 2020-05-06 08:35:36,176]\u001b[0m Finished trial#36 with value: 5.777268521904065 with parameters: {'gamma': 5.913734617223292, 'c': 22830.465496459623, 'epsilon': 0.8523938870867831}. Best is trial#14 with value: 5.769943384670164.\u001b[0m\n",
      "\u001b[32m[I 2020-05-06 08:35:36,262]\u001b[0m Finished trial#37 with value: 5.775502618729382 with parameters: {'gamma': 6.183945838782351, 'c': 23183.369524071106, 'epsilon': 0.8013552931926867}. Best is trial#14 with value: 5.769943384670164.\u001b[0m\n",
      "\u001b[32m[I 2020-05-06 08:35:36,351]\u001b[0m Finished trial#38 with value: 5.773343092791149 with parameters: {'gamma': 6.785345050011865, 'c': 20728.975364505313, 'epsilon': 0.7373994796192317}. Best is trial#14 with value: 5.769943384670164.\u001b[0m\n",
      "\u001b[32m[I 2020-05-06 08:35:36,443]\u001b[0m Finished trial#39 with value: 5.774001041299327 with parameters: {'gamma': 7.427492071244755, 'c': 17530.205616569063, 'epsilon': 0.7509767766260558}. Best is trial#14 with value: 5.769943384670164.\u001b[0m\n",
      "\u001b[32m[I 2020-05-06 08:35:36,528]\u001b[0m Finished trial#40 with value: 5.776364438513131 with parameters: {'gamma': 7.737833477693664, 'c': 14276.813688082175, 'epsilon': 0.8144693650804746}. Best is trial#14 with value: 5.769943384670164.\u001b[0m\n",
      "\u001b[32m[I 2020-05-06 08:35:36,615]\u001b[0m Finished trial#41 with value: 5.775707360615372 with parameters: {'gamma': 7.084430489774917, 'c': 15983.889514771237, 'epsilon': 0.8004912962513793}. Best is trial#14 with value: 5.769943384670164.\u001b[0m\n",
      "\u001b[32m[I 2020-05-06 08:35:36,702]\u001b[0m Finished trial#42 with value: 5.77834008663079 with parameters: {'gamma': 6.71194611286537, 'c': 12938.491197089834, 'epsilon': 0.8760964260743144}. Best is trial#14 with value: 5.769943384670164.\u001b[0m\n",
      "\u001b[32m[I 2020-05-06 08:35:36,786]\u001b[0m Finished trial#43 with value: 5.78071144660201 with parameters: {'gamma': 6.07891234937403, 'c': 11527.941341642338, 'epsilon': 0.9447969064419224}. Best is trial#14 with value: 5.769943384670164.\u001b[0m\n",
      "\u001b[32m[I 2020-05-06 08:35:36,875]\u001b[0m Finished trial#44 with value: 5.779762792050462 with parameters: {'gamma': 5.7480922365433855, 'c': 10625.17851917621, 'epsilon': 0.9212283046032322}. Best is trial#14 with value: 5.769943384670164.\u001b[0m\n",
      "\u001b[32m[I 2020-05-06 08:35:36,965]\u001b[0m Finished trial#45 with value: 5.780380057285477 with parameters: {'gamma': 6.452337319208047, 'c': 11086.13099945151, 'epsilon': 0.9332303157709563}. Best is trial#14 with value: 5.769943384670164.\u001b[0m\n",
      "\u001b[32m[I 2020-05-06 08:35:37,054]\u001b[0m Finished trial#46 with value: 5.781992181776965 with parameters: {'gamma': 6.741261032556147, 'c': 13001.192520349126, 'epsilon': 0.9744736617595314}. Best is trial#14 with value: 5.769943384670164.\u001b[0m\n",
      "\u001b[32m[I 2020-05-06 08:35:37,141]\u001b[0m Finished trial#47 with value: 5.78004601254463 with parameters: {'gamma': 7.284911023019595, 'c': 12174.252099655076, 'epsilon': 0.9185911915903516}. Best is trial#14 with value: 5.769943384670164.\u001b[0m\n",
      "\u001b[32m[I 2020-05-06 08:35:37,232]\u001b[0m Finished trial#48 with value: 5.782818765239305 with parameters: {'gamma': 7.963050211167902, 'c': 11175.864015791472, 'epsilon': 0.9880175290472452}. Best is trial#14 with value: 5.769943384670164.\u001b[0m\n",
      "\u001b[32m[I 2020-05-06 08:35:37,322]\u001b[0m Finished trial#49 with value: 5.780627632700369 with parameters: {'gamma': 7.214544418988276, 'c': 11871.571867328843, 'epsilon': 0.9346696671723898}. Best is trial#14 with value: 5.769943384670164.\u001b[0m\n",
      "\u001b[32m[I 2020-05-06 08:35:37,414]\u001b[0m Finished trial#50 with value: 5.78272034121598 with parameters: {'gamma': 7.133682534531697, 'c': 12475.50290004886, 'epsilon': 0.9905343616167013}. Best is trial#14 with value: 5.769943384670164.\u001b[0m\n",
      "\u001b[32m[I 2020-05-06 08:35:37,503]\u001b[0m Finished trial#51 with value: 5.7818761585023735 with parameters: {'gamma': 6.720337329682545, 'c': 9988.942429495293, 'epsilon': 0.9715024236694146}. Best is trial#14 with value: 5.769943384670164.\u001b[0m\n",
      "\u001b[32m[I 2020-05-06 08:35:37,595]\u001b[0m Finished trial#52 with value: 5.778913450719134 with parameters: {'gamma': 6.141062664855964, 'c': 6906.719067171283, 'epsilon': 0.8961065164144987}. Best is trial#14 with value: 5.769943384670164.\u001b[0m\n",
      "\u001b[32m[I 2020-05-06 08:35:37,690]\u001b[0m Finished trial#53 with value: 5.782208165757001 with parameters: {'gamma': 5.372078473972157, 'c': 4649.783319593208, 'epsilon': 0.9858376190507663}. Best is trial#14 with value: 5.769943384670164.\u001b[0m\n",
      "\u001b[32m[I 2020-05-06 08:35:37,783]\u001b[0m Finished trial#54 with value: 5.7794514607502405 with parameters: {'gamma': 4.70809034715596, 'c': 2937.219256909215, 'epsilon': 0.9128595943008384}. Best is trial#14 with value: 5.769943384670164.\u001b[0m\n",
      "\u001b[32m[I 2020-05-06 08:35:37,876]\u001b[0m Finished trial#55 with value: 5.782078690845165 with parameters: {'gamma': 4.2209898978701395, 'c': 2867.1809450954024, 'epsilon': 0.9825012833358757}. Best is trial#14 with value: 5.769943384670164.\u001b[0m\n",
      "\u001b[32m[I 2020-05-06 08:35:37,968]\u001b[0m Finished trial#56 with value: 5.780101628883857 with parameters: {'gamma': 4.403928236816536, 'c': 2359.1252506834117, 'epsilon': 0.9301550589127289}. Best is trial#14 with value: 5.769943384670164.\u001b[0m\n",
      "\u001b[32m[I 2020-05-06 08:35:38,063]\u001b[0m Finished trial#57 with value: 5.781420554667933 with parameters: {'gamma': 3.8598928195638607, 'c': 3144.9307854087206, 'epsilon': 0.9662524718431871}. Best is trial#14 with value: 5.769943384670164.\u001b[0m\n",
      "\u001b[32m[I 2020-05-06 08:35:38,158]\u001b[0m Finished trial#58 with value: 5.781616813139741 with parameters: {'gamma': 3.5443105071476477, 'c': 2532.5390435706427, 'epsilon': 0.9744713348345798}. Best is trial#14 with value: 5.769943384670164.\u001b[0m\n",
      "\u001b[32m[I 2020-05-06 08:35:38,249]\u001b[0m Finished trial#59 with value: 5.778770972971712 with parameters: {'gamma': 4.287615958644935, 'c': 3286.927856762395, 'epsilon': 0.8946633134241252}. Best is trial#14 with value: 5.769943384670164.\u001b[0m\n",
      "\u001b[32m[I 2020-05-06 08:35:38,341]\u001b[0m Finished trial#60 with value: 5.780149544409933 with parameters: {'gamma': 3.994560218417659, 'c': 5699.1792943461605, 'epsilon': 0.9315180536145116}. Best is trial#14 with value: 5.769943384670164.\u001b[0m\n",
      "\u001b[32m[I 2020-05-06 08:35:38,437]\u001b[0m Finished trial#61 with value: 5.780545969263919 with parameters: {'gamma': 3.446442375692721, 'c': 8369.481528265125, 'epsilon': 0.947270159738207}. Best is trial#14 with value: 5.769943384670164.\u001b[0m\n",
      "\u001b[32m[I 2020-05-06 08:35:38,527]\u001b[0m Finished trial#62 with value: 5.781678669058023 with parameters: {'gamma': 4.1157238912449685, 'c': 5636.949886104978, 'epsilon': 0.9721353159823286}. Best is trial#14 with value: 5.769943384670164.\u001b[0m\n",
      "\u001b[32m[I 2020-05-06 08:35:38,622]\u001b[0m Finished trial#63 with value: 5.778105585813779 with parameters: {'gamma': 3.366224342875954, 'c': 5337.675047807528, 'epsilon': 0.8834628480938572}. Best is trial#14 with value: 5.769943384670164.\u001b[0m\n",
      "\u001b[32m[I 2020-05-06 08:35:38,715]\u001b[0m Finished trial#64 with value: 5.780279577718498 with parameters: {'gamma': 3.6409817390475823, 'c': 8216.346058390867, 'epsilon': 0.9383285152192521}. Best is trial#14 with value: 5.769943384670164.\u001b[0m\n",
      "\u001b[32m[I 2020-05-06 08:35:38,812]\u001b[0m Finished trial#65 with value: 5.777315596666137 with parameters: {'gamma': 4.161472870965038, 'c': 8623.940783501333, 'epsilon': 0.8547756827952523}. Best is trial#14 with value: 5.769943384670164.\u001b[0m\n",
      "\u001b[32m[I 2020-05-06 08:35:38,910]\u001b[0m Finished trial#66 with value: 5.774168116202476 with parameters: {'gamma': 4.919863532209028, 'c': 6209.3333690864865, 'epsilon': 0.767949408742143}. Best is trial#14 with value: 5.769943384670164.\u001b[0m\n",
      "\u001b[32m[I 2020-05-06 08:35:39,014]\u001b[0m Finished trial#67 with value: 5.777104532502885 with parameters: {'gamma': 4.866546278401336, 'c': 3654.1760299286925, 'epsilon': 0.8489909919189723}. Best is trial#14 with value: 5.769943384670164.\u001b[0m\n",
      "\u001b[32m[I 2020-05-06 08:35:39,124]\u001b[0m Finished trial#68 with value: 5.7790669113276625 with parameters: {'gamma': 4.12164388534301, 'c': 3328.9329815328374, 'epsilon': 0.9026187955631108}. Best is trial#14 with value: 5.769943384670164.\u001b[0m\n",
      "\u001b[32m[I 2020-05-06 08:35:39,221]\u001b[0m Finished trial#69 with value: 5.780407029977552 with parameters: {'gamma': 3.559690814904252, 'c': 5501.849127746187, 'epsilon': 0.9424827837289068}. Best is trial#14 with value: 5.769943384670164.\u001b[0m\n"
     ]
    },
    {
     "name": "stderr",
     "output_type": "stream",
     "text": [
      "\u001b[32m[I 2020-05-06 08:35:39,319]\u001b[0m Finished trial#70 with value: 5.781258262394715 with parameters: {'gamma': 2.8029054519011978, 'c': 2865.9193284744147, 'epsilon': 0.9728443669569963}. Best is trial#14 with value: 5.769943384670164.\u001b[0m\n",
      "\u001b[32m[I 2020-05-06 08:35:39,422]\u001b[0m Finished trial#71 with value: 5.782451821654198 with parameters: {'gamma': 3.5776626391239974, 'c': 66.69308018851396, 'epsilon': 0.9951354130181902}. Best is trial#14 with value: 5.769943384670164.\u001b[0m\n",
      "\u001b[32m[I 2020-05-06 08:35:39,518]\u001b[0m Finished trial#72 with value: 5.779840568111963 with parameters: {'gamma': 4.0924009697329, 'c': 1315.955923978913, 'epsilon': 0.9232131608989314}. Best is trial#14 with value: 5.769943384670164.\u001b[0m\n",
      "\u001b[32m[I 2020-05-06 08:35:39,614]\u001b[0m Finished trial#73 with value: 5.779559485643877 with parameters: {'gamma': 3.65600372553819, 'c': 905.75402103166, 'epsilon': 0.9192279683647453}. Best is trial#14 with value: 5.769943384670164.\u001b[0m\n",
      "\u001b[32m[I 2020-05-06 08:35:39,711]\u001b[0m Finished trial#74 with value: 5.778678271720536 with parameters: {'gamma': 3.119906828053538, 'c': 3806.6439443213117, 'epsilon': 0.9015402075333372}. Best is trial#14 with value: 5.769943384670164.\u001b[0m\n",
      "\u001b[32m[I 2020-05-06 08:35:39,805]\u001b[0m Finished trial#75 with value: 5.7815707649317 with parameters: {'gamma': 3.1395500815255315, 'c': 5135.648339413985, 'epsilon': 0.977385698048341}. Best is trial#14 with value: 5.769943384670164.\u001b[0m\n",
      "\u001b[32m[I 2020-05-06 08:35:39,893]\u001b[0m Finished trial#76 with value: 5.77951528449469 with parameters: {'gamma': 2.6595766598023536, 'c': 4142.501215280708, 'epsilon': 0.9287361548347094}. Best is trial#14 with value: 5.769943384670164.\u001b[0m\n",
      "\u001b[32m[I 2020-05-06 08:35:39,986]\u001b[0m Finished trial#77 with value: 5.778097582736753 with parameters: {'gamma': 3.1641078388272934, 'c': 2736.3917053873256, 'epsilon': 0.8854276219982803}. Best is trial#14 with value: 5.769943384670164.\u001b[0m\n",
      "\u001b[32m[I 2020-05-06 08:35:40,077]\u001b[0m Finished trial#78 with value: 5.779083694663576 with parameters: {'gamma': 3.607769418806403, 'c': 4838.885546374914, 'epsilon': 0.9071817286585373}. Best is trial#14 with value: 5.769943384670164.\u001b[0m\n",
      "\u001b[32m[I 2020-05-06 08:35:40,168]\u001b[0m Finished trial#79 with value: 5.776284800784549 with parameters: {'gamma': 3.0130920666881518, 'c': 5167.455339513845, 'epsilon': 0.8380715414052665}. Best is trial#14 with value: 5.769943384670164.\u001b[0m\n",
      "\u001b[32m[I 2020-05-06 08:35:40,262]\u001b[0m Finished trial#80 with value: 5.7769827465027594 with parameters: {'gamma': 2.775298938938853, 'c': 6836.195020751164, 'epsilon': 0.8597699762397858}. Best is trial#14 with value: 5.769943384670164.\u001b[0m\n",
      "\u001b[32m[I 2020-05-06 08:35:40,352]\u001b[0m Finished trial#81 with value: 5.7777099187817855 with parameters: {'gamma': 2.729738476778631, 'c': 8595.985657817646, 'epsilon': 0.8799821957381344}. Best is trial#14 with value: 5.769943384670164.\u001b[0m\n",
      "\u001b[32m[I 2020-05-06 08:35:40,442]\u001b[0m Finished trial#82 with value: 5.775726417000482 with parameters: {'gamma': 2.4166737618791307, 'c': 7848.631052152961, 'epsilon': 0.8304824238235322}. Best is trial#14 with value: 5.769943384670164.\u001b[0m\n",
      "\u001b[32m[I 2020-05-06 08:35:40,533]\u001b[0m Finished trial#83 with value: 5.772272474026162 with parameters: {'gamma': 2.261261091045942, 'c': 6586.514658577494, 'epsilon': 0.7393735180585524}. Best is trial#14 with value: 5.769943384670164.\u001b[0m\n",
      "\u001b[32m[I 2020-05-06 08:35:40,626]\u001b[0m Finished trial#84 with value: 5.771115545153768 with parameters: {'gamma': 2.538326043042198, 'c': 7294.50175879259, 'epsilon': 0.7040539235905815}. Best is trial#14 with value: 5.769943384670164.\u001b[0m\n",
      "\u001b[32m[I 2020-05-06 08:35:40,717]\u001b[0m Finished trial#85 with value: 5.772291108682952 with parameters: {'gamma': 2.1404909524212625, 'c': 6093.737841633896, 'epsilon': 0.7417477629452637}. Best is trial#14 with value: 5.769943384670164.\u001b[0m\n",
      "\u001b[32m[I 2020-05-06 08:35:40,805]\u001b[0m Finished trial#86 with value: 5.774011090535393 with parameters: {'gamma': 2.7436391662345745, 'c': 5512.7130895065475, 'epsilon': 0.7792739299986771}. Best is trial#14 with value: 5.769943384670164.\u001b[0m\n",
      "\u001b[32m[I 2020-05-06 08:35:40,897]\u001b[0m Finished trial#87 with value: 5.773090558345253 with parameters: {'gamma': 3.5232721370016695, 'c': 2861.43348106438, 'epsilon': 0.745653308432864}. Best is trial#14 with value: 5.769943384670164.\u001b[0m\n",
      "\u001b[32m[I 2020-05-06 08:35:40,991]\u001b[0m Finished trial#88 with value: 5.7749573755911925 with parameters: {'gamma': 3.560457380035258, 'c': 4980.523314320466, 'epsilon': 0.7958381370229899}. Best is trial#14 with value: 5.769943384670164.\u001b[0m\n",
      "\u001b[32m[I 2020-05-06 08:35:41,081]\u001b[0m Finished trial#89 with value: 5.772098456436039 with parameters: {'gamma': 3.7715961018215785, 'c': 5535.871566530041, 'epsilon': 0.7163166470989095}. Best is trial#14 with value: 5.769943384670164.\u001b[0m\n",
      "\u001b[32m[I 2020-05-06 08:35:41,171]\u001b[0m Finished trial#90 with value: 5.769644025051858 with parameters: {'gamma': 3.26774535104079, 'c': 3486.5520679082274, 'epsilon': 0.6550244118227022}. Best is trial#90 with value: 5.769644025051858.\u001b[0m\n",
      "\u001b[32m[I 2020-05-06 08:35:41,263]\u001b[0m Finished trial#91 with value: 5.766856001407268 with parameters: {'gamma': 3.350820594519479, 'c': 262.8999495172915, 'epsilon': 0.5779970756945464}. Best is trial#91 with value: 5.766856001407268.\u001b[0m\n",
      "\u001b[32m[I 2020-05-06 08:35:41,357]\u001b[0m Finished trial#92 with value: 5.7644754810583905 with parameters: {'gamma': 3.8950389341215814, 'c': 3358.889261300621, 'epsilon': 0.5062382860950995}. Best is trial#92 with value: 5.7644754810583905.\u001b[0m\n",
      "\u001b[32m[I 2020-05-06 08:35:41,454]\u001b[0m Finished trial#93 with value: 5.762006516064778 with parameters: {'gamma': 3.4887363543871226, 'c': 6310.412217926518, 'epsilon': 0.43787865815902494}. Best is trial#93 with value: 5.762006516064778.\u001b[0m\n",
      "\u001b[32m[I 2020-05-06 08:35:41,550]\u001b[0m Finished trial#94 with value: 5.760579584982998 with parameters: {'gamma': 3.533993603005067, 'c': 9007.008637716272, 'epsilon': 0.39374122323464317}. Best is trial#94 with value: 5.760579584982998.\u001b[0m\n",
      "\u001b[32m[I 2020-05-06 08:35:41,646]\u001b[0m Finished trial#95 with value: 5.76328049704279 with parameters: {'gamma': 4.17378553087272, 'c': 9789.413981728732, 'epsilon': 0.4686801444972888}. Best is trial#94 with value: 5.760579584982998.\u001b[0m\n",
      "\u001b[32m[I 2020-05-06 08:35:41,743]\u001b[0m Finished trial#96 with value: 5.758929720663782 with parameters: {'gamma': 3.757311208532582, 'c': 11846.331443036841, 'epsilon': 0.34052129611910253}. Best is trial#96 with value: 5.758929720663782.\u001b[0m\n",
      "\u001b[32m[I 2020-05-06 08:35:41,839]\u001b[0m Finished trial#97 with value: 5.761925279768698 with parameters: {'gamma': 4.39159328932478, 'c': 12780.522933348479, 'epsilon': 0.42570474881022646}. Best is trial#96 with value: 5.758929720663782.\u001b[0m\n",
      "\u001b[32m[I 2020-05-06 08:35:41,937]\u001b[0m Finished trial#98 with value: 5.756224379099959 with parameters: {'gamma': 4.203659403753731, 'c': 10645.901998232652, 'epsilon': 0.25091734444189845}. Best is trial#98 with value: 5.756224379099959.\u001b[0m\n",
      "\u001b[32m[I 2020-05-06 08:35:42,041]\u001b[0m Finished trial#99 with value: 5.7571711122257225 with parameters: {'gamma': 4.036012246355363, 'c': 13126.709258390625, 'epsilon': 0.2824441304215789}. Best is trial#98 with value: 5.756224379099959.\u001b[0m\n",
      "\u001b[32m[I 2020-05-06 08:35:42,146]\u001b[0m Finished trial#100 with value: 5.756182447926736 with parameters: {'gamma': 4.4273125050931945, 'c': 13778.095031248537, 'epsilon': 0.24728921364838619}. Best is trial#100 with value: 5.756182447926736.\u001b[0m\n",
      "\u001b[32m[I 2020-05-06 08:35:42,244]\u001b[0m Finished trial#101 with value: 5.758096261182069 with parameters: {'gamma': 5.0213324112314, 'c': 10924.790898737405, 'epsilon': 0.30428465204800825}. Best is trial#100 with value: 5.756182447926736.\u001b[0m\n",
      "\u001b[32m[I 2020-05-06 08:35:42,341]\u001b[0m Finished trial#102 with value: 5.75583284420393 with parameters: {'gamma': 4.887841011393857, 'c': 10638.35036707823, 'epsilon': 0.23215920762427567}. Best is trial#102 with value: 5.75583284420393.\u001b[0m\n",
      "\u001b[32m[I 2020-05-06 08:35:42,439]\u001b[0m Finished trial#103 with value: 5.754830270753337 with parameters: {'gamma': 4.160833092437128, 'c': 9406.18601613973, 'epsilon': 0.20682778949706543}. Best is trial#103 with value: 5.754830270753337.\u001b[0m\n",
      "\u001b[32m[I 2020-05-06 08:35:42,539]\u001b[0m Finished trial#104 with value: 5.756019565287251 with parameters: {'gamma': 4.957301390594925, 'c': 11772.638890457574, 'epsilon': 0.23822716236101005}. Best is trial#103 with value: 5.754830270753337.\u001b[0m\n"
     ]
    },
    {
     "name": "stderr",
     "output_type": "stream",
     "text": [
      "\u001b[32m[I 2020-05-06 08:35:42,637]\u001b[0m Finished trial#105 with value: 5.758380079177787 with parameters: {'gamma': 4.74641986052691, 'c': 10049.5520396438, 'epsilon': 0.31335632911558337}. Best is trial#103 with value: 5.754830270753337.\u001b[0m\n",
      "\u001b[32m[I 2020-05-06 08:35:42,734]\u001b[0m Finished trial#106 with value: 5.758820049878043 with parameters: {'gamma': 5.095098015496481, 'c': 9973.661913167653, 'epsilon': 0.32729041540304193}. Best is trial#103 with value: 5.754830270753337.\u001b[0m\n",
      "\u001b[32m[I 2020-05-06 08:35:42,832]\u001b[0m Finished trial#107 with value: 5.7610867099354035 with parameters: {'gamma': 5.126472045660377, 'c': 12216.212028337115, 'epsilon': 0.3976739831727045}. Best is trial#103 with value: 5.754830270753337.\u001b[0m\n",
      "\u001b[32m[I 2020-05-06 08:35:42,931]\u001b[0m Finished trial#108 with value: 5.756680481399195 with parameters: {'gamma': 5.473800455891384, 'c': 7591.739861759466, 'epsilon': 0.2574261670022108}. Best is trial#103 with value: 5.754830270753337.\u001b[0m\n",
      "\u001b[32m[I 2020-05-06 08:35:43,033]\u001b[0m Finished trial#109 with value: 5.758276364522386 with parameters: {'gamma': 5.882491838736764, 'c': 9142.349156765838, 'epsilon': 0.3049395574680183}. Best is trial#103 with value: 5.754830270753337.\u001b[0m\n",
      "\u001b[32m[I 2020-05-06 08:35:43,162]\u001b[0m Finished trial#110 with value: 5.7542737826017465 with parameters: {'gamma': 6.172453031608486, 'c': 9632.255832003615, 'epsilon': 0.17270701249836826}. Best is trial#110 with value: 5.7542737826017465.\u001b[0m\n",
      "\u001b[32m[I 2020-05-06 08:35:43,304]\u001b[0m Finished trial#111 with value: 5.7539628659326265 with parameters: {'gamma': 5.473536884852483, 'c': 12414.567489423593, 'epsilon': 0.16887958543811626}. Best is trial#111 with value: 5.7539628659326265.\u001b[0m\n",
      "\u001b[32m[I 2020-05-06 08:35:43,413]\u001b[0m Finished trial#112 with value: 5.755620328993478 with parameters: {'gamma': 5.675156436920563, 'c': 14599.639616373053, 'epsilon': 0.22132183648889253}. Best is trial#111 with value: 5.7539628659326265.\u001b[0m\n",
      "\u001b[32m[I 2020-05-06 08:35:43,517]\u001b[0m Finished trial#113 with value: 5.754831883968717 with parameters: {'gamma': 5.887432901638199, 'c': 14841.099924400085, 'epsilon': 0.19354686626298676}. Best is trial#111 with value: 5.7539628659326265.\u001b[0m\n",
      "\u001b[32m[I 2020-05-06 08:35:43,617]\u001b[0m Finished trial#114 with value: 5.751670122533219 with parameters: {'gamma': 5.55035839471957, 'c': 9701.369273867105, 'epsilon': 0.0919573894882365}. Best is trial#114 with value: 5.751670122533219.\u001b[0m\n",
      "\u001b[32m[I 2020-05-06 08:35:43,719]\u001b[0m Finished trial#115 with value: 5.751298416789522 with parameters: {'gamma': 4.820966522235592, 'c': 7787.0724731140635, 'epsilon': 0.0852207662910245}. Best is trial#115 with value: 5.751298416789522.\u001b[0m\n",
      "\u001b[32m[I 2020-05-06 08:35:43,819]\u001b[0m Finished trial#116 with value: 5.750886093009476 with parameters: {'gamma': 5.162721866748118, 'c': 8955.094701095655, 'epsilon': 0.06932802229927296}. Best is trial#116 with value: 5.750886093009476.\u001b[0m\n",
      "\u001b[32m[I 2020-05-06 08:35:43,920]\u001b[0m Finished trial#117 with value: 5.75353817141242 with parameters: {'gamma': 4.960997160411108, 'c': 11810.912389613623, 'epsilon': 0.15746751158391514}. Best is trial#116 with value: 5.750886093009476.\u001b[0m\n",
      "\u001b[32m[I 2020-05-06 08:35:44,025]\u001b[0m Finished trial#118 with value: 5.750421973943699 with parameters: {'gamma': 4.971428800894493, 'c': 9680.379348397655, 'epsilon': 0.053667070084940545}. Best is trial#118 with value: 5.750421973943699.\u001b[0m\n",
      "\u001b[32m[I 2020-05-06 08:35:44,129]\u001b[0m Finished trial#119 with value: 5.752883846601675 with parameters: {'gamma': 4.636275384310802, 'c': 8621.956040727999, 'epsilon': 0.138616622421351}. Best is trial#118 with value: 5.750421973943699.\u001b[0m\n",
      "\u001b[32m[I 2020-05-06 08:35:44,231]\u001b[0m Finished trial#120 with value: 5.750863582245862 with parameters: {'gamma': 4.716717405117975, 'c': 6737.882326456443, 'epsilon': 0.0719200606837277}. Best is trial#118 with value: 5.750421973943699.\u001b[0m\n",
      "\u001b[32m[I 2020-05-06 08:35:44,336]\u001b[0m Finished trial#121 with value: 5.751090166006256 with parameters: {'gamma': 5.231090352271756, 'c': 7970.735505322185, 'epsilon': 0.07581923662655779}. Best is trial#118 with value: 5.750421973943699.\u001b[0m\n",
      "\u001b[32m[I 2020-05-06 08:35:44,441]\u001b[0m Finished trial#122 with value: 5.752506070716527 with parameters: {'gamma': 4.346625517712066, 'c': 7793.800837866855, 'epsilon': 0.1293493091906024}. Best is trial#118 with value: 5.750421973943699.\u001b[0m\n",
      "\u001b[32m[I 2020-05-06 08:35:44,546]\u001b[0m Finished trial#123 with value: 5.753078794276745 with parameters: {'gamma': 5.260539809209636, 'c': 7256.211781947211, 'epsilon': 0.14141574878309426}. Best is trial#118 with value: 5.750421973943699.\u001b[0m\n",
      "\u001b[32m[I 2020-05-06 08:35:44,655]\u001b[0m Finished trial#124 with value: 5.751337631294386 with parameters: {'gamma': 4.367174154346313, 'c': 9672.379356014564, 'epsilon': 0.09119599702449377}. Best is trial#118 with value: 5.750421973943699.\u001b[0m\n"
     ]
    }
   ],
   "source": [
    "def objective(trial):\n",
    "    c = trial.suggest_uniform('c', 2**(-5),  2**15)\n",
    "    gamma = trial.suggest_uniform('gamma', 2**(-15),  2**3)    \n",
    "    epsilon = trial.suggest_uniform('epsilon', 0.05,  1.0)\n",
    "    \n",
    "    svr  = SVR(kernel='rbf', C=c, gamma=gamma, epsilon=epsilon)\n",
    "    svr.fit(x_treino, y_treino)\n",
    "    \n",
    "    pred = svr.predict(x_teste)\n",
    "    mae = metrics.mean_absolute_error(y_true=y_teste, y_pred=pred)\n",
    "    \n",
    "    return mae\n",
    "\n",
    "\n",
    "sampler = SimulatedAnnealingSampler()\n",
    "study = optuna.create_study(sampler=sampler)\n",
    "study.optimize(objective, n_trials=125)"
   ]
  },
  {
   "cell_type": "markdown",
   "metadata": {},
   "source": [
    "Logo, como resultado os melhores parâmetros encontrados durante a busca são mostrados:"
   ]
  },
  {
   "cell_type": "code",
   "execution_count": 17,
   "metadata": {},
   "outputs": [
    {
     "data": {
      "text/plain": [
       "{'c': 9680.379348397655,\n",
       " 'epsilon': 0.053667070084940545,\n",
       " 'gamma': 4.971428800894493}"
      ]
     },
     "execution_count": 17,
     "metadata": {},
     "output_type": "execute_result"
    }
   ],
   "source": [
    "study.best_params"
   ]
  },
  {
   "cell_type": "markdown",
   "metadata": {},
   "source": [
    "Bem como o resultado para o  erro absoluto médio (MAE) no conjunto de teste com esses parâmetros:"
   ]
  },
  {
   "cell_type": "code",
   "execution_count": 18,
   "metadata": {},
   "outputs": [
    {
     "data": {
      "text/plain": [
       "5.750421973943699"
      ]
     },
     "execution_count": 18,
     "metadata": {},
     "output_type": "execute_result"
    }
   ],
   "source": [
    "study.best_value"
   ]
  },
  {
   "cell_type": "markdown",
   "metadata": {},
   "source": [
    "## CMA-ES"
   ]
  },
  {
   "cell_type": "markdown",
   "metadata": {},
   "source": [
    "Semelhantemente ao algoritmo de Simullate Annealing, a implementação do algoritmo de otimização CMA-ES também foi feita via biblioteca optunza. A implementação porém é encapsulada em um sampler default fornecido pela própria biblioteca, assim não sendo necessário a implementação de uma classe sampler específica, somente a função objetivo."
   ]
  },
  {
   "cell_type": "code",
   "execution_count": 19,
   "metadata": {},
   "outputs": [
    {
     "name": "stderr",
     "output_type": "stream",
     "text": [
      "\u001b[32m[I 2020-05-06 08:35:44,797]\u001b[0m Finished trial#0 with value: 5.781082688390094 with parameters: {'gamma': 2.7354294574213736, 'c': 1170.1785162100878, 'epsilon': 0.9689977970662065}. Best is trial#0 with value: 5.781082688390094.\u001b[0m\n",
      "\u001b[32m[I 2020-05-06 08:35:44,873]\u001b[0m Finished trial#1 with value: 5.765516977942874 with parameters: {'gamma': 3.941938467253303, 'c': 16383.908689983418, 'epsilon': 0.5346703869093998}. Best is trial#1 with value: 5.765516977942874.\u001b[0m\n",
      "\u001b[32m[I 2020-05-06 08:35:44,952]\u001b[0m Finished trial#2 with value: 5.76705177642033 with parameters: {'gamma': 4.0694676911697885, 'c': 16384.231438223913, 'epsilon': 0.5760157004334815}. Best is trial#1 with value: 5.765516977942874.\u001b[0m\n",
      "\u001b[32m[I 2020-05-06 08:35:45,030]\u001b[0m Finished trial#3 with value: 5.762718170828164 with parameters: {'gamma': 4.229428947097892, 'c': 16383.843332850987, 'epsilon': 0.4511939414862756}. Best is trial#3 with value: 5.762718170828164.\u001b[0m\n",
      "\u001b[32m[I 2020-05-06 08:35:45,106]\u001b[0m Finished trial#4 with value: 5.766713135828819 with parameters: {'gamma': 3.8160030744019675, 'c': 16383.844952143992, 'epsilon': 0.5691966252051899}. Best is trial#3 with value: 5.762718170828164.\u001b[0m\n",
      "\u001b[32m[I 2020-05-06 08:35:45,181]\u001b[0m Finished trial#5 with value: 5.767335278548587 with parameters: {'gamma': 3.9689808676784395, 'c': 16383.956500339918, 'epsilon': 0.5846387734086538}. Best is trial#3 with value: 5.762718170828164.\u001b[0m\n",
      "\u001b[32m[I 2020-05-06 08:35:45,259]\u001b[0m Finished trial#6 with value: 5.7640536933612 with parameters: {'gamma': 3.930607640999614, 'c': 16383.805215632137, 'epsilon': 0.494259449149029}. Best is trial#3 with value: 5.762718170828164.\u001b[0m\n",
      "\u001b[32m[I 2020-05-06 08:35:45,333]\u001b[0m Finished trial#7 with value: 5.765743890452834 with parameters: {'gamma': 4.13076684600456, 'c': 16384.02563509547, 'epsilon': 0.5391341617440348}. Best is trial#3 with value: 5.762718170828164.\u001b[0m\n",
      "\u001b[32m[I 2020-05-06 08:35:45,409]\u001b[0m Finished trial#8 with value: 5.7614559433838055 with parameters: {'gamma': 4.2081714097059795, 'c': 16383.780358890768, 'epsilon': 0.41343965971597096}. Best is trial#8 with value: 5.7614559433838055.\u001b[0m\n",
      "\u001b[32m[I 2020-05-06 08:35:45,484]\u001b[0m Finished trial#9 with value: 5.765401203641602 with parameters: {'gamma': 4.0026055277920225, 'c': 16383.884181392094, 'epsilon': 0.5308518725030139}. Best is trial#8 with value: 5.7614559433838055.\u001b[0m\n",
      "\u001b[32m[I 2020-05-06 08:35:45,564]\u001b[0m Finished trial#10 with value: 5.758425009973198 with parameters: {'gamma': 4.097697164889636, 'c': 16384.08433888444, 'epsilon': 0.3212468607858868}. Best is trial#10 with value: 5.758425009973198.\u001b[0m\n",
      "\u001b[32m[I 2020-05-06 08:35:45,643]\u001b[0m Finished trial#11 with value: 5.761460423426217 with parameters: {'gamma': 4.210086938345278, 'c': 16383.718897764375, 'epsilon': 0.41355680923766913}. Best is trial#10 with value: 5.758425009973198.\u001b[0m\n",
      "\u001b[32m[I 2020-05-06 08:35:45,721]\u001b[0m Finished trial#12 with value: 5.767844972762409 with parameters: {'gamma': 4.116283967920299, 'c': 16384.030413421053, 'epsilon': 0.5970183580693804}. Best is trial#10 with value: 5.758425009973198.\u001b[0m\n",
      "\u001b[32m[I 2020-05-06 08:35:45,799]\u001b[0m Finished trial#13 with value: 5.771963303566466 with parameters: {'gamma': 4.020177681789323, 'c': 16383.875650040756, 'epsilon': 0.7101861268024076}. Best is trial#10 with value: 5.758425009973198.\u001b[0m\n",
      "\u001b[32m[I 2020-05-06 08:35:45,875]\u001b[0m Finished trial#14 with value: 5.770204240565743 with parameters: {'gamma': 4.157023668830916, 'c': 16383.81665352824, 'epsilon': 0.6610834806380532}. Best is trial#10 with value: 5.758425009973198.\u001b[0m\n",
      "\u001b[32m[I 2020-05-06 08:35:45,952]\u001b[0m Finished trial#15 with value: 5.768261766876867 with parameters: {'gamma': 3.872243339846224, 'c': 16383.85889608771, 'epsilon': 0.6106218998801615}. Best is trial#10 with value: 5.758425009973198.\u001b[0m\n",
      "\u001b[32m[I 2020-05-06 08:35:46,028]\u001b[0m Finished trial#16 with value: 5.7639346173073305 with parameters: {'gamma': 4.109779481813965, 'c': 16383.875399149618, 'epsilon': 0.48901690913830836}. Best is trial#10 with value: 5.758425009973198.\u001b[0m\n",
      "\u001b[32m[I 2020-05-06 08:35:46,106]\u001b[0m Finished trial#17 with value: 5.766390014919146 with parameters: {'gamma': 4.180478096560925, 'c': 16384.121583216223, 'epsilon': 0.5566275486043134}. Best is trial#10 with value: 5.758425009973198.\u001b[0m\n",
      "\u001b[32m[I 2020-05-06 08:35:46,187]\u001b[0m Finished trial#18 with value: 5.759816203104759 with parameters: {'gamma': 4.345259398139761, 'c': 16384.175128304578, 'epsilon': 0.36134942277530835}. Best is trial#10 with value: 5.758425009973198.\u001b[0m\n",
      "\u001b[32m[I 2020-05-06 08:35:46,277]\u001b[0m Finished trial#19 with value: 5.754172746892923 with parameters: {'gamma': 4.0458966286996185, 'c': 16383.797151304048, 'epsilon': 0.18697362982812019}. Best is trial#19 with value: 5.754172746892923.\u001b[0m\n",
      "\u001b[32m[I 2020-05-06 08:35:46,354]\u001b[0m Finished trial#20 with value: 5.7547527012815225 with parameters: {'gamma': 4.23105341077595, 'c': 16383.942589614913, 'epsilon': 0.2035706720822756}. Best is trial#19 with value: 5.754172746892923.\u001b[0m\n",
      "\u001b[32m[I 2020-05-06 08:35:46,433]\u001b[0m Finished trial#21 with value: 5.762097682715155 with parameters: {'gamma': 4.215955449820338, 'c': 16384.008125494915, 'epsilon': 0.4326645467646385}. Best is trial#19 with value: 5.754172746892923.\u001b[0m\n",
      "\u001b[32m[I 2020-05-06 08:35:46,516]\u001b[0m Finished trial#22 with value: 5.759292680351823 with parameters: {'gamma': 4.256968222486794, 'c': 16383.789358676791, 'epsilon': 0.34625227798868424}. Best is trial#19 with value: 5.754172746892923.\u001b[0m\n",
      "\u001b[32m[I 2020-05-06 08:35:46,591]\u001b[0m Finished trial#23 with value: 5.766802125102145 with parameters: {'gamma': 3.9400781544733987, 'c': 16384.059326084, 'epsilon': 0.5704279226652158}. Best is trial#19 with value: 5.754172746892923.\u001b[0m\n",
      "\u001b[32m[I 2020-05-06 08:35:46,672]\u001b[0m Finished trial#24 with value: 5.757914251827892 with parameters: {'gamma': 4.015964075279043, 'c': 16383.961456069128, 'epsilon': 0.3060598607092361}. Best is trial#19 with value: 5.754172746892923.\u001b[0m\n",
      "\u001b[32m[I 2020-05-06 08:35:46,766]\u001b[0m Finished trial#25 with value: 5.7502468282164525 with parameters: {'gamma': 3.8612445102074737, 'c': 16384.175998394563, 'epsilon': 0.06025906316934426}. Best is trial#25 with value: 5.7502468282164525.\u001b[0m\n",
      "\u001b[32m[I 2020-05-06 08:35:46,854]\u001b[0m Finished trial#26 with value: 5.7523537748535984 with parameters: {'gamma': 4.033869306471129, 'c': 16383.82957717234, 'epsilon': 0.12784714105894007}. Best is trial#25 with value: 5.7502468282164525.\u001b[0m\n",
      "\u001b[32m[I 2020-05-06 08:35:46,948]\u001b[0m Finished trial#27 with value: 5.7563372096649 with parameters: {'gamma': 4.134132535788546, 'c': 16383.977450378281, 'epsilon': 0.2551712721947348}. Best is trial#25 with value: 5.7502468282164525.\u001b[0m\n",
      "\u001b[32m[I 2020-05-06 08:35:47,031]\u001b[0m Finished trial#28 with value: 5.7570095054003625 with parameters: {'gamma': 3.939888596202314, 'c': 16384.141056204513, 'epsilon': 0.27842171263740256}. Best is trial#25 with value: 5.7502468282164525.\u001b[0m\n",
      "\u001b[32m[I 2020-05-06 08:35:47,114]\u001b[0m Finished trial#29 with value: 5.758615379907358 with parameters: {'gamma': 4.078933843839401, 'c': 16384.04319089945, 'epsilon': 0.3274091432977411}. Best is trial#25 with value: 5.7502468282164525.\u001b[0m\n",
      "\u001b[32m[I 2020-05-06 08:35:47,199]\u001b[0m Finished trial#30 with value: 5.751438010831209 with parameters: {'gamma': 3.9891239320539373, 'c': 16383.993394527493, 'epsilon': 0.09863514727345038}. Best is trial#25 with value: 5.7502468282164525.\u001b[0m\n",
      "\u001b[32m[I 2020-05-06 08:35:47,285]\u001b[0m Finished trial#31 with value: 5.757998461512154 with parameters: {'gamma': 4.1982585407103254, 'c': 16383.965657100061, 'epsilon': 0.30673542778869617}. Best is trial#25 with value: 5.7502468282164525.\u001b[0m\n",
      "\u001b[32m[I 2020-05-06 08:35:47,369]\u001b[0m Finished trial#32 with value: 5.7537826361715885 with parameters: {'gamma': 3.9041640913548132, 'c': 16383.936441401715, 'epsilon': 0.1760535736579208}. Best is trial#25 with value: 5.7502468282164525.\u001b[0m\n",
      "\u001b[32m[I 2020-05-06 08:35:47,448]\u001b[0m Finished trial#33 with value: 5.752731896949737 with parameters: {'gamma': 3.9287870159806637, 'c': 16383.771360313696, 'epsilon': 0.14145047915545633}. Best is trial#25 with value: 5.7502468282164525.\u001b[0m\n",
      "\u001b[32m[I 2020-05-06 08:35:47,528]\u001b[0m Finished trial#34 with value: 5.755848398076568 with parameters: {'gamma': 3.8101096270165913, 'c': 16383.971242409962, 'epsilon': 0.24351569649441557}. Best is trial#25 with value: 5.7502468282164525.\u001b[0m\n"
     ]
    },
    {
     "name": "stderr",
     "output_type": "stream",
     "text": [
      "\u001b[32m[I 2020-05-06 08:35:47,609]\u001b[0m Finished trial#35 with value: 5.751303376656554 with parameters: {'gamma': 4.106988159951556, 'c': 16383.856792167453, 'epsilon': 0.09292937406209462}. Best is trial#25 with value: 5.7502468282164525.\u001b[0m\n",
      "\u001b[32m[I 2020-05-06 08:35:47,694]\u001b[0m Finished trial#36 with value: 5.757339619542418 with parameters: {'gamma': 3.873767037648648, 'c': 16383.915453199057, 'epsilon': 0.2895577479043259}. Best is trial#25 with value: 5.7502468282164525.\u001b[0m\n",
      "\u001b[32m[I 2020-05-06 08:35:47,779]\u001b[0m Finished trial#37 with value: 5.7547056441346225 with parameters: {'gamma': 4.1901361286124015, 'c': 16383.800758881875, 'epsilon': 0.2025032534177917}. Best is trial#25 with value: 5.7502468282164525.\u001b[0m\n",
      "\u001b[32m[I 2020-05-06 08:35:47,866]\u001b[0m Finished trial#38 with value: 5.754218801220518 with parameters: {'gamma': 4.072542162752177, 'c': 16383.506964036791, 'epsilon': 0.18815547481506417}. Best is trial#25 with value: 5.7502468282164525.\u001b[0m\n",
      "\u001b[32m[I 2020-05-06 08:35:47,973]\u001b[0m Finished trial#39 with value: 5.755516108204418 with parameters: {'gamma': 4.054908681694918, 'c': 16383.976839149882, 'epsilon': 0.23003714338979336}. Best is trial#25 with value: 5.7502468282164525.\u001b[0m\n",
      "\u001b[32m[I 2020-05-06 08:35:48,069]\u001b[0m Finished trial#40 with value: 5.7579783461028375 with parameters: {'gamma': 4.231648775579437, 'c': 16383.686659528066, 'epsilon': 0.30574826117336185}. Best is trial#25 with value: 5.7502468282164525.\u001b[0m\n",
      "\u001b[32m[I 2020-05-06 08:35:48,159]\u001b[0m Finished trial#41 with value: 5.750494415192771 with parameters: {'gamma': 3.911615809486132, 'c': 16383.65266699808, 'epsilon': 0.06831376362328505}. Best is trial#25 with value: 5.7502468282164525.\u001b[0m\n",
      "\u001b[32m[I 2020-05-06 08:35:48,247]\u001b[0m Finished trial#42 with value: 5.750468888170681 with parameters: {'gamma': 4.3463221284448394, 'c': 16383.5248216492, 'epsilon': 0.062198170406495217}. Best is trial#25 with value: 5.7502468282164525.\u001b[0m\n",
      "\u001b[32m[I 2020-05-06 08:35:48,329]\u001b[0m Finished trial#43 with value: 5.753754288764066 with parameters: {'gamma': 4.062757933758898, 'c': 16383.528408391141, 'epsilon': 0.17333829949371757}. Best is trial#25 with value: 5.7502468282164525.\u001b[0m\n",
      "\u001b[32m[I 2020-05-06 08:35:48,412]\u001b[0m Finished trial#44 with value: 5.75651270171755 with parameters: {'gamma': 4.195670080100008, 'c': 16383.492457385488, 'epsilon': 0.25998704548547463}. Best is trial#25 with value: 5.7502468282164525.\u001b[0m\n",
      "\u001b[32m[I 2020-05-06 08:35:48,493]\u001b[0m Finished trial#45 with value: 5.751965487437853 with parameters: {'gamma': 4.483431632870802, 'c': 16383.692605341015, 'epsilon': 0.11035009088328941}. Best is trial#25 with value: 5.7502468282164525.\u001b[0m\n",
      "\u001b[32m[I 2020-05-06 08:35:48,575]\u001b[0m Finished trial#46 with value: 5.752015877532429 with parameters: {'gamma': 4.315912495126555, 'c': 16383.50669974249, 'epsilon': 0.11376494584158854}. Best is trial#25 with value: 5.7502468282164525.\u001b[0m\n",
      "\u001b[32m[I 2020-05-06 08:35:48,657]\u001b[0m Finished trial#47 with value: 5.757294244001284 with parameters: {'gamma': 4.178494679748182, 'c': 16383.489179381666, 'epsilon': 0.2847750331804578}. Best is trial#25 with value: 5.7502468282164525.\u001b[0m\n",
      "\u001b[32m[I 2020-05-06 08:35:48,738]\u001b[0m Finished trial#48 with value: 5.752581162869244 with parameters: {'gamma': 4.378336951228288, 'c': 16383.707774568285, 'epsilon': 0.13144823990139337}. Best is trial#25 with value: 5.7502468282164525.\u001b[0m\n",
      "\u001b[32m[I 2020-05-06 08:35:48,819]\u001b[0m Finished trial#49 with value: 5.757796254206413 with parameters: {'gamma': 4.0378413763402925, 'c': 16383.568458597532, 'epsilon': 0.3021044644239921}. Best is trial#25 with value: 5.7502468282164525.\u001b[0m\n",
      "\u001b[32m[I 2020-05-06 08:35:48,907]\u001b[0m Finished trial#50 with value: 5.751495483361635 with parameters: {'gamma': 4.458243736465322, 'c': 16383.726842827233, 'epsilon': 0.09534932448977879}. Best is trial#25 with value: 5.7502468282164525.\u001b[0m\n",
      "\u001b[32m[I 2020-05-06 08:35:48,988]\u001b[0m Finished trial#51 with value: 5.756252090491418 with parameters: {'gamma': 4.1290596231849985, 'c': 16383.768517393508, 'epsilon': 0.25257134185704533}. Best is trial#25 with value: 5.7502468282164525.\u001b[0m\n",
      "\u001b[32m[I 2020-05-06 08:35:49,072]\u001b[0m Finished trial#52 with value: 5.757248274531567 with parameters: {'gamma': 4.517347244765101, 'c': 16383.871073626646, 'epsilon': 0.2797874765388193}. Best is trial#25 with value: 5.7502468282164525.\u001b[0m\n",
      "\u001b[32m[I 2020-05-06 08:35:49,157]\u001b[0m Finished trial#53 with value: 5.75851058163252 with parameters: {'gamma': 4.820570409891234, 'c': 16383.63215419248, 'epsilon': 0.31750597568878736}. Best is trial#25 with value: 5.7502468282164525.\u001b[0m\n",
      "\u001b[32m[I 2020-05-06 08:35:49,237]\u001b[0m Finished trial#54 with value: 5.75082150940731 with parameters: {'gamma': 4.613003388560686, 'c': 16383.697959033076, 'epsilon': 0.07158068222428982}. Best is trial#25 with value: 5.7502468282164525.\u001b[0m\n",
      "\u001b[32m[I 2020-05-06 08:35:49,317]\u001b[0m Finished trial#55 with value: 5.755317728652123 with parameters: {'gamma': 4.613751633106486, 'c': 16383.901492961575, 'epsilon': 0.21770346363216592}. Best is trial#25 with value: 5.7502468282164525.\u001b[0m\n",
      "\u001b[32m[I 2020-05-06 08:35:49,401]\u001b[0m Finished trial#56 with value: 5.754475028544009 with parameters: {'gamma': 4.65611925296236, 'c': 16383.701281912461, 'epsilon': 0.1901814107190352}. Best is trial#25 with value: 5.7502468282164525.\u001b[0m\n",
      "\u001b[32m[I 2020-05-06 08:35:49,484]\u001b[0m Finished trial#57 with value: 5.750506169523439 with parameters: {'gamma': 4.620402763340314, 'c': 16383.550183581447, 'epsilon': 0.06041943982492732}. Best is trial#25 with value: 5.7502468282164525.\u001b[0m\n",
      "\u001b[32m[I 2020-05-06 08:35:49,566]\u001b[0m Finished trial#58 with value: 5.752973930686838 with parameters: {'gamma': 4.511126147791362, 'c': 16384.17694609795, 'epsilon': 0.14292997000820887}. Best is trial#25 with value: 5.7502468282164525.\u001b[0m\n",
      "\u001b[32m[I 2020-05-06 08:35:49,651]\u001b[0m Finished trial#59 with value: 5.751894771582053 with parameters: {'gamma': 4.217496923575602, 'c': 16383.837786126118, 'epsilon': 0.11090145438762043}. Best is trial#25 with value: 5.7502468282164525.\u001b[0m\n",
      "\u001b[32m[I 2020-05-06 08:35:49,732]\u001b[0m Finished trial#60 with value: 5.7518222722264 with parameters: {'gamma': 4.692309250426168, 'c': 16383.476985076944, 'epsilon': 0.10353657790340311}. Best is trial#25 with value: 5.7502468282164525.\u001b[0m\n",
      "\u001b[32m[I 2020-05-06 08:35:49,827]\u001b[0m Finished trial#61 with value: 5.751608289159334 with parameters: {'gamma': 4.790682055281715, 'c': 16383.333566794852, 'epsilon': 0.0955884490413027}. Best is trial#25 with value: 5.7502468282164525.\u001b[0m\n",
      "\u001b[32m[I 2020-05-06 08:35:49,914]\u001b[0m Finished trial#62 with value: 5.757133486441004 with parameters: {'gamma': 4.577917174526881, 'c': 16383.742339156197, 'epsilon': 0.27555995991360915}. Best is trial#25 with value: 5.7502468282164525.\u001b[0m\n",
      "\u001b[32m[I 2020-05-06 08:35:49,998]\u001b[0m Finished trial#63 with value: 5.755984317246317 with parameters: {'gamma': 4.423846112969858, 'c': 16383.740077287059, 'epsilon': 0.24110061489064988}. Best is trial#25 with value: 5.7502468282164525.\u001b[0m\n",
      "\u001b[32m[I 2020-05-06 08:35:50,080]\u001b[0m Finished trial#64 with value: 5.754150136758365 with parameters: {'gamma': 5.02269426685916, 'c': 16383.534570768137, 'epsilon': 0.17740100425544225}. Best is trial#25 with value: 5.7502468282164525.\u001b[0m\n",
      "\u001b[32m[I 2020-05-06 08:35:50,164]\u001b[0m Finished trial#65 with value: 5.751522950805194 with parameters: {'gamma': 4.489736017493941, 'c': 16383.887302663074, 'epsilon': 0.09591262213127368}. Best is trial#25 with value: 5.7502468282164525.\u001b[0m\n",
      "\u001b[32m[I 2020-05-06 08:35:50,245]\u001b[0m Finished trial#66 with value: 5.752698205263784 with parameters: {'gamma': 4.3962258943178645, 'c': 16383.511567333768, 'epsilon': 0.13506048771933388}. Best is trial#25 with value: 5.7502468282164525.\u001b[0m\n",
      "\u001b[32m[I 2020-05-06 08:35:50,327]\u001b[0m Finished trial#67 with value: 5.75252497693975 with parameters: {'gamma': 4.51153595198721, 'c': 16383.61806466783, 'epsilon': 0.12822161056318002}. Best is trial#25 with value: 5.7502468282164525.\u001b[0m\n",
      "\u001b[32m[I 2020-05-06 08:35:50,412]\u001b[0m Finished trial#68 with value: 5.750461618159076 with parameters: {'gamma': 4.580978961535099, 'c': 16383.425212114968, 'epsilon': 0.059288414533177694}. Best is trial#25 with value: 5.7502468282164525.\u001b[0m\n"
     ]
    },
    {
     "name": "stderr",
     "output_type": "stream",
     "text": [
      "\u001b[32m[I 2020-05-06 08:35:50,500]\u001b[0m Finished trial#69 with value: 5.755019905678445 with parameters: {'gamma': 5.0386336320719645, 'c': 16383.595595252791, 'epsilon': 0.205697266028055}. Best is trial#25 with value: 5.7502468282164525.\u001b[0m\n",
      "\u001b[32m[I 2020-05-06 08:35:50,596]\u001b[0m Finished trial#70 with value: 5.752830465267761 with parameters: {'gamma': 4.603243958704027, 'c': 16383.707914526685, 'epsilon': 0.13719452731451626}. Best is trial#25 with value: 5.7502468282164525.\u001b[0m\n",
      "\u001b[32m[I 2020-05-06 08:35:50,682]\u001b[0m Finished trial#71 with value: 5.754471061214408 with parameters: {'gamma': 4.545891561506097, 'c': 16383.71258751951, 'epsilon': 0.19118866404993262}. Best is trial#25 with value: 5.7502468282164525.\u001b[0m\n",
      "\u001b[32m[I 2020-05-06 08:35:50,765]\u001b[0m Finished trial#72 with value: 5.750703174156434 with parameters: {'gamma': 4.441397543390229, 'c': 16383.338595233989, 'epsilon': 0.06934445204729196}. Best is trial#25 with value: 5.7502468282164525.\u001b[0m\n",
      "\u001b[32m[I 2020-05-06 08:35:50,851]\u001b[0m Finished trial#73 with value: 5.750298412838061 with parameters: {'gamma': 4.691152315498476, 'c': 16383.474477936246, 'epsilon': 0.05234550424015988}. Best is trial#25 with value: 5.7502468282164525.\u001b[0m\n",
      "\u001b[32m[I 2020-05-06 08:35:50,944]\u001b[0m Finished trial#74 with value: 5.75085252683896 with parameters: {'gamma': 4.03166699015787, 'c': 16384.091942990548, 'epsilon': 0.07914830305170893}. Best is trial#25 with value: 5.7502468282164525.\u001b[0m\n",
      "\u001b[32m[I 2020-05-06 08:35:51,035]\u001b[0m Finished trial#75 with value: 5.753781415390516 with parameters: {'gamma': 4.958160721263575, 'c': 16383.585947410369, 'epsilon': 0.16541073472020248}. Best is trial#25 with value: 5.7502468282164525.\u001b[0m\n",
      "\u001b[32m[I 2020-05-06 08:35:51,122]\u001b[0m Finished trial#76 with value: 5.751860110669056 with parameters: {'gamma': 4.357838076374003, 'c': 16383.924031678464, 'epsilon': 0.10825579847439969}. Best is trial#25 with value: 5.7502468282164525.\u001b[0m\n",
      "\u001b[32m[I 2020-05-06 08:35:51,220]\u001b[0m Finished trial#77 with value: 5.754444830407923 with parameters: {'gamma': 5.05378757494465, 'c': 16383.291718023851, 'epsilon': 0.1869864141890466}. Best is trial#25 with value: 5.7502468282164525.\u001b[0m\n",
      "\u001b[32m[I 2020-05-06 08:35:51,324]\u001b[0m Finished trial#78 with value: 5.751696307541774 with parameters: {'gamma': 4.6901947702118605, 'c': 16383.325685602118, 'epsilon': 0.09946521570634129}. Best is trial#25 with value: 5.7502468282164525.\u001b[0m\n",
      "\u001b[32m[I 2020-05-06 08:35:51,426]\u001b[0m Finished trial#79 with value: 5.752111905821614 with parameters: {'gamma': 4.623305145066563, 'c': 16383.576237119143, 'epsilon': 0.1136511707319242}. Best is trial#25 with value: 5.7502468282164525.\u001b[0m\n",
      "\u001b[32m[I 2020-05-06 08:35:51,513]\u001b[0m Finished trial#80 with value: 5.750428911406243 with parameters: {'gamma': 4.572119716702305, 'c': 16383.27840225498, 'epsilon': 0.058241143815066926}. Best is trial#25 with value: 5.7502468282164525.\u001b[0m\n",
      "\u001b[32m[I 2020-05-06 08:35:51,600]\u001b[0m Finished trial#81 with value: 5.753529266422245 with parameters: {'gamma': 4.832677834404897, 'c': 16383.973146476204, 'epsilon': 0.15797928997731597}. Best is trial#25 with value: 5.7502468282164525.\u001b[0m\n",
      "\u001b[32m[I 2020-05-06 08:35:51,689]\u001b[0m Finished trial#82 with value: 5.752416021644805 with parameters: {'gamma': 4.500730939381146, 'c': 16384.05020188211, 'epsilon': 0.12479532402071515}. Best is trial#25 with value: 5.7502468282164525.\u001b[0m\n",
      "\u001b[32m[I 2020-05-06 08:35:51,780]\u001b[0m Finished trial#83 with value: 5.752989858126732 with parameters: {'gamma': 4.1637290635041415, 'c': 16383.997841529332, 'epsilon': 0.14728139109057942}. Best is trial#25 with value: 5.7502468282164525.\u001b[0m\n",
      "\u001b[32m[I 2020-05-06 08:35:51,875]\u001b[0m Finished trial#84 with value: 5.752704601765419 with parameters: {'gamma': 4.770260804337425, 'c': 16383.389142809701, 'epsilon': 0.13139952014242695}. Best is trial#25 with value: 5.7502468282164525.\u001b[0m\n",
      "\u001b[32m[I 2020-05-06 08:35:51,971]\u001b[0m Finished trial#85 with value: 5.750864631359918 with parameters: {'gamma': 4.6298180921487475, 'c': 16383.348956274673, 'epsilon': 0.07290652909667097}. Best is trial#25 with value: 5.7502468282164525.\u001b[0m\n",
      "\u001b[32m[I 2020-05-06 08:35:52,058]\u001b[0m Finished trial#86 with value: 5.755567747170579 with parameters: {'gamma': 4.818966014919786, 'c': 16383.616470897528, 'epsilon': 0.2236680395424732}. Best is trial#25 with value: 5.7502468282164525.\u001b[0m\n",
      "\u001b[32m[I 2020-05-06 08:35:52,146]\u001b[0m Finished trial#87 with value: 5.753039585720428 with parameters: {'gamma': 3.982520986104669, 'c': 16383.848543470247, 'epsilon': 0.15101286255375337}. Best is trial#25 with value: 5.7502468282164525.\u001b[0m\n",
      "\u001b[32m[I 2020-05-06 08:35:52,234]\u001b[0m Finished trial#88 with value: 5.751967097717564 with parameters: {'gamma': 4.45784332872238, 'c': 16383.522753514928, 'epsilon': 0.11066846846334571}. Best is trial#25 with value: 5.7502468282164525.\u001b[0m\n",
      "\u001b[32m[I 2020-05-06 08:35:52,325]\u001b[0m Finished trial#89 with value: 5.750551796812733 with parameters: {'gamma': 4.39010526867048, 'c': 16383.317560838947, 'epsilon': 0.06461056993090708}. Best is trial#25 with value: 5.7502468282164525.\u001b[0m\n",
      "\u001b[32m[I 2020-05-06 08:35:52,420]\u001b[0m Finished trial#90 with value: 5.751637905289115 with parameters: {'gamma': 4.682759842942974, 'c': 16383.516835409933, 'epsilon': 0.09764927198222736}. Best is trial#25 with value: 5.7502468282164525.\u001b[0m\n",
      "\u001b[32m[I 2020-05-06 08:35:52,531]\u001b[0m Finished trial#91 with value: 5.7518166963415895 with parameters: {'gamma': 4.85885202292886, 'c': 16383.251022288885, 'epsilon': 0.10167254256851228}. Best is trial#25 with value: 5.7502468282164525.\u001b[0m\n",
      "\u001b[32m[I 2020-05-06 08:35:52,647]\u001b[0m Finished trial#92 with value: 5.751698421451472 with parameters: {'gamma': 4.776978744892188, 'c': 16382.887231202778, 'epsilon': 0.09865432333917457}. Best is trial#25 with value: 5.7502468282164525.\u001b[0m\n",
      "\u001b[32m[I 2020-05-06 08:35:52,747]\u001b[0m Finished trial#93 with value: 5.754259531182948 with parameters: {'gamma': 4.812228379822675, 'c': 16383.270039695317, 'epsilon': 0.18167748215497276}. Best is trial#25 with value: 5.7502468282164525.\u001b[0m\n",
      "\u001b[32m[I 2020-05-06 08:35:52,846]\u001b[0m Finished trial#94 with value: 5.751923260434201 with parameters: {'gamma': 4.692667444672907, 'c': 16383.022886792862, 'epsilon': 0.10681289684402501}. Best is trial#25 with value: 5.7502468282164525.\u001b[0m\n",
      "\u001b[32m[I 2020-05-06 08:35:52,948]\u001b[0m Finished trial#95 with value: 5.750487860655634 with parameters: {'gamma': 5.33483550539175, 'c': 16382.756453456595, 'epsilon': 0.053263069641609144}. Best is trial#25 with value: 5.7502468282164525.\u001b[0m\n",
      "\u001b[32m[I 2020-05-06 08:35:53,050]\u001b[0m Finished trial#96 with value: 5.752807782566963 with parameters: {'gamma': 4.3857760288834555, 'c': 16383.697540131145, 'epsilon': 0.13877853766970152}. Best is trial#25 with value: 5.7502468282164525.\u001b[0m\n",
      "\u001b[32m[I 2020-05-06 08:35:53,159]\u001b[0m Finished trial#97 with value: 5.750318561095297 with parameters: {'gamma': 4.62784081233597, 'c': 16383.189603754186, 'epsilon': 0.05374598069357133}. Best is trial#25 with value: 5.7502468282164525.\u001b[0m\n",
      "\u001b[32m[I 2020-05-06 08:35:53,258]\u001b[0m Finished trial#98 with value: 5.754958726473926 with parameters: {'gamma': 4.6696709706328186, 'c': 16383.80462464592, 'epsilon': 0.20559074632067412}. Best is trial#25 with value: 5.7502468282164525.\u001b[0m\n",
      "\u001b[32m[I 2020-05-06 08:35:53,366]\u001b[0m Finished trial#99 with value: 5.755887867246742 with parameters: {'gamma': 5.014039568013044, 'c': 16383.227273624794, 'epsilon': 0.23393778675627594}. Best is trial#25 with value: 5.7502468282164525.\u001b[0m\n",
      "\u001b[32m[I 2020-05-06 08:35:53,476]\u001b[0m Finished trial#100 with value: 5.75263300856603 with parameters: {'gamma': 4.184544341218723, 'c': 16384.8936024731, 'epsilon': 0.13522825752411138}. Best is trial#25 with value: 5.7502468282164525.\u001b[0m\n",
      "\u001b[32m[I 2020-05-06 08:35:53,571]\u001b[0m Finished trial#101 with value: 5.755580187563924 with parameters: {'gamma': 5.49361455428718, 'c': 16383.251117492542, 'epsilon': 0.22168368083752713}. Best is trial#25 with value: 5.7502468282164525.\u001b[0m\n",
      "\u001b[32m[I 2020-05-06 08:35:53,663]\u001b[0m Finished trial#102 with value: 5.750927247182141 with parameters: {'gamma': 6.008407617207369, 'c': 16382.165611596642, 'epsilon': 0.062272943530396925}. Best is trial#25 with value: 5.7502468282164525.\u001b[0m\n"
     ]
    },
    {
     "name": "stderr",
     "output_type": "stream",
     "text": [
      "\u001b[32m[I 2020-05-06 08:35:53,751]\u001b[0m Finished trial#103 with value: 5.751355333670778 with parameters: {'gamma': 4.78237321637897, 'c': 16383.080569767344, 'epsilon': 0.08745811183923662}. Best is trial#25 with value: 5.7502468282164525.\u001b[0m\n",
      "\u001b[32m[I 2020-05-06 08:35:53,842]\u001b[0m Finished trial#104 with value: 5.758098227565568 with parameters: {'gamma': 6.1962066985563675, 'c': 16382.525864570409, 'epsilon': 0.296498556666144}. Best is trial#25 with value: 5.7502468282164525.\u001b[0m\n",
      "\u001b[32m[I 2020-05-06 08:35:53,943]\u001b[0m Finished trial#105 with value: 5.755313158160351 with parameters: {'gamma': 4.766447827420908, 'c': 16383.107480759549, 'epsilon': 0.21600889365094986}. Best is trial#25 with value: 5.7502468282164525.\u001b[0m\n",
      "\u001b[32m[I 2020-05-06 08:35:54,040]\u001b[0m Finished trial#106 with value: 5.7596126203267906 with parameters: {'gamma': 7.888011418318197, 'c': 16382.694941946405, 'epsilon': 0.3315118725636468}. Best is trial#25 with value: 5.7502468282164525.\u001b[0m\n",
      "\u001b[32m[I 2020-05-06 08:35:54,131]\u001b[0m Finished trial#107 with value: 5.7729273242697605 with parameters: {'gamma': 5.288146651958103, 'c': 16384.31535285774, 'epsilon': 0.7343772298957121}. Best is trial#25 with value: 5.7502468282164525.\u001b[0m\n",
      "\u001b[32m[I 2020-05-06 08:35:54,229]\u001b[0m Finished trial#108 with value: 5.761097331926455 with parameters: {'gamma': 5.245152005304146, 'c': 16384.20607213344, 'epsilon': 0.3980125340306832}. Best is trial#25 with value: 5.7502468282164525.\u001b[0m\n",
      "\u001b[32m[I 2020-05-06 08:35:54,323]\u001b[0m Finished trial#109 with value: 5.758849976581649 with parameters: {'gamma': 3.781807978893527, 'c': 16381.840668575876, 'epsilon': 0.3378127616659582}. Best is trial#25 with value: 5.7502468282164525.\u001b[0m\n",
      "\u001b[32m[I 2020-05-06 08:35:54,419]\u001b[0m Finished trial#110 with value: 5.755213496185195 with parameters: {'gamma': 7.6844943031271145, 'c': 16381.570114866076, 'epsilon': 0.19110677577852336}. Best is trial#25 with value: 5.7502468282164525.\u001b[0m\n",
      "\u001b[32m[I 2020-05-06 08:35:54,513]\u001b[0m Finished trial#111 with value: 5.756534855266186 with parameters: {'gamma': 3.599873546739907, 'c': 16385.609083720756, 'epsilon': 0.26745119511737575}. Best is trial#25 with value: 5.7502468282164525.\u001b[0m\n",
      "\u001b[32m[I 2020-05-06 08:35:54,609]\u001b[0m Finished trial#112 with value: 5.7556608406724585 with parameters: {'gamma': 6.33752175702367, 'c': 16380.350411939547, 'epsilon': 0.21675104392395556}. Best is trial#25 with value: 5.7502468282164525.\u001b[0m\n",
      "\u001b[32m[I 2020-05-06 08:35:54,704]\u001b[0m Finished trial#113 with value: 5.7804138890587415 with parameters: {'gamma': 2.6131540359899086, 'c': 16388.22117761353, 'epsilon': 0.9528734942664823}. Best is trial#25 with value: 5.7502468282164525.\u001b[0m\n",
      "\u001b[32m[I 2020-05-06 08:35:54,797]\u001b[0m Finished trial#114 with value: 5.773621626982198 with parameters: {'gamma': 4.630984893747835, 'c': 16386.066320538514, 'epsilon': 0.7531471250633317}. Best is trial#25 with value: 5.7502468282164525.\u001b[0m\n",
      "\u001b[32m[I 2020-05-06 08:35:54,892]\u001b[0m Finished trial#115 with value: 5.75692705131333 with parameters: {'gamma': 6.7080542677367205, 'c': 16373.27406040702, 'epsilon': 0.25468142199572175}. Best is trial#25 with value: 5.7502468282164525.\u001b[0m\n",
      "\u001b[32m[I 2020-05-06 08:35:54,982]\u001b[0m Finished trial#116 with value: 5.757996395030258 with parameters: {'gamma': 7.3413260102329465, 'c': 16379.344204802515, 'epsilon': 0.2839112897000464}. Best is trial#25 with value: 5.7502468282164525.\u001b[0m\n",
      "\u001b[32m[I 2020-05-06 08:35:55,071]\u001b[0m Finished trial#117 with value: 5.749751889571951 with parameters: {'gamma': 2.0429834996875442, 'c': 16384.62037224312, 'epsilon': 0.07913982450497392}. Best is trial#117 with value: 5.749751889571951.\u001b[0m\n",
      "\u001b[32m[I 2020-05-06 08:35:55,165]\u001b[0m Finished trial#118 with value: 5.7776602422701195 with parameters: {'gamma': 6.516495602723119, 'c': 16381.787312025092, 'epsilon': 0.858713733355073}. Best is trial#117 with value: 5.749751889571951.\u001b[0m\n",
      "\u001b[32m[I 2020-05-06 08:35:55,259]\u001b[0m Finished trial#119 with value: 5.757926015983361 with parameters: {'gamma': 3.915663666945261, 'c': 16382.094717826185, 'epsilon': 0.30754442413695177}. Best is trial#117 with value: 5.749751889571951.\u001b[0m\n",
      "\u001b[32m[I 2020-05-06 08:35:55,353]\u001b[0m Finished trial#120 with value: 5.751528299752863 with parameters: {'gamma': 3.313993516009655, 'c': 16389.019578747193, 'epsilon': 0.11008876816804186}. Best is trial#117 with value: 5.749751889571951.\u001b[0m\n",
      "\u001b[32m[I 2020-05-06 08:35:55,447]\u001b[0m Finished trial#121 with value: 5.758984276106235 with parameters: {'gamma': 7.585280833857898, 'c': 16379.4664345874, 'epsilon': 0.31383015231360345}. Best is trial#117 with value: 5.749751889571951.\u001b[0m\n",
      "\u001b[32m[I 2020-05-06 08:35:55,538]\u001b[0m Finished trial#122 with value: 5.765245104578263 with parameters: {'gamma': 5.942221531869234, 'c': 16390.2139552381, 'epsilon': 0.5183035899013276}. Best is trial#117 with value: 5.749751889571951.\u001b[0m\n",
      "\u001b[32m[I 2020-05-06 08:35:55,632]\u001b[0m Finished trial#123 with value: 5.766253526195961 with parameters: {'gamma': 1.5731797378726502, 'c': 16391.730791712354, 'epsilon': 0.5905794471898306}. Best is trial#117 with value: 5.749751889571951.\u001b[0m\n",
      "\u001b[32m[I 2020-05-06 08:35:55,728]\u001b[0m Finished trial#124 with value: 5.757043410573239 with parameters: {'gamma': 3.3268179481864566, 'c': 16377.400871326907, 'epsilon': 0.2869240277744601}. Best is trial#117 with value: 5.749751889571951.\u001b[0m\n"
     ]
    }
   ],
   "source": [
    "def objective(trial):\n",
    "    c = trial.suggest_uniform('c', 2**(-5),  2**15)\n",
    "    gamma = trial.suggest_uniform('gamma', 2**(-15),  2**3)    \n",
    "    epsilon = trial.suggest_uniform('epsilon', 0.05,  1.0)\n",
    "    \n",
    "    svr  = SVR(kernel='rbf', C=c, gamma=gamma, epsilon=epsilon)\n",
    "    svr.fit(x_treino, y_treino)\n",
    "    \n",
    "    pred = svr.predict(x_teste)\n",
    "    mae = metrics.mean_absolute_error(y_true=y_teste, y_pred=pred)\n",
    "    \n",
    "    return mae\n",
    "\n",
    "\n",
    "sampler = optuna.samplers.CmaEsSampler()\n",
    "study = optuna.create_study(sampler=sampler)\n",
    "study.optimize(objective, n_trials=125)\n"
   ]
  },
  {
   "cell_type": "markdown",
   "metadata": {},
   "source": [
    "Logo, como resultado os melhores parâmetros encontrados durante a busca são mostrados:"
   ]
  },
  {
   "cell_type": "code",
   "execution_count": 20,
   "metadata": {},
   "outputs": [
    {
     "data": {
      "text/plain": [
       "{'c': 16384.62037224312,\n",
       " 'epsilon': 0.07913982450497392,\n",
       " 'gamma': 2.0429834996875442}"
      ]
     },
     "execution_count": 20,
     "metadata": {},
     "output_type": "execute_result"
    }
   ],
   "source": [
    "study.best_params"
   ]
  },
  {
   "cell_type": "markdown",
   "metadata": {},
   "source": [
    "Bem como o resultado para o  erro absoluto médio (MAE) no conjunto de teste com esses parâmetros:"
   ]
  },
  {
   "cell_type": "code",
   "execution_count": 21,
   "metadata": {},
   "outputs": [
    {
     "data": {
      "text/plain": [
       "5.749751889571951"
      ]
     },
     "execution_count": 21,
     "metadata": {},
     "output_type": "execute_result"
    }
   ],
   "source": [
    "study.best_value"
   ]
  },
  {
   "cell_type": "code",
   "execution_count": null,
   "metadata": {},
   "outputs": [],
   "source": []
  }
 ],
 "metadata": {
  "kernelspec": {
   "display_name": "Python 3",
   "language": "python",
   "name": "python3"
  },
  "language_info": {
   "codemirror_mode": {
    "name": "ipython",
    "version": 3
   },
   "file_extension": ".py",
   "mimetype": "text/x-python",
   "name": "python",
   "nbconvert_exporter": "python",
   "pygments_lexer": "ipython3",
   "version": "3.5.6"
  }
 },
 "nbformat": 4,
 "nbformat_minor": 4
}
