{
 "cells": [
  {
   "cell_type": "markdown",
   "metadata": {},
   "source": [
    "Neste trabalho iremos fazer a busca dos melhores hiperparametros de uma SVM para Regressão num banco de dados em particular. Para o desenvolvimento utilizaremos a biblioteca sklearn.svm que apresenta a função  SVR() que implementa o regressor SVM e tem vários hiperparametros.\n",
    "Vamos usar o kernel “rbf”, havendo 3 hiperparametros que consideramos como os mais importantes: C, gamma, e epsilon.\n",
    "\n",
    "Vamos fazer a busca no range:\n",
    "    - C entre 2^{-5} e 2^{15}  (uniforme nos expoentes);\n",
    "    - gamma entre 2^{15} e 2^{-3} (uniforme nos expoentes);\n",
    "    - episolon entre 0.05 e 10  (uniforme neste intervalo);\n",
    "    \n",
    "Utilizamos como dados de treino e testes os arquivos Xtreino5.npy e Xteste5.npy. Para as sáidas dos dados correspondenetres usamos os arquivos ytreino5.npy e yteste5.npy. Todos os arquivos foram disponibilizados na página no trabalho https://www.ic.unicamp.br/~wainer/cursos/1s2020/431/ex4.html."
   ]
  },
  {
   "cell_type": "markdown",
   "metadata": {},
   "source": [
    "### Importação das Bibliotecas"
   ]
  },
  {
   "cell_type": "markdown",
   "metadata": {},
   "source": [
    "Como primeiro passo, importamos as bibliotecas necessárias para a implementação desse trabalho: numpy e sklearn.svm."
   ]
  },
  {
   "cell_type": "code",
   "execution_count": 1,
   "metadata": {},
   "outputs": [],
   "source": [
    "import numpy as np\n",
    "from sklearn.svm import SVR\n",
    "from sklearn.model_selection import RandomizedSearchCV, GridSearchCV\n",
    "from sklearn import metrics\n",
    "import pyspark\n",
    "from hyperopt import fmin, tpe, hp, SparkTrials, STATUS_OK, Trials\n",
    "from sklearn.model_selection import cross_val_score\n",
    "\n",
    "from pyswarm import pso\n",
    "from simanneal import Annealer\n",
    "import optuna\n",
    "from scipy.stats import loguniform\n",
    "import random"
   ]
  },
  {
   "cell_type": "markdown",
   "metadata": {},
   "source": [
    "### Leitura e Exibição dos arquivos"
   ]
  },
  {
   "cell_type": "markdown",
   "metadata": {},
   "source": [
    "Após importamos as bibliotecas necessárias, realizamos a leitura dos arquivos .npy disponibilizados para uso neste trabalho. Para isso fizemos uso da função load() da biblioteca numpy. Armazenamos cada um dos arquivos de treino e de teste em variáveis locais."
   ]
  },
  {
   "cell_type": "code",
   "execution_count": 2,
   "metadata": {},
   "outputs": [],
   "source": [
    "x_treino = np.load('data/Xtreino5.npy')\n",
    "x_teste = np.load('data/Xteste5.npy')\n",
    "y_treino = np.load('data/ytreino5.npy')\n",
    "y_teste = np.load('data/yteste5.npy')"
   ]
  },
  {
   "cell_type": "markdown",
   "metadata": {},
   "source": [
    "### Medida de erro"
   ]
  },
  {
   "cell_type": "markdown",
   "metadata": {},
   "source": [
    "Como primeira tarefa, para cada conjunto de hiperparametros, treinamos o SVM no conjunto de treino (Xtreino e ytreino), e medimos o erro absoluto médio (MAE) no conjunto de teste (Xteste e yteste)."
   ]
  },
  {
   "cell_type": "markdown",
   "metadata": {},
   "source": [
    "## Randomized Search"
   ]
  },
  {
   "cell_type": "code",
   "execution_count": 3,
   "metadata": {},
   "outputs": [],
   "source": [
    "n_combinations = 125\n",
    "\n",
    "# Hyperparameters Search Space\n",
    "# C_range = np.random.uniform(-5, 15, n_combinations).astype(float)\n",
    "# C_range = 2**C_range\n",
    "\n",
    "C_range = loguniform(2**-5, 2**15).rvs(size=n_combinations)\n",
    "\n",
    "# gamma_range = np.random.uniform(-15, 3, n_combinations).astype(float)\n",
    "# gamma_range = 2**gamma_range\n",
    "\n",
    "gamma_range = loguniform(2**-15, 2** 3).rvs(size=n_combinations)\n",
    "\n",
    "epsilon_range = np.random.uniform(0.05, 1.0, n_combinations).astype(float)\n",
    "\n",
    " \n",
    "hyperparameters = {'gamma': list(gamma_range), \n",
    "                    'C': list(C_range),\n",
    "                  'epsilon': list(epsilon_range)}\n",
    " \n",
    "# print (hyperparameters)"
   ]
  },
  {
   "cell_type": "code",
   "execution_count": 4,
   "metadata": {},
   "outputs": [
    {
     "name": "stdout",
     "output_type": "stream",
     "text": [
      "The best performing C value is: 2635.22\n",
      "The best performing gamma value is: 0.00003\n",
      "The best performing epsilon value is:  0.15\n"
     ]
    }
   ],
   "source": [
    "# Run randomized search\n",
    "randomCV = RandomizedSearchCV(SVR(kernel='rbf'), param_distributions=hyperparameters, n_iter=20)\n",
    "randomCV.fit(x_treino, y_treino)\n",
    " \n",
    "# Identify optimal hyperparameter values\n",
    "best_gamma  = randomCV.best_params_['gamma']\n",
    "best_C      = randomCV.best_params_['C']\n",
    "best_epsilon= randomCV.best_params_['epsilon']\n",
    "\n",
    "print(\"The best performing C value is: {:5.2f}\".format(best_C))\n",
    "print(\"The best performing gamma value is: {:5.5f}\".format(best_gamma))\n",
    "print(\"The best performing epsilon value is: {:5.2f}\".format(best_epsilon))\n"
   ]
  },
  {
   "cell_type": "code",
   "execution_count": 5,
   "metadata": {},
   "outputs": [
    {
     "name": "stdout",
     "output_type": "stream",
     "text": [
      "MAE:  2.745422696343669\n"
     ]
    }
   ],
   "source": [
    "# Validation\n",
    "\n",
    "svr  = SVR(kernel='rbf', gamma=best_gamma, epsilon=best_epsilon, C=best_C)\n",
    "svr.fit(x_treino, y_treino)\n",
    "\n",
    "pred = svr.predict(x_teste)\n",
    "\n",
    "# print(regression.score(x_teste, y_teste))\n",
    "print(\"MAE: \", metrics.mean_absolute_error(y_true=y_teste, y_pred=pred))"
   ]
  },
  {
   "cell_type": "markdown",
   "metadata": {},
   "source": [
    "### Grid seach"
   ]
  },
  {
   "cell_type": "markdown",
   "metadata": {},
   "source": [
    "O próximo algoritimo de otimização proposto foi o Grid Search. Seguindo a especificação de uma busca em uma grid de 5x5x5, amostras do range de busca foram tomadas:"
   ]
  },
  {
   "cell_type": "code",
   "execution_count": 6,
   "metadata": {},
   "outputs": [],
   "source": [
    "grid_c = random.sample(list(C_range), k=5)\n",
    "grid_gamma = random.sample(list(gamma_range), k=5)\n",
    "grid_episolon = random.sample(list(epsilon_range), k=5)\n",
    "\n",
    "hyperparameters_grid = {'gamma': list(grid_gamma), \n",
    "                        'C': list(grid_c),\n",
    "                        'epsilon': list(grid_episolon)}"
   ]
  },
  {
   "cell_type": "code",
   "execution_count": 7,
   "metadata": {},
   "outputs": [
    {
     "name": "stdout",
     "output_type": "stream",
     "text": [
      "The best performing gamma value is: 0.00010\n",
      "The best performing C value is: 6398.23\n",
      "The best performing epsilon value is:  0.93\n"
     ]
    }
   ],
   "source": [
    "# Run Grid Search\n",
    "randomCV = GridSearchCV(SVR(kernel='rbf'), param_grid=hyperparameters_grid, cv = 5)\n",
    "randomCV.fit(x_treino, y_treino)\n",
    " \n",
    "# Identify optimal hyperparameter values\n",
    "best_gamma  = randomCV.best_params_['gamma']\n",
    "best_C      = randomCV.best_params_['C']\n",
    "best_epsilon= randomCV.best_params_['epsilon']\n",
    " \n",
    "print(\"The best performing gamma value is: {:5.5f}\".format(best_gamma))\n",
    "print(\"The best performing C value is: {:5.2f}\".format(best_C))\n",
    "print(\"The best performing epsilon value is: {:5.2f}\".format(best_epsilon))"
   ]
  },
  {
   "cell_type": "code",
   "execution_count": 8,
   "metadata": {},
   "outputs": [
    {
     "name": "stdout",
     "output_type": "stream",
     "text": [
      "MAE:  2.498564684865281\n"
     ]
    }
   ],
   "source": [
    "# Validation\n",
    "\n",
    "svr  = SVR(kernel='rbf', gamma=best_gamma, epsilon=best_epsilon, C=best_C)\n",
    "svr.fit(x_treino, y_treino)\n",
    "\n",
    "pred = svr.predict(x_teste)\n",
    "\n",
    "# print(regression.score(x_teste, y_teste))\n",
    "print(\"MAE: \", metrics.mean_absolute_error(y_true=y_teste, y_pred=pred))"
   ]
  },
  {
   "cell_type": "markdown",
   "metadata": {},
   "source": [
    "### Otimização bayesiana"
   ]
  },
  {
   "cell_type": "markdown",
   "metadata": {},
   "source": [
    "Outro algoritimo proposto foi a otimização bayesiana. Para a sua implementação utilziamos a biblioteca hyperopt, que dispnibiliza O regressor (TPE) para modelar a distribuição de probabilidades que é muito mais rápido que a implementação padrão utilizando “processos gaussianos”.\n",
    "\n",
    "Esta implementação foi feita em passos:"
   ]
  },
  {
   "cell_type": "markdown",
   "metadata": {},
   "source": [
    "### Definir a Função de mínimo"
   ]
  },
  {
   "cell_type": "markdown",
   "metadata": {},
   "source": [
    "Como queremos pesquisar por Support Vector Machines (SVM), definimos um parâmetro params ['type'] como o nome do modelo, e uma função para executar o treinamento e retornar a precisão da validação cruzada. \n",
    "Como estamos tentando maximizar a precisão da validação cruzada, devemos negar esse valor para o hyperopt, pois o hyperopt sabe apenas como minimizar uma função."
   ]
  },
  {
   "cell_type": "code",
   "execution_count": 9,
   "metadata": {},
   "outputs": [],
   "source": [
    "def get_acc_status(clf,X_,y):\n",
    "    acc = cross_val_score(clf, X_, y, cv=5).mean()\n",
    "    return {'loss': -acc, 'status': STATUS_OK}"
   ]
  },
  {
   "cell_type": "code",
   "execution_count": 10,
   "metadata": {},
   "outputs": [],
   "source": [
    "def objective(params):\n",
    "    classifier_type = params['type']\n",
    "    del params['type']\n",
    "    if classifier_type == 'svm':\n",
    "        clf = SVR(**params)\n",
    "    else:\n",
    "        return 0\n",
    "    accuracy = cross_val_score(clf, x_treino, y_treino).mean()\n",
    "    \n",
    "    return {'loss': -accuracy, 'status': STATUS_OK}"
   ]
  },
  {
   "cell_type": "markdown",
   "metadata": {},
   "source": [
    "### Definir espaço de pesquisa sobre os hiperparâmetros"
   ]
  },
  {
   "cell_type": "code",
   "execution_count": 11,
   "metadata": {},
   "outputs": [],
   "source": [
    "search_space = hp.choice('classifier_type', [\n",
    "    {\n",
    "        'type': 'svm',\n",
    "        'C': hp.uniform('C', (2**-5), (2**15)),\n",
    "        'gamma': hp.uniform('gamma', (2**-15), (2**3)),\n",
    "        'epsilon': hp.uniform('epsilon', 0.05, 1.0),\n",
    "        'kernel': hp.choice('kernel', ['rbf'])\n",
    "    },\n",
    "])"
   ]
  },
  {
   "cell_type": "markdown",
   "metadata": {},
   "source": [
    "### Selecionar um algoritimo de busca"
   ]
  },
  {
   "cell_type": "markdown",
   "metadata": {},
   "source": [
    "As duas opções principais de algoritmos de busca são:\n",
    "\n",
    "    - hyperopt.tpe.suggest: Estimadores da Árvore de Parzen, uma abordagem bayesiana que seleciona iterativa e adaptativamente novas configurações de hiperparâmetro para explorar com base em resultados anteriores;\n",
    "    - hyperopt.rand.suggest: Pesquisa aleatória, uma abordagem não adaptativa que mostra o espaço de pesquisa.\n",
    "    \n",
    "Conforme pedido, utilziamos o algoritimo TPE."
   ]
  },
  {
   "cell_type": "markdown",
   "metadata": {},
   "source": [
    "### Executar o algoritmo de ajuste com hyperopt fmin ()"
   ]
  },
  {
   "cell_type": "markdown",
   "metadata": {},
   "source": [
    "Definimos max_evals como o número máximo de pontos no espaço do hiperparâmetro para testar, ou seja, o número máximo de modelos para ajustar e avaliar.\n",
    "\n",
    "O SparkTrials usa 2 argumentos:\n",
    "    - parallelism: Número de modelos para ajustar e avaliar simultaneamente.\n",
    "    - timeout: tempo máximo (em segundos) que fmin pode demorar. Este argumento é opcional.\n",
    "\n",
    "O rastreamento automatizado do MLflow está ativado por padrão. Ligue para mlflow.start_run () antes de chamar fmin (), como mostra o exemplo abaixo."
   ]
  },
  {
   "cell_type": "code",
   "execution_count": 12,
   "metadata": {},
   "outputs": [
    {
     "name": "stdout",
     "output_type": "stream",
     "text": [
      "100%|██████████| 125/125 [00:11<00:00, 10.57trial/s, best loss: -0.4178449176776374]\n",
      "The best performing gamma value is: 0.00965\n",
      "The best performing C value is: 21142.37\n",
      "The best performing epsilon value is:  0.30\n"
     ]
    }
   ],
   "source": [
    "hypopt_trials = Trials()\n",
    " \n",
    "best_params = fmin(objective, search_space, algo=tpe.suggest, \n",
    "max_evals=125, trials= hypopt_trials)\n",
    " \n",
    "best_gamma  = best_params['gamma']\n",
    "best_C      = best_params['C']\n",
    "best_epsilon= best_params['epsilon']\n",
    " \n",
    "print(\"The best performing gamma value is: {:5.5f}\".format(best_gamma))\n",
    "print(\"The best performing C value is: {:5.2f}\".format(best_C))\n",
    "print(\"The best performing epsilon value is: {:5.2f}\".format(best_epsilon))"
   ]
  },
  {
   "cell_type": "code",
   "execution_count": 13,
   "metadata": {},
   "outputs": [
    {
     "name": "stdout",
     "output_type": "stream",
     "text": [
      "MAE:  3.9556840799481083\n"
     ]
    }
   ],
   "source": [
    "# Validation\n",
    "\n",
    "svr  = SVR(kernel='rbf', gamma=best_gamma, epsilon=best_epsilon, C=best_C)\n",
    "svr.fit(x_treino, y_treino)\n",
    "\n",
    "pred = svr.predict(x_teste)\n",
    "\n",
    "# print(regression.score(x_teste, y_teste))\n",
    "print(\"MAE: \", metrics.mean_absolute_error(y_true=y_teste, y_pred=pred))"
   ]
  },
  {
   "cell_type": "markdown",
   "metadata": {},
   "source": [
    "## PSO"
   ]
  },
  {
   "cell_type": "code",
   "execution_count": 14,
   "metadata": {},
   "outputs": [
    {
     "name": "stdout",
     "output_type": "stream",
     "text": [
      "PSO...\n",
      "Stopping search: maximum iterations reached --> 11\n",
      " C optimal: 18603.56651115837\n",
      " Gamma Optimal: 3.0517578125e-05\n",
      " Epsilon Optimal: 0.05\n",
      "MAE:  2.28368919281739\n"
     ]
    }
   ],
   "source": [
    "# PARAMETERS\n",
    "C_MIN = 2**(-5)\n",
    "C_MAX = 2**15\n",
    "\n",
    "GAMMA_MIN = 2**(-15)\n",
    "GAMMA_MAX = 2**3\n",
    "\n",
    "EPSILON_MIN = 0.05\n",
    "EPSILON_MAX = 1.0\n",
    "\n",
    "lb = np.array([C_MIN, GAMMA_MIN, EPSILON_MIN])\n",
    "ub = np.array([C_MAX, GAMMA_MAX, EPSILON_MAX])\n",
    "\n",
    "# FUNCTION\n",
    "def svr_fun(X):\n",
    "    c = X[0]\n",
    "    g = X[1]\n",
    "    eps = X[2]\n",
    "    \n",
    "    svr  = SVR(kernel='rbf', C=c, gamma=g, epsilon=eps)\n",
    "    svr.fit(x_treino, y_treino)\n",
    "    \n",
    "    pred = svr.predict(x_teste)\n",
    "    mae = metrics.mean_absolute_error(y_true=y_teste, y_pred=pred)\n",
    "    \n",
    "    return mae\n",
    "\n",
    "print(\"PSO...\")\n",
    "x_opt, y_opt = pso(svr_fun, lb, ub, swarmsize=11, maxiter=11)\n",
    "\n",
    "print(\" C optimal: \"+ str(x_opt[0])+\n",
    "     \"\\n Gamma Optimal: \"+ str(x_opt[1])+\n",
    "     \"\\n Epsilon Optimal: \"+ str(x_opt[2]))\n",
    "print(\"MAE: \", str(y_opt))"
   ]
  },
  {
   "cell_type": "markdown",
   "metadata": {},
   "source": [
    "## Simulated Annealing"
   ]
  },
  {
   "cell_type": "markdown",
   "metadata": {},
   "source": [
    "Para a implementação dos Métodos de Simmulate Annealing e CMA-ES foi utilizado a biblioteca optuna.\n",
    "\n",
    "Para o método de Simulated Annealing a biblioteca fornece uma implementação via classe através dos chamados \"samplers\" para determinar os valores dos parâmetros a serem avaliados durante o teste. Para o Simmulated Annealing o sampler é implementado via classe explicitamente (vale ressaltar que estamos utilizando a implementação proposta pela própria documentação)."
   ]
  },
  {
   "cell_type": "code",
   "execution_count": 15,
   "metadata": {},
   "outputs": [],
   "source": [
    "class SimulatedAnnealingSampler(optuna.samplers.BaseSampler):\n",
    "    def __init__(self, temperature=100):\n",
    "        self._rng = np.random.RandomState()\n",
    "        self._temperature = temperature  # Current temperature.\n",
    "        self._current_trial = None  # Current state.\n",
    "\n",
    "    def sample_relative(self, study, trial, search_space):\n",
    "        if search_space == {}:\n",
    "            return {}\n",
    "\n",
    "        #\n",
    "        # An implementation of SA algorithm.\n",
    "        #\n",
    "\n",
    "        # Calculate transition probability.\n",
    "        prev_trial = study.trials[-2]\n",
    "        if self._current_trial is None or prev_trial.value <= self._current_trial.value:\n",
    "            probability = 1.0\n",
    "        else:\n",
    "            probability = np.exp((self._current_trial.value - prev_trial.value) / self._temperature)\n",
    "        self._temperature *= 0.9  # Decrease temperature.\n",
    "\n",
    "        # Transit the current state if the previous result is accepted.\n",
    "        if self._rng.uniform(0, 1) < probability:\n",
    "            self._current_trial = prev_trial\n",
    "\n",
    "        # Sample parameters from the neighborhood of the current point.\n",
    "        #\n",
    "        # The sampled parameters will be used during the next execution of\n",
    "        # the objective function passed to the study.\n",
    "        params = {}\n",
    "        for param_name, param_distribution in search_space.items():\n",
    "            if not isinstance(param_distribution, optuna.distributions.UniformDistribution):\n",
    "                raise NotImplementedError('Only suggest_uniform() is supported')\n",
    "\n",
    "            current_value = self._current_trial.params[param_name]\n",
    "            width = (param_distribution.high - param_distribution.low) * 0.1\n",
    "            neighbor_low = max(current_value - width, param_distribution.low)\n",
    "            neighbor_high = min(current_value + width, param_distribution.high)\n",
    "            params[param_name] = self._rng.uniform(neighbor_low, neighbor_high)\n",
    "\n",
    "        return params\n",
    "\n",
    "    #\n",
    "    # The rest is boilerplate code and unrelated to SA algorithm.\n",
    "    #\n",
    "    def infer_relative_search_space(self, study, trial):\n",
    "        return optuna.samplers.intersection_search_space(study)\n",
    "\n",
    "    def sample_independent(self, study, trial, param_name, param_distribution):\n",
    "        independent_sampler = optuna.samplers.RandomSampler()\n",
    "        return independent_sampler.sample_independent(study, trial, param_name, param_distribution)\n",
    "\n",
    "\n",
    "\n"
   ]
  },
  {
   "cell_type": "markdown",
   "metadata": {},
   "source": [
    "Por fim o é necessário criar uma função objetivo a qual deseja-se otimizar, em nosso caso procuramos minimizar o Erro Médio Absoluto (MAE) com uma validação no conjunto de testes da aplicação dos hyperparâmetros encontrados para o problema do SVM Regressor."
   ]
  },
  {
   "cell_type": "code",
   "execution_count": 16,
   "metadata": {},
   "outputs": [
    {
     "name": "stderr",
     "output_type": "stream",
     "text": [
      "\u001b[32m[I 2020-05-06 08:05:52,891]\u001b[0m Finished trial#0 with value: 5.759091794725524 with parameters: {'c': 4708.473217340531, 'gamma': 1.960995617457497, 'epsilon': 0.3753716179735884}. Best is trial#0 with value: 5.759091794725524.\u001b[0m\n",
      "\u001b[32m[I 2020-05-06 08:05:52,965]\u001b[0m Finished trial#1 with value: 5.760094554811656 with parameters: {'c': 6297.078408645507, 'gamma': 2.1723312887264545, 'epsilon': 0.40100220365343986}. Best is trial#0 with value: 5.759091794725524.\u001b[0m\n",
      "\u001b[32m[I 2020-05-06 08:05:53,040]\u001b[0m Finished trial#2 with value: 5.760858726602819 with parameters: {'c': 7827.4771810654165, 'gamma': 2.749376078704926, 'epsilon': 0.4134530108400437}. Best is trial#0 with value: 5.759091794725524.\u001b[0m\n",
      "\u001b[32m[I 2020-05-06 08:05:53,116]\u001b[0m Finished trial#3 with value: 5.762657707934435 with parameters: {'c': 8639.911480606264, 'gamma': 2.324129628294079, 'epsilon': 0.4747788674744218}. Best is trial#0 with value: 5.759091794725524.\u001b[0m\n",
      "\u001b[32m[I 2020-05-06 08:05:53,188]\u001b[0m Finished trial#4 with value: 5.766175797116519 with parameters: {'c': 10440.9284430999, 'gamma': 3.085690579546472, 'epsilon': 0.562323266175319}. Best is trial#0 with value: 5.759091794725524.\u001b[0m\n",
      "\u001b[32m[I 2020-05-06 08:05:53,266]\u001b[0m Finished trial#5 with value: 5.768649931352722 with parameters: {'c': 8903.770269060142, 'gamma': 3.0016059160258783, 'epsilon': 0.6304295943480658}. Best is trial#0 with value: 5.759091794725524.\u001b[0m\n",
      "\u001b[32m[I 2020-05-06 08:05:53,344]\u001b[0m Finished trial#6 with value: 5.768014815218524 with parameters: {'c': 9634.566592731848, 'gamma': 3.7948914088941956, 'epsilon': 0.6047026800176101}. Best is trial#0 with value: 5.759091794725524.\u001b[0m\n",
      "\u001b[32m[I 2020-05-06 08:05:53,423]\u001b[0m Finished trial#7 with value: 5.769874329619567 with parameters: {'c': 11502.734360386268, 'gamma': 3.8946215360030214, 'epsilon': 0.6546771686984176}. Best is trial#0 with value: 5.759091794725524.\u001b[0m\n",
      "\u001b[32m[I 2020-05-06 08:05:53,501]\u001b[0m Finished trial#8 with value: 5.7667503212978515 with parameters: {'c': 13859.554723670459, 'gamma': 4.517190543194056, 'epsilon': 0.5643107609312504}. Best is trial#0 with value: 5.759091794725524.\u001b[0m\n",
      "\u001b[32m[I 2020-05-06 08:05:53,582]\u001b[0m Finished trial#9 with value: 5.766109525656418 with parameters: {'c': 14349.560580271993, 'gamma': 4.737520717199042, 'epsilon': 0.5462727098462752}. Best is trial#0 with value: 5.759091794725524.\u001b[0m\n",
      "\u001b[32m[I 2020-05-06 08:05:53,659]\u001b[0m Finished trial#10 with value: 5.768570441607279 with parameters: {'c': 12722.711374458111, 'gamma': 4.683612680655615, 'epsilon': 0.6142681816532867}. Best is trial#0 with value: 5.759091794725524.\u001b[0m\n",
      "\u001b[32m[I 2020-05-06 08:05:53,735]\u001b[0m Finished trial#11 with value: 5.765219604204429 with parameters: {'c': 11348.687024550632, 'gamma': 5.4573590371147, 'epsilon': 0.5212522889505752}. Best is trial#0 with value: 5.759091794725524.\u001b[0m\n",
      "\u001b[32m[I 2020-05-06 08:05:53,812]\u001b[0m Finished trial#12 with value: 5.768351670580763 with parameters: {'c': 11801.169729430618, 'gamma': 5.262243072119792, 'epsilon': 0.6082934892027666}. Best is trial#0 with value: 5.759091794725524.\u001b[0m\n",
      "\u001b[32m[I 2020-05-06 08:05:53,890]\u001b[0m Finished trial#13 with value: 5.768508938663218 with parameters: {'c': 15059.598562292993, 'gamma': 5.876091210494699, 'epsilon': 0.6101426796156544}. Best is trial#0 with value: 5.759091794725524.\u001b[0m\n",
      "\u001b[32m[I 2020-05-06 08:05:53,964]\u001b[0m Finished trial#14 with value: 5.770470200518131 with parameters: {'c': 14673.037847798416, 'gamma': 5.930259151459121, 'epsilon': 0.6642959082234146}. Best is trial#0 with value: 5.759091794725524.\u001b[0m\n",
      "\u001b[32m[I 2020-05-06 08:05:54,039]\u001b[0m Finished trial#15 with value: 5.76970610571292 with parameters: {'c': 14870.688107191687, 'gamma': 5.569964828939392, 'epsilon': 0.6454068949526509}. Best is trial#0 with value: 5.759091794725524.\u001b[0m\n",
      "\u001b[32m[I 2020-05-06 08:05:54,114]\u001b[0m Finished trial#16 with value: 5.768005864797867 with parameters: {'c': 12550.715568482927, 'gamma': 6.025281640331504, 'epsilon': 0.5951744530258565}. Best is trial#0 with value: 5.759091794725524.\u001b[0m\n",
      "\u001b[32m[I 2020-05-06 08:05:54,187]\u001b[0m Finished trial#17 with value: 5.76516415966483 with parameters: {'c': 12481.419255306164, 'gamma': 6.246230289509782, 'epsilon': 0.5136900825184781}. Best is trial#0 with value: 5.759091794725524.\u001b[0m\n",
      "\u001b[32m[I 2020-05-06 08:05:54,263]\u001b[0m Finished trial#18 with value: 5.763050650860498 with parameters: {'c': 9679.132519449433, 'gamma': 6.657887819054112, 'epsilon': 0.4477661341510524}. Best is trial#0 with value: 5.759091794725524.\u001b[0m\n",
      "\u001b[32m[I 2020-05-06 08:05:54,339]\u001b[0m Finished trial#19 with value: 5.764222472634497 with parameters: {'c': 7127.757533274081, 'gamma': 7.335425766716894, 'epsilon': 0.4785844037333894}. Best is trial#0 with value: 5.759091794725524.\u001b[0m\n",
      "\u001b[32m[I 2020-05-06 08:05:54,414]\u001b[0m Finished trial#20 with value: 5.7659625601020705 with parameters: {'c': 6729.580230858808, 'gamma': 6.626801552153508, 'epsilon': 0.5334505276712485}. Best is trial#0 with value: 5.759091794725524.\u001b[0m\n",
      "\u001b[32m[I 2020-05-06 08:05:54,491]\u001b[0m Finished trial#21 with value: 5.764131775287085 with parameters: {'c': 4781.446726514961, 'gamma': 5.924112727923772, 'epsilon': 0.4868731665603443}. Best is trial#0 with value: 5.759091794725524.\u001b[0m\n",
      "\u001b[32m[I 2020-05-06 08:05:54,566]\u001b[0m Finished trial#22 with value: 5.7624655269403 with parameters: {'c': 2668.9383636625803, 'gamma': 5.97528104401346, 'epsilon': 0.43534859712311424}. Best is trial#0 with value: 5.759091794725524.\u001b[0m\n",
      "\u001b[32m[I 2020-05-06 08:05:54,646]\u001b[0m Finished trial#23 with value: 5.759567525409803 with parameters: {'c': 1973.372768356689, 'gamma': 5.455714935917743, 'epsilon': 0.3494476721088918}. Best is trial#0 with value: 5.759091794725524.\u001b[0m\n",
      "\u001b[32m[I 2020-05-06 08:05:54,723]\u001b[0m Finished trial#24 with value: 5.75761609910691 with parameters: {'c': 4994.533901883965, 'gamma': 5.147885069876186, 'epsilon': 0.28897566304655287}. Best is trial#24 with value: 5.75761609910691.\u001b[0m\n",
      "\u001b[32m[I 2020-05-06 08:05:54,804]\u001b[0m Finished trial#25 with value: 5.7579911369312 with parameters: {'c': 3093.3287318865096, 'gamma': 4.693112820485782, 'epsilon': 0.30141475584558874}. Best is trial#24 with value: 5.75761609910691.\u001b[0m\n",
      "\u001b[32m[I 2020-05-06 08:05:54,884]\u001b[0m Finished trial#26 with value: 5.75802214382166 with parameters: {'c': 5767.258597772346, 'gamma': 5.101460476464718, 'epsilon': 0.3019188042970279}. Best is trial#24 with value: 5.75761609910691.\u001b[0m\n",
      "\u001b[32m[I 2020-05-06 08:05:54,972]\u001b[0m Finished trial#27 with value: 5.760113591019677 with parameters: {'c': 2901.6711391636663, 'gamma': 4.396010864744975, 'epsilon': 0.3699267123956556}. Best is trial#24 with value: 5.75761609910691.\u001b[0m\n",
      "\u001b[32m[I 2020-05-06 08:05:55,051]\u001b[0m Finished trial#28 with value: 5.7585532755668 with parameters: {'c': 3194.818089378305, 'gamma': 4.644607333657564, 'epsilon': 0.3196069801317265}. Best is trial#24 with value: 5.75761609910691.\u001b[0m\n",
      "\u001b[32m[I 2020-05-06 08:05:55,129]\u001b[0m Finished trial#29 with value: 5.760277520937257 with parameters: {'c': 5696.588922803589, 'gamma': 4.911796610341392, 'epsilon': 0.3723581618144225}. Best is trial#24 with value: 5.75761609910691.\u001b[0m\n",
      "\u001b[32m[I 2020-05-06 08:05:55,205]\u001b[0m Finished trial#30 with value: 5.762968941489226 with parameters: {'c': 7153.118975479671, 'gamma': 4.419387854981773, 'epsilon': 0.45682586065717}. Best is trial#24 with value: 5.75761609910691.\u001b[0m\n",
      "\u001b[32m[I 2020-05-06 08:05:55,285]\u001b[0m Finished trial#31 with value: 5.7609748608155185 with parameters: {'c': 9464.82030238028, 'gamma': 4.998072146212017, 'epsilon': 0.39411174275405875}. Best is trial#24 with value: 5.75761609910691.\u001b[0m\n",
      "\u001b[32m[I 2020-05-06 08:05:55,363]\u001b[0m Finished trial#32 with value: 5.758025934737471 with parameters: {'c': 7918.872180897673, 'gamma': 4.239270987424827, 'epsilon': 0.30716695403539324}. Best is trial#24 with value: 5.75761609910691.\u001b[0m\n",
      "\u001b[32m[I 2020-05-06 08:05:55,443]\u001b[0m Finished trial#33 with value: 5.757551917435723 with parameters: {'c': 6458.940842632022, 'gamma': 3.6765862657279738, 'epsilon': 0.29853439971319395}. Best is trial#33 with value: 5.757551917435723.\u001b[0m\n",
      "\u001b[32m[I 2020-05-06 08:05:55,520]\u001b[0m Finished trial#34 with value: 5.758006647225568 with parameters: {'c': 9381.89002709277, 'gamma': 3.910715338821914, 'epsilon': 0.3101406667071968}. Best is trial#33 with value: 5.757551917435723.\u001b[0m\n"
     ]
    },
    {
     "name": "stderr",
     "output_type": "stream",
     "text": [
      "\u001b[32m[I 2020-05-06 08:05:55,600]\u001b[0m Finished trial#35 with value: 5.759258245077275 with parameters: {'c': 9234.20948768915, 'gamma': 3.828063564718415, 'epsilon': 0.3497631572064879}. Best is trial#33 with value: 5.757551917435723.\u001b[0m\n",
      "\u001b[32m[I 2020-05-06 08:05:55,679]\u001b[0m Finished trial#36 with value: 5.758374158343062 with parameters: {'c': 9481.104144425222, 'gamma': 4.362503253148798, 'epsilon': 0.3168389918553539}. Best is trial#33 with value: 5.757551917435723.\u001b[0m\n",
      "\u001b[32m[I 2020-05-06 08:05:55,757]\u001b[0m Finished trial#37 with value: 5.755162533362653 with parameters: {'c': 7007.642442930221, 'gamma': 3.7338935787598904, 'epsilon': 0.22239205086372332}. Best is trial#37 with value: 5.755162533362653.\u001b[0m\n",
      "\u001b[32m[I 2020-05-06 08:05:55,837]\u001b[0m Finished trial#38 with value: 5.753390862283591 with parameters: {'c': 7365.575189962163, 'gamma': 3.9737538461516366, 'epsilon': 0.16266908209665187}. Best is trial#38 with value: 5.753390862283591.\u001b[0m\n",
      "\u001b[32m[I 2020-05-06 08:05:55,916]\u001b[0m Finished trial#39 with value: 5.7539899536441625 with parameters: {'c': 4174.508393910895, 'gamma': 3.9922548167226806, 'epsilon': 0.18170515269899729}. Best is trial#38 with value: 5.753390862283591.\u001b[0m\n",
      "\u001b[32m[I 2020-05-06 08:05:55,997]\u001b[0m Finished trial#40 with value: 5.75437924399789 with parameters: {'c': 6971.370227730375, 'gamma': 4.241112160159216, 'epsilon': 0.19145825054645343}. Best is trial#38 with value: 5.753390862283591.\u001b[0m\n",
      "\u001b[32m[I 2020-05-06 08:05:56,074]\u001b[0m Finished trial#41 with value: 5.754457466152111 with parameters: {'c': 6600.973415083477, 'gamma': 4.6884570532627485, 'epsilon': 0.18928736089780684}. Best is trial#38 with value: 5.753390862283591.\u001b[0m\n",
      "\u001b[32m[I 2020-05-06 08:05:56,153]\u001b[0m Finished trial#42 with value: 5.754882987442844 with parameters: {'c': 3468.702257218553, 'gamma': 4.606458278609658, 'epsilon': 0.20380368769911594}. Best is trial#38 with value: 5.753390862283591.\u001b[0m\n",
      "\u001b[32m[I 2020-05-06 08:05:56,235]\u001b[0m Finished trial#43 with value: 5.752753058919252 with parameters: {'c': 2735.431237162573, 'gamma': 4.763303931150258, 'epsilon': 0.13304214311563095}. Best is trial#43 with value: 5.752753058919252.\u001b[0m\n",
      "\u001b[32m[I 2020-05-06 08:05:56,313]\u001b[0m Finished trial#44 with value: 5.7527746660730665 with parameters: {'c': 2430.382470551828, 'gamma': 4.3716670304278775, 'epsilon': 0.13783143036727158}. Best is trial#43 with value: 5.752753058919252.\u001b[0m\n",
      "\u001b[32m[I 2020-05-06 08:05:56,395]\u001b[0m Finished trial#45 with value: 5.752140554790909 with parameters: {'c': 1242.4691554856063, 'gamma': 3.742488712758738, 'epsilon': 0.12434971449439353}. Best is trial#45 with value: 5.752140554790909.\u001b[0m\n",
      "\u001b[32m[I 2020-05-06 08:05:56,476]\u001b[0m Finished trial#46 with value: 5.750367083963607 with parameters: {'c': 3630.688558597326, 'gamma': 3.1841974846437946, 'epsilon': 0.07412494988388565}. Best is trial#46 with value: 5.750367083963607.\u001b[0m\n",
      "\u001b[32m[I 2020-05-06 08:05:56,556]\u001b[0m Finished trial#47 with value: 5.7506462981439945 with parameters: {'c': 2497.6098423029066, 'gamma': 2.8037557860345284, 'epsilon': 0.08969207070707813}. Best is trial#46 with value: 5.750367083963607.\u001b[0m\n",
      "\u001b[32m[I 2020-05-06 08:05:56,635]\u001b[0m Finished trial#48 with value: 5.750896487508477 with parameters: {'c': 2876.986562039072, 'gamma': 2.2610375673159, 'epsilon': 0.10965679698284486}. Best is trial#46 with value: 5.750367083963607.\u001b[0m\n",
      "\u001b[32m[I 2020-05-06 08:05:56,714]\u001b[0m Finished trial#49 with value: 5.753736599387254 with parameters: {'c': 294.6367602918032, 'gamma': 2.2907780298573117, 'epsilon': 0.20053259533222945}. Best is trial#46 with value: 5.750367083963607.\u001b[0m\n",
      "\u001b[32m[I 2020-05-06 08:05:56,794]\u001b[0m Finished trial#50 with value: 5.751533836102046 with parameters: {'c': 2330.2094974546044, 'gamma': 2.919838391140617, 'epsilon': 0.11636585247749003}. Best is trial#46 with value: 5.750367083963607.\u001b[0m\n",
      "\u001b[32m[I 2020-05-06 08:05:56,874]\u001b[0m Finished trial#51 with value: 5.754601713112196 with parameters: {'c': 5160.6394521965285, 'gamma': 3.5445169286612805, 'epsilon': 0.20672012976026471}. Best is trial#46 with value: 5.750367083963607.\u001b[0m\n",
      "\u001b[32m[I 2020-05-06 08:05:56,953]\u001b[0m Finished trial#52 with value: 5.754527735988959 with parameters: {'c': 2212.406066291316, 'gamma': 3.1090097549489744, 'epsilon': 0.2103366239289975}. Best is trial#46 with value: 5.750367083963607.\u001b[0m\n",
      "\u001b[32m[I 2020-05-06 08:05:57,032]\u001b[0m Finished trial#53 with value: 5.756195662307305 with parameters: {'c': 4255.664422670302, 'gamma': 2.5267352255511137, 'epsilon': 0.27314490657968393}. Best is trial#46 with value: 5.750367083963607.\u001b[0m\n",
      "\u001b[32m[I 2020-05-06 08:05:57,113]\u001b[0m Finished trial#54 with value: 5.753788810566566 with parameters: {'c': 3323.437193264383, 'gamma': 2.8827989191116945, 'epsilon': 0.19024639532927193}. Best is trial#46 with value: 5.750367083963607.\u001b[0m\n",
      "\u001b[32m[I 2020-05-06 08:05:57,193]\u001b[0m Finished trial#55 with value: 5.751933628444794 with parameters: {'c': 4246.093323897523, 'gamma': 3.286375408213094, 'epsilon': 0.12362329562264478}. Best is trial#46 with value: 5.750367083963607.\u001b[0m\n",
      "\u001b[32m[I 2020-05-06 08:05:57,274]\u001b[0m Finished trial#56 with value: 5.750506107483222 with parameters: {'c': 6596.722414737557, 'gamma': 3.8820592029521603, 'epsilon': 0.06909680217091262}. Best is trial#46 with value: 5.750367083963607.\u001b[0m\n",
      "\u001b[32m[I 2020-05-06 08:05:57,356]\u001b[0m Finished trial#57 with value: 5.751279462672874 with parameters: {'c': 8505.65998940459, 'gamma': 3.3925821198974995, 'epsilon': 0.10093261990578846}. Best is trial#46 with value: 5.750367083963607.\u001b[0m\n",
      "\u001b[32m[I 2020-05-06 08:05:57,437]\u001b[0m Finished trial#58 with value: 5.750484340916679 with parameters: {'c': 6339.655748489755, 'gamma': 3.1208831997751854, 'epsilon': 0.07911542802783268}. Best is trial#46 with value: 5.750367083963607.\u001b[0m\n",
      "\u001b[32m[I 2020-05-06 08:05:57,519]\u001b[0m Finished trial#59 with value: 5.749626135005567 with parameters: {'c': 6118.849781763269, 'gamma': 2.9545932775065107, 'epsilon': 0.05211277484671926}. Best is trial#59 with value: 5.749626135005567.\u001b[0m\n",
      "\u001b[32m[I 2020-05-06 08:05:57,600]\u001b[0m Finished trial#60 with value: 5.751883293557179 with parameters: {'c': 9004.101182874128, 'gamma': 2.323450711421146, 'epsilon': 0.13997971570012324}. Best is trial#59 with value: 5.749626135005567.\u001b[0m\n",
      "\u001b[32m[I 2020-05-06 08:05:57,682]\u001b[0m Finished trial#61 with value: 5.75288264330586 with parameters: {'c': 6245.413641528948, 'gamma': 1.6343172708747853, 'epsilon': 0.1940137405029439}. Best is trial#59 with value: 5.749626135005567.\u001b[0m\n",
      "\u001b[32m[I 2020-05-06 08:05:57,763]\u001b[0m Finished trial#62 with value: 5.751329473585823 with parameters: {'c': 3654.704046236683, 'gamma': 2.4240641402027174, 'epsilon': 0.1195914416971824}. Best is trial#59 with value: 5.749626135005567.\u001b[0m\n",
      "\u001b[32m[I 2020-05-06 08:05:57,847]\u001b[0m Finished trial#63 with value: 5.753373861089656 with parameters: {'c': 4457.2347305646335, 'gamma': 3.004054460362788, 'epsilon': 0.17496197832786675}. Best is trial#59 with value: 5.749626135005567.\u001b[0m\n",
      "\u001b[32m[I 2020-05-06 08:05:57,929]\u001b[0m Finished trial#64 with value: 5.756142993959997 with parameters: {'c': 5925.752388271596, 'gamma': 3.5925657303590866, 'epsilon': 0.2552529478455674}. Best is trial#59 with value: 5.749626135005567.\u001b[0m\n",
      "\u001b[32m[I 2020-05-06 08:05:58,012]\u001b[0m Finished trial#65 with value: 5.758240397584035 with parameters: {'c': 2778.773215701467, 'gamma': 4.109445178254049, 'epsilon': 0.3153069329798103}. Best is trial#59 with value: 5.749626135005567.\u001b[0m\n",
      "\u001b[32m[I 2020-05-06 08:05:58,096]\u001b[0m Finished trial#66 with value: 5.758477936604747 with parameters: {'c': 4688.236347971573, 'gamma': 4.263042386803985, 'epsilon': 0.3211493436365258}. Best is trial#59 with value: 5.749626135005567.\u001b[0m\n",
      "\u001b[32m[I 2020-05-06 08:05:58,181]\u001b[0m Finished trial#67 with value: 5.760494235212315 with parameters: {'c': 3618.438057369207, 'gamma': 3.9398707958985235, 'epsilon': 0.38630668285965}. Best is trial#59 with value: 5.749626135005567.\u001b[0m\n",
      "\u001b[32m[I 2020-05-06 08:05:58,290]\u001b[0m Finished trial#68 with value: 5.763103717690109 with parameters: {'c': 727.3012232924514, 'gamma': 3.1614621324927894, 'epsilon': 0.4749064937361323}. Best is trial#59 with value: 5.749626135005567.\u001b[0m\n",
      "\u001b[32m[I 2020-05-06 08:05:58,379]\u001b[0m Finished trial#69 with value: 5.765541092813884 with parameters: {'c': 1829.4120988866603, 'gamma': 3.918154329812346, 'epsilon': 0.5355750438180295}. Best is trial#59 with value: 5.749626135005567.\u001b[0m\n"
     ]
    },
    {
     "name": "stderr",
     "output_type": "stream",
     "text": [
      "\u001b[32m[I 2020-05-06 08:05:58,463]\u001b[0m Finished trial#70 with value: 5.764763779657366 with parameters: {'c': 2136.848344759908, 'gamma': 3.420511341191799, 'epsilon': 0.5191946134520586}. Best is trial#59 with value: 5.749626135005567.\u001b[0m\n",
      "\u001b[32m[I 2020-05-06 08:05:58,546]\u001b[0m Finished trial#71 with value: 5.764586416859401 with parameters: {'c': 5026.751650624483, 'gamma': 4.117307742879868, 'epsilon': 0.5071246840823893}. Best is trial#59 with value: 5.749626135005567.\u001b[0m\n",
      "\u001b[32m[I 2020-05-06 08:05:58,630]\u001b[0m Finished trial#72 with value: 5.764966433875379 with parameters: {'c': 7335.518125805545, 'gamma': 3.5851811282103796, 'epsilon': 0.5230338423161766}. Best is trial#59 with value: 5.749626135005567.\u001b[0m\n",
      "\u001b[32m[I 2020-05-06 08:05:58,714]\u001b[0m Finished trial#73 with value: 5.76257599768707 with parameters: {'c': 7001.302490641241, 'gamma': 3.459195580676649, 'epsilon': 0.4553460894889067}. Best is trial#59 with value: 5.749626135005567.\u001b[0m\n",
      "\u001b[32m[I 2020-05-06 08:05:58,798]\u001b[0m Finished trial#74 with value: 5.761056769035683 with parameters: {'c': 4642.27787483256, 'gamma': 4.063918024867376, 'epsilon': 0.4026384447394993}. Best is trial#59 with value: 5.749626135005567.\u001b[0m\n",
      "\u001b[32m[I 2020-05-06 08:05:58,882]\u001b[0m Finished trial#75 with value: 5.7591798090604565 with parameters: {'c': 6293.814651383167, 'gamma': 4.530387929283281, 'epsilon': 0.3400482977508727}. Best is trial#59 with value: 5.749626135005567.\u001b[0m\n",
      "\u001b[32m[I 2020-05-06 08:05:58,967]\u001b[0m Finished trial#76 with value: 5.756373613729191 with parameters: {'c': 8118.8065504657225, 'gamma': 3.7532600185258804, 'epsilon': 0.26054847563033356}. Best is trial#59 with value: 5.749626135005567.\u001b[0m\n",
      "\u001b[32m[I 2020-05-06 08:05:59,052]\u001b[0m Finished trial#77 with value: 5.756603448186593 with parameters: {'c': 8452.17298288447, 'gamma': 4.357740577966382, 'epsilon': 0.26112592359208653}. Best is trial#59 with value: 5.749626135005567.\u001b[0m\n",
      "\u001b[32m[I 2020-05-06 08:05:59,137]\u001b[0m Finished trial#78 with value: 5.756332751921739 with parameters: {'c': 11144.400066444035, 'gamma': 4.348626957605717, 'epsilon': 0.2527798275545491}. Best is trial#59 with value: 5.749626135005567.\u001b[0m\n",
      "\u001b[32m[I 2020-05-06 08:05:59,222]\u001b[0m Finished trial#79 with value: 5.754559989695959 with parameters: {'c': 14101.667223790026, 'gamma': 3.611394159049335, 'epsilon': 0.20453598920907015}. Best is trial#59 with value: 5.749626135005567.\u001b[0m\n",
      "\u001b[32m[I 2020-05-06 08:05:59,308]\u001b[0m Finished trial#80 with value: 5.756108873165617 with parameters: {'c': 12894.624484630296, 'gamma': 3.5556550831031513, 'epsilon': 0.2546440901131938}. Best is trial#59 with value: 5.749626135005567.\u001b[0m\n",
      "\u001b[32m[I 2020-05-06 08:05:59,394]\u001b[0m Finished trial#81 with value: 5.757235164117183 with parameters: {'c': 11023.125698516738, 'gamma': 4.1824068770899965, 'epsilon': 0.28287201916204446}. Best is trial#59 with value: 5.749626135005567.\u001b[0m\n",
      "\u001b[32m[I 2020-05-06 08:05:59,482]\u001b[0m Finished trial#82 with value: 5.758370379771265 with parameters: {'c': 12308.543286701773, 'gamma': 4.906032649508064, 'epsilon': 0.313029104952423}. Best is trial#59 with value: 5.749626135005567.\u001b[0m\n",
      "\u001b[32m[I 2020-05-06 08:05:59,589]\u001b[0m Finished trial#83 with value: 5.755650132024741 with parameters: {'c': 9126.640536855237, 'gamma': 5.56834737239823, 'epsilon': 0.22328188718526545}. Best is trial#59 with value: 5.749626135005567.\u001b[0m\n",
      "\u001b[32m[I 2020-05-06 08:05:59,699]\u001b[0m Finished trial#84 with value: 5.758032982927795 with parameters: {'c': 8549.551083874085, 'gamma': 5.112414197448066, 'epsilon': 0.3022639160732762}. Best is trial#59 with value: 5.749626135005567.\u001b[0m\n",
      "\u001b[32m[I 2020-05-06 08:05:59,812]\u001b[0m Finished trial#85 with value: 5.760393231973966 with parameters: {'c': 10030.657142314483, 'gamma': 4.834032219834265, 'epsilon': 0.3759414545573616}. Best is trial#59 with value: 5.749626135005567.\u001b[0m\n",
      "\u001b[32m[I 2020-05-06 08:05:59,923]\u001b[0m Finished trial#86 with value: 5.758323047836002 with parameters: {'c': 11344.180156840031, 'gamma': 5.192429206941046, 'epsilon': 0.3115072517745879}. Best is trial#59 with value: 5.749626135005567.\u001b[0m\n",
      "\u001b[32m[I 2020-05-06 08:06:00,027]\u001b[0m Finished trial#87 with value: 5.756887543598145 with parameters: {'c': 12028.399316618094, 'gamma': 4.73695450828025, 'epsilon': 0.2662176656260694}. Best is trial#59 with value: 5.749626135005567.\u001b[0m\n",
      "\u001b[32m[I 2020-05-06 08:06:00,133]\u001b[0m Finished trial#88 with value: 5.7589501470306494 with parameters: {'c': 11919.615797404165, 'gamma': 4.275712101917851, 'epsilon': 0.3355897665662953}. Best is trial#59 with value: 5.749626135005567.\u001b[0m\n",
      "\u001b[32m[I 2020-05-06 08:06:00,244]\u001b[0m Finished trial#89 with value: 5.757961894900329 with parameters: {'c': 15162.302575846406, 'gamma': 4.581920540365797, 'epsilon': 0.30160918186720076}. Best is trial#59 with value: 5.749626135005567.\u001b[0m\n",
      "\u001b[32m[I 2020-05-06 08:06:00,354]\u001b[0m Finished trial#90 with value: 5.755155641593449 with parameters: {'c': 12443.100864822756, 'gamma': 4.865301137405158, 'epsilon': 0.21013023122548635}. Best is trial#59 with value: 5.749626135005567.\u001b[0m\n",
      "\u001b[32m[I 2020-05-06 08:06:00,465]\u001b[0m Finished trial#91 with value: 5.754681464531398 with parameters: {'c': 13161.593899848314, 'gamma': 4.684596625570465, 'epsilon': 0.1965272978137425}. Best is trial#59 with value: 5.749626135005567.\u001b[0m\n",
      "\u001b[32m[I 2020-05-06 08:06:00,571]\u001b[0m Finished trial#92 with value: 5.753088386801241 with parameters: {'c': 16350.932417821756, 'gamma': 4.738204932374655, 'epsilon': 0.14433494725629764}. Best is trial#59 with value: 5.749626135005567.\u001b[0m\n",
      "\u001b[32m[I 2020-05-06 08:06:00,665]\u001b[0m Finished trial#93 with value: 5.7524543071975 with parameters: {'c': 14326.895782305257, 'gamma': 4.934116458396496, 'epsilon': 0.12163247024358832}. Best is trial#59 with value: 5.749626135005567.\u001b[0m\n",
      "\u001b[32m[I 2020-05-06 08:06:00,755]\u001b[0m Finished trial#94 with value: 5.753016161878197 with parameters: {'c': 12840.314885352538, 'gamma': 4.29492780680639, 'epsilon': 0.1466848860893987}. Best is trial#59 with value: 5.749626135005567.\u001b[0m\n",
      "\u001b[32m[I 2020-05-06 08:06:00,846]\u001b[0m Finished trial#95 with value: 5.754454286010352 with parameters: {'c': 10817.691231373006, 'gamma': 3.570978945348571, 'epsilon': 0.20165042098874109}. Best is trial#59 with value: 5.749626135005567.\u001b[0m\n",
      "\u001b[32m[I 2020-05-06 08:06:00,936]\u001b[0m Finished trial#96 with value: 5.757128138082136 with parameters: {'c': 11091.822076422424, 'gamma': 3.0580644511349084, 'epsilon': 0.29334552684288473}. Best is trial#59 with value: 5.749626135005567.\u001b[0m\n",
      "\u001b[32m[I 2020-05-06 08:06:01,025]\u001b[0m Finished trial#97 with value: 5.754142471333474 with parameters: {'c': 8739.714123729867, 'gamma': 3.2549446250652934, 'epsilon': 0.19585477309033178}. Best is trial#59 with value: 5.749626135005567.\u001b[0m\n",
      "\u001b[32m[I 2020-05-06 08:06:01,115]\u001b[0m Finished trial#98 with value: 5.75342512690471 with parameters: {'c': 5494.056101038692, 'gamma': 3.5631889433696826, 'epsilon': 0.16870369071831828}. Best is trial#59 with value: 5.749626135005567.\u001b[0m\n",
      "\u001b[32m[I 2020-05-06 08:06:01,208]\u001b[0m Finished trial#99 with value: 5.754780140795449 with parameters: {'c': 5181.994924403376, 'gamma': 4.253612680557165, 'epsilon': 0.20420870294236218}. Best is trial#59 with value: 5.749626135005567.\u001b[0m\n",
      "\u001b[32m[I 2020-05-06 08:06:01,300]\u001b[0m Finished trial#100 with value: 5.754160195507667 with parameters: {'c': 3784.402238059552, 'gamma': 4.0594006538243175, 'epsilon': 0.1864168610768232}. Best is trial#59 with value: 5.749626135005567.\u001b[0m\n",
      "\u001b[32m[I 2020-05-06 08:06:01,394]\u001b[0m Finished trial#101 with value: 5.7533177204901245 with parameters: {'c': 4817.615849460659, 'gamma': 4.578722086420087, 'epsilon': 0.15360906482586212}. Best is trial#59 with value: 5.749626135005567.\u001b[0m\n",
      "\u001b[32m[I 2020-05-06 08:06:01,487]\u001b[0m Finished trial#102 with value: 5.755416112490616 with parameters: {'c': 3354.1517414442746, 'gamma': 5.161729485345945, 'epsilon': 0.21858123754641015}. Best is trial#59 with value: 5.749626135005567.\u001b[0m\n",
      "\u001b[32m[I 2020-05-06 08:06:01,581]\u001b[0m Finished trial#103 with value: 5.754417874503414 with parameters: {'c': 5302.530225647938, 'gamma': 4.537944431561526, 'epsilon': 0.18955900825419456}. Best is trial#59 with value: 5.749626135005567.\u001b[0m\n",
      "\u001b[32m[I 2020-05-06 08:06:01,689]\u001b[0m Finished trial#104 with value: 5.756560860867844 with parameters: {'c': 6559.111747507067, 'gamma': 4.708433258083008, 'epsilon': 0.2562691398493334}. Best is trial#59 with value: 5.749626135005567.\u001b[0m\n"
     ]
    },
    {
     "name": "stderr",
     "output_type": "stream",
     "text": [
      "\u001b[32m[I 2020-05-06 08:06:01,798]\u001b[0m Finished trial#105 with value: 5.755078175144885 with parameters: {'c': 4538.2646420461115, 'gamma': 5.187509576115563, 'epsilon': 0.20758547201524108}. Best is trial#59 with value: 5.749626135005567.\u001b[0m\n",
      "\u001b[32m[I 2020-05-06 08:06:01,917]\u001b[0m Finished trial#106 with value: 5.7570637534581435 with parameters: {'c': 1614.254456790991, 'gamma': 5.86502874779658, 'epsilon': 0.26615971450078424}. Best is trial#59 with value: 5.749626135005567.\u001b[0m\n",
      "\u001b[32m[I 2020-05-06 08:06:02,030]\u001b[0m Finished trial#107 with value: 5.755514222123958 with parameters: {'c': 3269.1335050150146, 'gamma': 5.653314308406848, 'epsilon': 0.21804546104515035}. Best is trial#59 with value: 5.749626135005567.\u001b[0m\n",
      "\u001b[32m[I 2020-05-06 08:06:02,128]\u001b[0m Finished trial#108 with value: 5.7560765288333195 with parameters: {'c': 1870.006588012012, 'gamma': 6.328056350064079, 'epsilon': 0.23046856847440828}. Best is trial#59 with value: 5.749626135005567.\u001b[0m\n",
      "\u001b[32m[I 2020-05-06 08:06:02,221]\u001b[0m Finished trial#109 with value: 5.754356333331973 with parameters: {'c': 3900.346524501694, 'gamma': 5.3804164002302795, 'epsilon': 0.182647274335289}. Best is trial#59 with value: 5.749626135005567.\u001b[0m\n",
      "\u001b[32m[I 2020-05-06 08:06:02,316]\u001b[0m Finished trial#110 with value: 5.7559801874804295 with parameters: {'c': 4209.771389030417, 'gamma': 6.137105453586637, 'epsilon': 0.22897201145904233}. Best is trial#59 with value: 5.749626135005567.\u001b[0m\n",
      "\u001b[32m[I 2020-05-06 08:06:02,412]\u001b[0m Finished trial#111 with value: 5.756119540067414 with parameters: {'c': 3993.216120471717, 'gamma': 5.376248223385605, 'epsilon': 0.24044949324438505}. Best is trial#59 with value: 5.749626135005567.\u001b[0m\n",
      "\u001b[32m[I 2020-05-06 08:06:02,517]\u001b[0m Finished trial#112 with value: 5.754844213466204 with parameters: {'c': 2044.0401349604479, 'gamma': 5.47170490534817, 'epsilon': 0.1977739601590034}. Best is trial#59 with value: 5.749626135005567.\u001b[0m\n",
      "\u001b[32m[I 2020-05-06 08:06:02,636]\u001b[0m Finished trial#113 with value: 5.756479410633276 with parameters: {'c': 5001.902043068415, 'gamma': 5.934996668021082, 'epsilon': 0.2469468648364178}. Best is trial#59 with value: 5.749626135005567.\u001b[0m\n",
      "\u001b[32m[I 2020-05-06 08:06:02,757]\u001b[0m Finished trial#114 with value: 5.757648675071813 with parameters: {'c': 873.5785414864932, 'gamma': 5.451983345543506, 'epsilon': 0.28865083577611816}. Best is trial#59 with value: 5.749626135005567.\u001b[0m\n",
      "\u001b[32m[I 2020-05-06 08:06:02,871]\u001b[0m Finished trial#115 with value: 5.755318058956229 with parameters: {'c': 1039.4654600790086, 'gamma': 4.930384307181606, 'epsilon': 0.21540667767556426}. Best is trial#59 with value: 5.749626135005567.\u001b[0m\n",
      "\u001b[32m[I 2020-05-06 08:06:02,983]\u001b[0m Finished trial#116 with value: 5.753906943229436 with parameters: {'c': 3487.190822231169, 'gamma': 5.7740574625687575, 'epsilon': 0.16426106777611385}. Best is trial#59 with value: 5.749626135005567.\u001b[0m\n",
      "\u001b[32m[I 2020-05-06 08:06:03,082]\u001b[0m Finished trial#117 with value: 5.756738735047376 with parameters: {'c': 5059.229981184417, 'gamma': 6.033575529430654, 'epsilon': 0.2543376687431265}. Best is trial#59 with value: 5.749626135005567.\u001b[0m\n",
      "\u001b[32m[I 2020-05-06 08:06:03,179]\u001b[0m Finished trial#118 with value: 5.755447762559285 with parameters: {'c': 3743.820030806151, 'gamma': 6.031888907929284, 'epsilon': 0.21244330373475437}. Best is trial#59 with value: 5.749626135005567.\u001b[0m\n",
      "\u001b[32m[I 2020-05-06 08:06:03,289]\u001b[0m Finished trial#119 with value: 5.756480331002146 with parameters: {'c': 4804.225915884561, 'gamma': 5.264421741162131, 'epsilon': 0.2528660148678453}. Best is trial#59 with value: 5.749626135005567.\u001b[0m\n",
      "\u001b[32m[I 2020-05-06 08:06:03,413]\u001b[0m Finished trial#120 with value: 5.750914357864882 with parameters: {'c': 6504.136979602981, 'gamma': 5.099991190887172, 'epsilon': 0.07048924284036484}. Best is trial#59 with value: 5.749626135005567.\u001b[0m\n",
      "\u001b[32m[I 2020-05-06 08:06:03,536]\u001b[0m Finished trial#121 with value: 5.753556906422234 with parameters: {'c': 3282.098400165282, 'gamma': 5.745164519040779, 'epsilon': 0.15290261222627394}. Best is trial#59 with value: 5.749626135005567.\u001b[0m\n",
      "\u001b[32m[I 2020-05-06 08:06:03,658]\u001b[0m Finished trial#122 with value: 5.750515012462709 with parameters: {'c': 7345.770769514772, 'gamma': 5.060995986090607, 'epsilon': 0.05628039950150231}. Best is trial#59 with value: 5.749626135005567.\u001b[0m\n",
      "\u001b[32m[I 2020-05-06 08:06:03,765]\u001b[0m Finished trial#123 with value: 5.75254326394803 with parameters: {'c': 5562.1108760443985, 'gamma': 5.561849919205224, 'epsilon': 0.12075065172886368}. Best is trial#59 with value: 5.749626135005567.\u001b[0m\n",
      "\u001b[32m[I 2020-05-06 08:06:03,872]\u001b[0m Finished trial#124 with value: 5.752718391171117 with parameters: {'c': 5459.194191347244, 'gamma': 5.500700081194968, 'epsilon': 0.127124014280304}. Best is trial#59 with value: 5.749626135005567.\u001b[0m\n"
     ]
    }
   ],
   "source": [
    "def objective(trial):\n",
    "    c = trial.suggest_uniform('c', 2**(-5),  2**15)\n",
    "    gamma = trial.suggest_uniform('gamma', 2**(-15),  2**3)    \n",
    "    epsilon = trial.suggest_uniform('epsilon', 0.05,  1.0)\n",
    "    \n",
    "    svr  = SVR(kernel='rbf', C=c, gamma=gamma, epsilon=epsilon)\n",
    "    svr.fit(x_treino, y_treino)\n",
    "    \n",
    "    pred = svr.predict(x_teste)\n",
    "    mae = metrics.mean_absolute_error(y_true=y_teste, y_pred=pred)\n",
    "    \n",
    "    return mae\n",
    "\n",
    "\n",
    "sampler = SimulatedAnnealingSampler()\n",
    "study = optuna.create_study(sampler=sampler)\n",
    "study.optimize(objective, n_trials=125)"
   ]
  },
  {
   "cell_type": "markdown",
   "metadata": {},
   "source": [
    "Logo, como resultado os melhores parâmetros encontrados durante a busca são mostrados:"
   ]
  },
  {
   "cell_type": "code",
   "execution_count": 17,
   "metadata": {},
   "outputs": [
    {
     "data": {
      "text/plain": [
       "{'c': 6118.849781763269,\n",
       " 'epsilon': 0.05211277484671926,\n",
       " 'gamma': 2.9545932775065107}"
      ]
     },
     "execution_count": 17,
     "metadata": {},
     "output_type": "execute_result"
    }
   ],
   "source": [
    "study.best_params"
   ]
  },
  {
   "cell_type": "markdown",
   "metadata": {},
   "source": [
    "Bem como o resultado para o  erro absoluto médio (MAE) no conjunto de teste com esses parâmetros:"
   ]
  },
  {
   "cell_type": "code",
   "execution_count": 18,
   "metadata": {},
   "outputs": [
    {
     "data": {
      "text/plain": [
       "5.749626135005567"
      ]
     },
     "execution_count": 18,
     "metadata": {},
     "output_type": "execute_result"
    }
   ],
   "source": [
    "study.best_value"
   ]
  },
  {
   "cell_type": "markdown",
   "metadata": {},
   "source": [
    "## CMA-ES"
   ]
  },
  {
   "cell_type": "markdown",
   "metadata": {},
   "source": [
    "Semelhantemente ao algoritmo de Simullate Annealing, a implementação do algoritmo de otimização CMA-ES também foi feita via biblioteca optunza. A implementação porém é encapsulada em um sampler default fornecido pela própria biblioteca, assim não sendo necessário a implementação de uma classe sampler específica, somente a função objetivo."
   ]
  },
  {
   "cell_type": "code",
   "execution_count": 19,
   "metadata": {},
   "outputs": [
    {
     "name": "stderr",
     "output_type": "stream",
     "text": [
      "\u001b[32m[I 2020-05-06 08:06:03,980]\u001b[0m Finished trial#0 with value: 5.768253211557609 with parameters: {'c': 19730.331330462675, 'gamma': 7.367101216080568, 'epsilon': 0.5925080948531264}. Best is trial#0 with value: 5.768253211557609.\u001b[0m\n",
      "\u001b[32m[I 2020-05-06 08:06:04,049]\u001b[0m Finished trial#1 with value: 5.766239864770038 with parameters: {'c': 16384.070924478205, 'gamma': 4.010463916482639, 'epsilon': 0.5540968651426552}. Best is trial#1 with value: 5.766239864770038.\u001b[0m\n",
      "\u001b[32m[I 2020-05-06 08:06:04,123]\u001b[0m Finished trial#2 with value: 5.766425348185869 with parameters: {'c': 16383.995977398801, 'gamma': 4.136751433873981, 'epsilon': 0.5580301977879147}. Best is trial#1 with value: 5.766239864770038.\u001b[0m\n",
      "\u001b[32m[I 2020-05-06 08:06:04,196]\u001b[0m Finished trial#3 with value: 5.7695564041419045 with parameters: {'c': 16383.973260185921, 'gamma': 3.988851387051228, 'epsilon': 0.6445597979188908}. Best is trial#1 with value: 5.766239864770038.\u001b[0m\n",
      "\u001b[32m[I 2020-05-06 08:06:04,271]\u001b[0m Finished trial#4 with value: 5.762866301303526 with parameters: {'c': 16384.179731904598, 'gamma': 3.818954604321848, 'epsilon': 0.4599737028095767}. Best is trial#4 with value: 5.762866301303526.\u001b[0m\n",
      "\u001b[32m[I 2020-05-06 08:06:04,345]\u001b[0m Finished trial#5 with value: 5.766374761271402 with parameters: {'c': 16383.947609701054, 'gamma': 3.8029340927635427, 'epsilon': 0.5599208702004258}. Best is trial#4 with value: 5.762866301303526.\u001b[0m\n",
      "\u001b[32m[I 2020-05-06 08:06:04,425]\u001b[0m Finished trial#6 with value: 5.772578328240285 with parameters: {'c': 16384.103352455793, 'gamma': 4.105376640169764, 'epsilon': 0.7260720141372363}. Best is trial#4 with value: 5.762866301303526.\u001b[0m\n",
      "\u001b[32m[I 2020-05-06 08:06:04,515]\u001b[0m Finished trial#7 with value: 5.761204030034211 with parameters: {'c': 16384.1659864018, 'gamma': 3.9094908131309127, 'epsilon': 0.40900128685697845}. Best is trial#7 with value: 5.761204030034211.\u001b[0m\n",
      "\u001b[32m[I 2020-05-06 08:06:04,604]\u001b[0m Finished trial#8 with value: 5.767970028737992 with parameters: {'c': 16384.260903920396, 'gamma': 3.6705219007832386, 'epsilon': 0.6047345753215903}. Best is trial#7 with value: 5.761204030034211.\u001b[0m\n",
      "\u001b[32m[I 2020-05-06 08:06:04,680]\u001b[0m Finished trial#9 with value: 5.762595323480355 with parameters: {'c': 16384.155005447206, 'gamma': 4.0918570633285904, 'epsilon': 0.44891690084472896}. Best is trial#7 with value: 5.761204030034211.\u001b[0m\n",
      "\u001b[32m[I 2020-05-06 08:06:04,751]\u001b[0m Finished trial#10 with value: 5.7668757889856055 with parameters: {'c': 16384.073336612757, 'gamma': 3.9225873783653573, 'epsilon': 0.5726488188737737}. Best is trial#7 with value: 5.761204030034211.\u001b[0m\n",
      "\u001b[32m[I 2020-05-06 08:06:04,824]\u001b[0m Finished trial#11 with value: 5.7622976643570984 with parameters: {'c': 16384.297480399564, 'gamma': 3.6323654462211956, 'epsilon': 0.4449570477693613}. Best is trial#7 with value: 5.761204030034211.\u001b[0m\n",
      "\u001b[32m[I 2020-05-06 08:06:04,896]\u001b[0m Finished trial#12 with value: 5.760050632370491 with parameters: {'c': 16384.28136586222, 'gamma': 4.372586867160801, 'epsilon': 0.3682345340615231}. Best is trial#12 with value: 5.760050632370491.\u001b[0m\n",
      "\u001b[32m[I 2020-05-06 08:06:04,974]\u001b[0m Finished trial#13 with value: 5.766365003430159 with parameters: {'c': 16384.03185561966, 'gamma': 3.8408874004010936, 'epsilon': 0.5592640226157617}. Best is trial#12 with value: 5.760050632370491.\u001b[0m\n",
      "\u001b[32m[I 2020-05-06 08:06:05,052]\u001b[0m Finished trial#14 with value: 5.7660245774192695 with parameters: {'c': 16384.14990046765, 'gamma': 3.8452125246813074, 'epsilon': 0.5497556600023644}. Best is trial#12 with value: 5.760050632370491.\u001b[0m\n",
      "\u001b[32m[I 2020-05-06 08:06:05,132]\u001b[0m Finished trial#15 with value: 5.7576376780261285 with parameters: {'c': 16384.64481412931, 'gamma': 4.235494438693678, 'epsilon': 0.29498221779661427}. Best is trial#15 with value: 5.7576376780261285.\u001b[0m\n",
      "\u001b[32m[I 2020-05-06 08:06:05,211]\u001b[0m Finished trial#16 with value: 5.752144683474589 with parameters: {'c': 16384.261942294568, 'gamma': 4.5429578481655675, 'epsilon': 0.11554472127892296}. Best is trial#16 with value: 5.752144683474589.\u001b[0m\n",
      "\u001b[32m[I 2020-05-06 08:06:05,289]\u001b[0m Finished trial#17 with value: 5.761792542777735 with parameters: {'c': 16384.396540838385, 'gamma': 4.2410685216093, 'epsilon': 0.42323055850728}. Best is trial#16 with value: 5.752144683474589.\u001b[0m\n",
      "\u001b[32m[I 2020-05-06 08:06:05,367]\u001b[0m Finished trial#18 with value: 5.754912068019631 with parameters: {'c': 16383.76507627404, 'gamma': 3.8739857630282275, 'epsilon': 0.2126907786287673}. Best is trial#16 with value: 5.752144683474589.\u001b[0m\n",
      "\u001b[32m[I 2020-05-06 08:06:05,447]\u001b[0m Finished trial#19 with value: 5.756972935767596 with parameters: {'c': 16384.28828289315, 'gamma': 4.219261310234094, 'epsilon': 0.27421991916068067}. Best is trial#16 with value: 5.752144683474589.\u001b[0m\n",
      "\u001b[32m[I 2020-05-06 08:06:05,524]\u001b[0m Finished trial#20 with value: 5.7655635857277225 with parameters: {'c': 16384.294612162128, 'gamma': 4.235904533078258, 'epsilon': 0.53311027745845}. Best is trial#16 with value: 5.752144683474589.\u001b[0m\n",
      "\u001b[32m[I 2020-05-06 08:06:05,607]\u001b[0m Finished trial#21 with value: 5.7605182990178445 with parameters: {'c': 16384.318275423306, 'gamma': 4.223471225359456, 'epsilon': 0.3840405840251517}. Best is trial#16 with value: 5.752144683474589.\u001b[0m\n",
      "\u001b[32m[I 2020-05-06 08:06:05,703]\u001b[0m Finished trial#22 with value: 5.76758995478101 with parameters: {'c': 16384.47395613837, 'gamma': 4.115152115119835, 'epsilon': 0.5901349199397229}. Best is trial#16 with value: 5.752144683474589.\u001b[0m\n",
      "\u001b[32m[I 2020-05-06 08:06:05,800]\u001b[0m Finished trial#23 with value: 5.755637912109733 with parameters: {'c': 16384.228221882906, 'gamma': 4.156958668946929, 'epsilon': 0.2328274702756115}. Best is trial#16 with value: 5.752144683474589.\u001b[0m\n",
      "\u001b[32m[I 2020-05-06 08:06:05,889]\u001b[0m Finished trial#24 with value: 5.752362980089148 with parameters: {'c': 16384.338556788145, 'gamma': 4.208619265849727, 'epsilon': 0.1261989272143204}. Best is trial#16 with value: 5.752144683474589.\u001b[0m\n",
      "\u001b[32m[I 2020-05-06 08:06:05,979]\u001b[0m Finished trial#25 with value: 5.75666108632308 with parameters: {'c': 16384.08991349238, 'gamma': 4.258327922242095, 'epsilon': 0.26398323764863985}. Best is trial#16 with value: 5.752144683474589.\u001b[0m\n",
      "\u001b[32m[I 2020-05-06 08:06:06,071]\u001b[0m Finished trial#26 with value: 5.751692654974331 with parameters: {'c': 16384.15884189935, 'gamma': 4.461904254940034, 'epsilon': 0.10171806594803962}. Best is trial#26 with value: 5.751692654974331.\u001b[0m\n",
      "\u001b[32m[I 2020-05-06 08:06:06,158]\u001b[0m Finished trial#27 with value: 5.7558960717929954 with parameters: {'c': 16384.336731415424, 'gamma': 4.403154611212719, 'epsilon': 0.2384766052267558}. Best is trial#26 with value: 5.751692654974331.\u001b[0m\n",
      "\u001b[32m[I 2020-05-06 08:06:06,235]\u001b[0m Finished trial#28 with value: 5.762111980017786 with parameters: {'c': 16383.948923459446, 'gamma': 4.295534120107037, 'epsilon': 0.43228745896969206}. Best is trial#26 with value: 5.751692654974331.\u001b[0m\n",
      "\u001b[32m[I 2020-05-06 08:06:06,324]\u001b[0m Finished trial#29 with value: 5.760268652289458 with parameters: {'c': 16384.344713408493, 'gamma': 3.914235506533867, 'epsilon': 0.37968021637682}. Best is trial#26 with value: 5.751692654974331.\u001b[0m\n",
      "\u001b[32m[I 2020-05-06 08:06:06,416]\u001b[0m Finished trial#30 with value: 5.754796718607925 with parameters: {'c': 16383.925953664893, 'gamma': 4.106040061176959, 'epsilon': 0.2063569074696344}. Best is trial#26 with value: 5.751692654974331.\u001b[0m\n",
      "\u001b[32m[I 2020-05-06 08:06:06,506]\u001b[0m Finished trial#31 with value: 5.750371968827088 with parameters: {'c': 16384.274292978746, 'gamma': 4.345150425839583, 'epsilon': 0.058806650410351866}. Best is trial#31 with value: 5.750371968827088.\u001b[0m\n",
      "\u001b[32m[I 2020-05-06 08:06:06,585]\u001b[0m Finished trial#32 with value: 5.761948057443969 with parameters: {'c': 16384.17861464385, 'gamma': 3.7746319562324135, 'epsilon': 0.43284866493356466}. Best is trial#31 with value: 5.750371968827088.\u001b[0m\n",
      "\u001b[32m[I 2020-05-06 08:06:06,662]\u001b[0m Finished trial#33 with value: 5.7638732267364015 with parameters: {'c': 16383.838976670082, 'gamma': 3.9865846242478384, 'epsilon': 0.4884556205942029}. Best is trial#31 with value: 5.750371968827088.\u001b[0m\n",
      "\u001b[32m[I 2020-05-06 08:06:06,738]\u001b[0m Finished trial#34 with value: 5.763222456103422 with parameters: {'c': 16384.262042852657, 'gamma': 3.929289308280648, 'epsilon': 0.469495681792175}. Best is trial#31 with value: 5.750371968827088.\u001b[0m\n"
     ]
    },
    {
     "name": "stderr",
     "output_type": "stream",
     "text": [
      "\u001b[32m[I 2020-05-06 08:06:06,815]\u001b[0m Finished trial#35 with value: 5.757527661015581 with parameters: {'c': 16384.17043001499, 'gamma': 4.128856191844779, 'epsilon': 0.29265697120871703}. Best is trial#31 with value: 5.750371968827088.\u001b[0m\n",
      "\u001b[32m[I 2020-05-06 08:06:06,893]\u001b[0m Finished trial#36 with value: 5.753062731165426 with parameters: {'c': 16384.328438196815, 'gamma': 4.351409964635339, 'epsilon': 0.14760729895084235}. Best is trial#31 with value: 5.750371968827088.\u001b[0m\n",
      "\u001b[32m[I 2020-05-06 08:06:06,970]\u001b[0m Finished trial#37 with value: 5.754318241732565 with parameters: {'c': 16384.205054605798, 'gamma': 4.1100436962159055, 'epsilon': 0.19093409715985693}. Best is trial#31 with value: 5.750371968827088.\u001b[0m\n",
      "\u001b[32m[I 2020-05-06 08:06:07,045]\u001b[0m Finished trial#38 with value: 5.760078804927224 with parameters: {'c': 16384.398701975715, 'gamma': 4.110270953895953, 'epsilon': 0.3717880610872234}. Best is trial#31 with value: 5.750371968827088.\u001b[0m\n",
      "\u001b[32m[I 2020-05-06 08:06:07,121]\u001b[0m Finished trial#39 with value: 5.752457340042541 with parameters: {'c': 16384.216775773028, 'gamma': 4.010582224629016, 'epsilon': 0.13147501361952596}. Best is trial#31 with value: 5.750371968827088.\u001b[0m\n",
      "\u001b[32m[I 2020-05-06 08:06:07,199]\u001b[0m Finished trial#40 with value: 5.756221783804544 with parameters: {'c': 16384.367295748965, 'gamma': 3.957334413936167, 'epsilon': 0.2534964419752976}. Best is trial#31 with value: 5.750371968827088.\u001b[0m\n",
      "\u001b[32m[I 2020-05-06 08:06:07,279]\u001b[0m Finished trial#41 with value: 5.75428971755328 with parameters: {'c': 16384.210230023524, 'gamma': 4.121717009684677, 'epsilon': 0.18988869139829997}. Best is trial#31 with value: 5.750371968827088.\u001b[0m\n",
      "\u001b[32m[I 2020-05-06 08:06:07,362]\u001b[0m Finished trial#42 with value: 5.751262793597703 with parameters: {'c': 16384.17367667938, 'gamma': 4.27712750509774, 'epsilon': 0.08973521686051199}. Best is trial#31 with value: 5.750371968827088.\u001b[0m\n",
      "\u001b[32m[I 2020-05-06 08:06:07,444]\u001b[0m Finished trial#43 with value: 5.7527784670257995 with parameters: {'c': 16384.254388903693, 'gamma': 4.222717450852208, 'epsilon': 0.1396065926122157}. Best is trial#31 with value: 5.750371968827088.\u001b[0m\n",
      "\u001b[32m[I 2020-05-06 08:06:07,528]\u001b[0m Finished trial#44 with value: 5.752163376889363 with parameters: {'c': 16384.26713459759, 'gamma': 4.1971133358574875, 'epsilon': 0.11984570808901021}. Best is trial#31 with value: 5.750371968827088.\u001b[0m\n",
      "\u001b[32m[I 2020-05-06 08:06:07,610]\u001b[0m Finished trial#45 with value: 5.757645635918575 with parameters: {'c': 16384.38102898864, 'gamma': 3.609605980769369, 'epsilon': 0.3022850466229444}. Best is trial#31 with value: 5.750371968827088.\u001b[0m\n",
      "\u001b[32m[I 2020-05-06 08:06:07,692]\u001b[0m Finished trial#46 with value: 5.752538928596153 with parameters: {'c': 16384.099713743886, 'gamma': 4.278050818155207, 'epsilon': 0.13115585393826548}. Best is trial#31 with value: 5.750371968827088.\u001b[0m\n",
      "\u001b[32m[I 2020-05-06 08:06:07,774]\u001b[0m Finished trial#47 with value: 5.751071443546907 with parameters: {'c': 16384.031156830566, 'gamma': 4.229555216977544, 'epsilon': 0.0840425470001161}. Best is trial#31 with value: 5.750371968827088.\u001b[0m\n",
      "\u001b[32m[I 2020-05-06 08:06:07,856]\u001b[0m Finished trial#48 with value: 5.755043563936487 with parameters: {'c': 16384.224830461688, 'gamma': 3.897262865029322, 'epsilon': 0.21664469402132824}. Best is trial#31 with value: 5.750371968827088.\u001b[0m\n",
      "\u001b[32m[I 2020-05-06 08:06:07,938]\u001b[0m Finished trial#49 with value: 5.755295088797395 with parameters: {'c': 16384.123070995498, 'gamma': 4.334330920189866, 'epsilon': 0.21988936151801947}. Best is trial#31 with value: 5.750371968827088.\u001b[0m\n",
      "\u001b[32m[I 2020-05-06 08:06:08,021]\u001b[0m Finished trial#50 with value: 5.754811675856305 with parameters: {'c': 16384.16507486686, 'gamma': 4.212372471759752, 'epsilon': 0.20566637367361823}. Best is trial#31 with value: 5.750371968827088.\u001b[0m\n",
      "\u001b[32m[I 2020-05-06 08:06:08,105]\u001b[0m Finished trial#51 with value: 5.75219768571139 with parameters: {'c': 16383.969179408134, 'gamma': 4.380352752002909, 'epsilon': 0.11897956204374352}. Best is trial#31 with value: 5.750371968827088.\u001b[0m\n",
      "\u001b[32m[I 2020-05-06 08:06:08,188]\u001b[0m Finished trial#52 with value: 5.753190875231718 with parameters: {'c': 16384.17085125617, 'gamma': 4.452191336144726, 'epsilon': 0.15075584325015615}. Best is trial#31 with value: 5.750371968827088.\u001b[0m\n",
      "\u001b[32m[I 2020-05-06 08:06:08,272]\u001b[0m Finished trial#53 with value: 5.752307827359943 with parameters: {'c': 16384.00004341238, 'gamma': 4.120150677555722, 'epsilon': 0.12538644467439974}. Best is trial#31 with value: 5.750371968827088.\u001b[0m\n",
      "\u001b[32m[I 2020-05-06 08:06:08,355]\u001b[0m Finished trial#54 with value: 5.753509976951495 with parameters: {'c': 16383.923090577198, 'gamma': 4.126448376249989, 'epsilon': 0.16477743059532074}. Best is trial#31 with value: 5.750371968827088.\u001b[0m\n",
      "\u001b[32m[I 2020-05-06 08:06:08,439]\u001b[0m Finished trial#55 with value: 5.751866513327951 with parameters: {'c': 16384.081313145605, 'gamma': 4.236919073361421, 'epsilon': 0.10977268535251773}. Best is trial#31 with value: 5.750371968827088.\u001b[0m\n",
      "\u001b[32m[I 2020-05-06 08:06:08,523]\u001b[0m Finished trial#56 with value: 5.751445745947456 with parameters: {'c': 16383.926989839518, 'gamma': 4.0894987193108445, 'epsilon': 0.09774629775827752}. Best is trial#31 with value: 5.750371968827088.\u001b[0m\n",
      "\u001b[32m[I 2020-05-06 08:06:08,607]\u001b[0m Finished trial#57 with value: 5.753325110143748 with parameters: {'c': 16383.966384228526, 'gamma': 4.13032069545928, 'epsilon': 0.15877182399356066}. Best is trial#31 with value: 5.750371968827088.\u001b[0m\n",
      "\u001b[32m[I 2020-05-06 08:06:08,691]\u001b[0m Finished trial#58 with value: 5.754636911084957 with parameters: {'c': 16384.16091992389, 'gamma': 3.9791843965701186, 'epsilon': 0.2026436493529411}. Best is trial#31 with value: 5.750371968827088.\u001b[0m\n",
      "\u001b[32m[I 2020-05-06 08:06:08,777]\u001b[0m Finished trial#59 with value: 5.752305395877819 with parameters: {'c': 16384.019222993244, 'gamma': 4.036125072945461, 'epsilon': 0.12625390708474854}. Best is trial#31 with value: 5.750371968827088.\u001b[0m\n",
      "\u001b[32m[I 2020-05-06 08:06:08,873]\u001b[0m Finished trial#60 with value: 5.753526402285986 with parameters: {'c': 16383.723733839024, 'gamma': 4.084650520337885, 'epsilon': 0.16577149864945284}. Best is trial#31 with value: 5.750371968827088.\u001b[0m\n",
      "\u001b[32m[I 2020-05-06 08:06:08,981]\u001b[0m Finished trial#61 with value: 5.757987180159505 with parameters: {'c': 16384.058949267805, 'gamma': 4.14413726902733, 'epsilon': 0.3069601670186507}. Best is trial#31 with value: 5.750371968827088.\u001b[0m\n",
      "\u001b[32m[I 2020-05-06 08:06:09,077]\u001b[0m Finished trial#62 with value: 5.7543227858217225 with parameters: {'c': 16384.252853918042, 'gamma': 4.254584538098135, 'epsilon': 0.18949940558461725}. Best is trial#31 with value: 5.750371968827088.\u001b[0m\n",
      "\u001b[32m[I 2020-05-06 08:06:09,173]\u001b[0m Finished trial#63 with value: 5.750131438152503 with parameters: {'c': 16384.08014158202, 'gamma': 4.330758430702188, 'epsilon': 0.05052406003703493}. Best is trial#63 with value: 5.750131438152503.\u001b[0m\n",
      "\u001b[32m[I 2020-05-06 08:06:09,267]\u001b[0m Finished trial#64 with value: 5.752599154859882 with parameters: {'c': 16383.896015885035, 'gamma': 4.1703245652517404, 'epsilon': 0.13428856776947132}. Best is trial#63 with value: 5.750131438152503.\u001b[0m\n",
      "\u001b[32m[I 2020-05-06 08:06:09,368]\u001b[0m Finished trial#65 with value: 5.754515662638408 with parameters: {'c': 16384.026613550002, 'gamma': 4.044249556709061, 'epsilon': 0.19801104508723374}. Best is trial#63 with value: 5.750131438152503.\u001b[0m\n",
      "\u001b[32m[I 2020-05-06 08:06:09,466]\u001b[0m Finished trial#66 with value: 5.753092667750934 with parameters: {'c': 16383.784062175251, 'gamma': 4.092659027421966, 'epsilon': 0.15149588705229755}. Best is trial#63 with value: 5.750131438152503.\u001b[0m\n",
      "\u001b[32m[I 2020-05-06 08:06:09,556]\u001b[0m Finished trial#67 with value: 5.7509195808991835 with parameters: {'c': 16384.092109965717, 'gamma': 4.433904440043381, 'epsilon': 0.07691223198222912}. Best is trial#63 with value: 5.750131438152503.\u001b[0m\n",
      "\u001b[32m[I 2020-05-06 08:06:09,650]\u001b[0m Finished trial#68 with value: 5.753879943739391 with parameters: {'c': 16384.08559913844, 'gamma': 4.37784981499445, 'epsilon': 0.1739469948906181}. Best is trial#63 with value: 5.750131438152503.\u001b[0m\n",
      "\u001b[32m[I 2020-05-06 08:06:09,742]\u001b[0m Finished trial#69 with value: 5.755275901175489 with parameters: {'c': 16383.983673045204, 'gamma': 4.154357082334261, 'epsilon': 0.2212198779377707}. Best is trial#63 with value: 5.750131438152503.\u001b[0m\n"
     ]
    },
    {
     "name": "stderr",
     "output_type": "stream",
     "text": [
      "\u001b[32m[I 2020-05-06 08:06:09,850]\u001b[0m Finished trial#70 with value: 5.755590368180417 with parameters: {'c': 16383.90824354397, 'gamma': 3.9464623621687127, 'epsilon': 0.23364984959181878}. Best is trial#63 with value: 5.750131438152503.\u001b[0m\n",
      "\u001b[32m[I 2020-05-06 08:06:09,946]\u001b[0m Finished trial#71 with value: 5.750876977670059 with parameters: {'c': 16383.869318341425, 'gamma': 4.323783023945489, 'epsilon': 0.07670416720124403}. Best is trial#63 with value: 5.750131438152503.\u001b[0m\n",
      "\u001b[32m[I 2020-05-06 08:06:10,031]\u001b[0m Finished trial#72 with value: 5.751180312590264 with parameters: {'c': 16383.963243086013, 'gamma': 4.392617809624123, 'epsilon': 0.08581492378549457}. Best is trial#63 with value: 5.750131438152503.\u001b[0m\n",
      "\u001b[32m[I 2020-05-06 08:06:10,115]\u001b[0m Finished trial#73 with value: 5.754249899589772 with parameters: {'c': 16383.978843348274, 'gamma': 4.316315477106199, 'epsilon': 0.18649255974177958}. Best is trial#63 with value: 5.750131438152503.\u001b[0m\n",
      "\u001b[32m[I 2020-05-06 08:06:10,199]\u001b[0m Finished trial#74 with value: 5.75384125476031 with parameters: {'c': 16383.921800882394, 'gamma': 4.200712734770633, 'epsilon': 0.17460958853108155}. Best is trial#63 with value: 5.750131438152503.\u001b[0m\n",
      "\u001b[32m[I 2020-05-06 08:06:10,282]\u001b[0m Finished trial#75 with value: 5.7554036378729485 with parameters: {'c': 16384.044142463095, 'gamma': 4.148568968239659, 'epsilon': 0.22538584825010005}. Best is trial#63 with value: 5.750131438152503.\u001b[0m\n",
      "\u001b[32m[I 2020-05-06 08:06:10,367]\u001b[0m Finished trial#76 with value: 5.751372857518662 with parameters: {'c': 16384.105236574025, 'gamma': 4.41118086927326, 'epsilon': 0.09186981845044341}. Best is trial#63 with value: 5.750131438152503.\u001b[0m\n",
      "\u001b[32m[I 2020-05-06 08:06:10,451]\u001b[0m Finished trial#77 with value: 5.7504572788625055 with parameters: {'c': 16383.931459205112, 'gamma': 4.588084271347023, 'epsilon': 0.059058397592680036}. Best is trial#63 with value: 5.750131438152503.\u001b[0m\n",
      "\u001b[32m[I 2020-05-06 08:06:10,535]\u001b[0m Finished trial#78 with value: 5.753844211212945 with parameters: {'c': 16383.931903723298, 'gamma': 4.236546182488412, 'epsilon': 0.17431302562336953}. Best is trial#63 with value: 5.750131438152503.\u001b[0m\n",
      "\u001b[32m[I 2020-05-06 08:06:10,620]\u001b[0m Finished trial#79 with value: 5.75731590382905 with parameters: {'c': 16383.732914389142, 'gamma': 4.205581706451493, 'epsilon': 0.28516571121277234}. Best is trial#63 with value: 5.750131438152503.\u001b[0m\n",
      "\u001b[32m[I 2020-05-06 08:06:10,710]\u001b[0m Finished trial#80 with value: 5.7525562572540485 with parameters: {'c': 16384.215059507693, 'gamma': 4.43546063625825, 'epsilon': 0.13003434686669094}. Best is trial#63 with value: 5.750131438152503.\u001b[0m\n",
      "\u001b[32m[I 2020-05-06 08:06:10,818]\u001b[0m Finished trial#81 with value: 5.750876415966685 with parameters: {'c': 16383.986514846516, 'gamma': 4.628292553724188, 'epsilon': 0.07333731999431199}. Best is trial#63 with value: 5.750131438152503.\u001b[0m\n",
      "\u001b[32m[I 2020-05-06 08:06:10,926]\u001b[0m Finished trial#82 with value: 5.752116589901396 with parameters: {'c': 16384.006654848676, 'gamma': 4.526397164858717, 'epsilon': 0.11480741884592358}. Best is trial#63 with value: 5.750131438152503.\u001b[0m\n",
      "\u001b[32m[I 2020-05-06 08:06:11,037]\u001b[0m Finished trial#83 with value: 5.751766246986469 with parameters: {'c': 16384.28709129174, 'gamma': 4.590237092436286, 'epsilon': 0.10276656773680609}. Best is trial#63 with value: 5.750131438152503.\u001b[0m\n",
      "\u001b[32m[I 2020-05-06 08:06:11,145]\u001b[0m Finished trial#84 with value: 5.751686885857729 with parameters: {'c': 16383.693959735274, 'gamma': 4.49060081435966, 'epsilon': 0.10122902618924454}. Best is trial#63 with value: 5.750131438152503.\u001b[0m\n",
      "\u001b[32m[I 2020-05-06 08:06:11,256]\u001b[0m Finished trial#85 with value: 5.751339421149653 with parameters: {'c': 16384.02221295, 'gamma': 4.845577012859495, 'epsilon': 0.08630806939900845}. Best is trial#63 with value: 5.750131438152503.\u001b[0m\n",
      "\u001b[32m[I 2020-05-06 08:06:11,361]\u001b[0m Finished trial#86 with value: 5.752868694319786 with parameters: {'c': 16384.19043109917, 'gamma': 4.8083072103280555, 'epsilon': 0.13634416957176085}. Best is trial#63 with value: 5.750131438152503.\u001b[0m\n",
      "\u001b[32m[I 2020-05-06 08:06:11,457]\u001b[0m Finished trial#87 with value: 5.755614849769075 with parameters: {'c': 16384.188150790218, 'gamma': 4.179372216770919, 'epsilon': 0.23183427434241374}. Best is trial#63 with value: 5.750131438152503.\u001b[0m\n",
      "\u001b[32m[I 2020-05-06 08:06:11,551]\u001b[0m Finished trial#88 with value: 5.753893064367132 with parameters: {'c': 16384.03588005336, 'gamma': 4.327612185417779, 'epsilon': 0.17489851267031997}. Best is trial#63 with value: 5.750131438152503.\u001b[0m\n",
      "\u001b[32m[I 2020-05-06 08:06:11,645]\u001b[0m Finished trial#89 with value: 5.751123719501029 with parameters: {'c': 16384.148322824494, 'gamma': 4.735156589737339, 'epsilon': 0.08041759453113634}. Best is trial#63 with value: 5.750131438152503.\u001b[0m\n",
      "\u001b[32m[I 2020-05-06 08:06:11,741]\u001b[0m Finished trial#90 with value: 5.75074042227729 with parameters: {'c': 16384.319814374776, 'gamma': 4.631376751960588, 'epsilon': 0.0685276181371324}. Best is trial#63 with value: 5.750131438152503.\u001b[0m\n",
      "\u001b[32m[I 2020-05-06 08:06:11,833]\u001b[0m Finished trial#91 with value: 5.754786165803108 with parameters: {'c': 16383.862521989875, 'gamma': 4.4638619961503485, 'epsilon': 0.20216972222711305}. Best is trial#63 with value: 5.750131438152503.\u001b[0m\n",
      "\u001b[32m[I 2020-05-06 08:06:11,925]\u001b[0m Finished trial#92 with value: 5.759120796810587 with parameters: {'c': 16384.240601503596, 'gamma': 4.610280989338336, 'epsilon': 0.33746086852138635}. Best is trial#63 with value: 5.750131438152503.\u001b[0m\n",
      "\u001b[32m[I 2020-05-06 08:06:12,017]\u001b[0m Finished trial#93 with value: 5.752223989518619 with parameters: {'c': 16383.87570627237, 'gamma': 4.606568057935005, 'epsilon': 0.11745946013882533}. Best is trial#63 with value: 5.750131438152503.\u001b[0m\n",
      "\u001b[32m[I 2020-05-06 08:06:12,110]\u001b[0m Finished trial#94 with value: 5.752738722809127 with parameters: {'c': 16383.7321443492, 'gamma': 4.076627113345699, 'epsilon': 0.1399484183911064}. Best is trial#63 with value: 5.750131438152503.\u001b[0m\n",
      "\u001b[32m[I 2020-05-06 08:06:12,203]\u001b[0m Finished trial#95 with value: 5.752407965262837 with parameters: {'c': 16384.25973621264, 'gamma': 4.037036748704309, 'epsilon': 0.1295712785903692}. Best is trial#63 with value: 5.750131438152503.\u001b[0m\n",
      "\u001b[32m[I 2020-05-06 08:06:12,295]\u001b[0m Finished trial#96 with value: 5.757920433221985 with parameters: {'c': 16384.155196012678, 'gamma': 4.622264965360562, 'epsilon': 0.29990035515976715}. Best is trial#63 with value: 5.750131438152503.\u001b[0m\n",
      "\u001b[32m[I 2020-05-06 08:06:12,386]\u001b[0m Finished trial#97 with value: 5.7547097913021625 with parameters: {'c': 16384.672372241555, 'gamma': 5.255471584663526, 'epsilon': 0.19541151967670373}. Best is trial#63 with value: 5.750131438152503.\u001b[0m\n",
      "\u001b[32m[I 2020-05-06 08:06:12,482]\u001b[0m Finished trial#98 with value: 5.751126620486202 with parameters: {'c': 16384.43089304855, 'gamma': 4.814422472998534, 'epsilon': 0.07970803500888046}. Best is trial#63 with value: 5.750131438152503.\u001b[0m\n",
      "\u001b[32m[I 2020-05-06 08:06:12,579]\u001b[0m Finished trial#99 with value: 5.756412536251069 with parameters: {'c': 16384.091286626113, 'gamma': 4.235042567678118, 'epsilon': 0.2564509779827119}. Best is trial#63 with value: 5.750131438152503.\u001b[0m\n",
      "\u001b[32m[I 2020-05-06 08:06:12,685]\u001b[0m Finished trial#100 with value: 5.752454325962039 with parameters: {'c': 16384.09499811558, 'gamma': 4.414615478660186, 'epsilon': 0.12694575133929972}. Best is trial#63 with value: 5.750131438152503.\u001b[0m\n",
      "\u001b[32m[I 2020-05-06 08:06:12,782]\u001b[0m Finished trial#101 with value: 5.752371455671947 with parameters: {'c': 16384.033765047836, 'gamma': 4.507544989621646, 'epsilon': 0.12327811206061738}. Best is trial#63 with value: 5.750131438152503.\u001b[0m\n",
      "\u001b[32m[I 2020-05-06 08:06:12,882]\u001b[0m Finished trial#102 with value: 5.7558134818828135 with parameters: {'c': 16383.763661083396, 'gamma': 4.083812930850704, 'epsilon': 0.2392749591391605}. Best is trial#63 with value: 5.750131438152503.\u001b[0m\n",
      "\u001b[32m[I 2020-05-06 08:06:12,990]\u001b[0m Finished trial#103 with value: 5.753404150273563 with parameters: {'c': 16384.613584387753, 'gamma': 4.8095616449842495, 'epsilon': 0.15406762459712664}. Best is trial#63 with value: 5.750131438152503.\u001b[0m\n",
      "\u001b[32m[I 2020-05-06 08:06:13,091]\u001b[0m Finished trial#104 with value: 5.755148472284326 with parameters: {'c': 16383.596863019724, 'gamma': 4.306170647968575, 'epsilon': 0.21547980508300169}. Best is trial#63 with value: 5.750131438152503.\u001b[0m\n"
     ]
    },
    {
     "name": "stderr",
     "output_type": "stream",
     "text": [
      "\u001b[32m[I 2020-05-06 08:06:13,198]\u001b[0m Finished trial#105 with value: 5.754877669084858 with parameters: {'c': 16384.042323241752, 'gamma': 4.837811665317978, 'epsilon': 0.20129646541241422}. Best is trial#63 with value: 5.750131438152503.\u001b[0m\n",
      "\u001b[32m[I 2020-05-06 08:06:13,311]\u001b[0m Finished trial#106 with value: 5.756155531256144 with parameters: {'c': 16384.35440593619, 'gamma': 4.815620157982458, 'epsilon': 0.24264710332727552}. Best is trial#63 with value: 5.750131438152503.\u001b[0m\n",
      "\u001b[32m[I 2020-05-06 08:06:13,416]\u001b[0m Finished trial#107 with value: 5.7524467611821875 with parameters: {'c': 16384.374787374956, 'gamma': 4.186110692563148, 'epsilon': 0.1291667473821231}. Best is trial#63 with value: 5.750131438152503.\u001b[0m\n",
      "\u001b[32m[I 2020-05-06 08:06:13,528]\u001b[0m Finished trial#108 with value: 5.752279834090349 with parameters: {'c': 16384.2217330922, 'gamma': 4.836791142588284, 'epsilon': 0.11693596078633679}. Best is trial#63 with value: 5.750131438152503.\u001b[0m\n",
      "\u001b[32m[I 2020-05-06 08:06:13,635]\u001b[0m Finished trial#109 with value: 5.751626807525203 with parameters: {'c': 16384.339999446445, 'gamma': 4.624302606938852, 'epsilon': 0.09788857428737378}. Best is trial#63 with value: 5.750131438152503.\u001b[0m\n",
      "\u001b[32m[I 2020-05-06 08:06:13,738]\u001b[0m Finished trial#110 with value: 5.75404189783935 with parameters: {'c': 16384.094651242474, 'gamma': 4.564380214328641, 'epsilon': 0.17720165511253427}. Best is trial#63 with value: 5.750131438152503.\u001b[0m\n",
      "\u001b[32m[I 2020-05-06 08:06:13,828]\u001b[0m Finished trial#111 with value: 5.755843803586774 with parameters: {'c': 16383.862736607072, 'gamma': 4.457998663878515, 'epsilon': 0.2362214364377685}. Best is trial#63 with value: 5.750131438152503.\u001b[0m\n",
      "\u001b[32m[I 2020-05-06 08:06:13,920]\u001b[0m Finished trial#112 with value: 5.753024162858816 with parameters: {'c': 16384.194310664127, 'gamma': 4.267395316445088, 'epsilon': 0.14725527786385476}. Best is trial#63 with value: 5.750131438152503.\u001b[0m\n",
      "\u001b[32m[I 2020-05-06 08:06:14,011]\u001b[0m Finished trial#113 with value: 5.7504433326076585 with parameters: {'c': 16384.248237395193, 'gamma': 4.709595166238838, 'epsilon': 0.05723042317473863}. Best is trial#63 with value: 5.750131438152503.\u001b[0m\n",
      "\u001b[32m[I 2020-05-06 08:06:14,102]\u001b[0m Finished trial#114 with value: 5.750409378519592 with parameters: {'c': 16384.202306453095, 'gamma': 4.964418601201881, 'epsilon': 0.05329850413677904}. Best is trial#63 with value: 5.750131438152503.\u001b[0m\n",
      "\u001b[32m[I 2020-05-06 08:06:14,192]\u001b[0m Finished trial#115 with value: 5.755784187357162 with parameters: {'c': 16384.379980977825, 'gamma': 4.618559027134218, 'epsilon': 0.23265175909485453}. Best is trial#63 with value: 5.750131438152503.\u001b[0m\n",
      "\u001b[32m[I 2020-05-06 08:06:14,282]\u001b[0m Finished trial#116 with value: 5.7534799569008515 with parameters: {'c': 16384.114380557497, 'gamma': 4.969145507186999, 'epsilon': 0.15551220781052985}. Best is trial#63 with value: 5.750131438152503.\u001b[0m\n",
      "\u001b[32m[I 2020-05-06 08:06:14,374]\u001b[0m Finished trial#117 with value: 5.751927776637763 with parameters: {'c': 16384.091513981166, 'gamma': 4.551751458668561, 'epsilon': 0.10841069753790508}. Best is trial#63 with value: 5.750131438152503.\u001b[0m\n",
      "\u001b[32m[I 2020-05-06 08:06:14,466]\u001b[0m Finished trial#118 with value: 5.752455089653083 with parameters: {'c': 16384.725692758697, 'gamma': 4.5565635413754215, 'epsilon': 0.12548218471325856}. Best is trial#63 with value: 5.750131438152503.\u001b[0m\n",
      "\u001b[32m[I 2020-05-06 08:06:14,559]\u001b[0m Finished trial#119 with value: 5.753940272156601 with parameters: {'c': 16384.36056176199, 'gamma': 4.339860551880976, 'epsilon': 0.1762900308845201}. Best is trial#63 with value: 5.750131438152503.\u001b[0m\n",
      "\u001b[32m[I 2020-05-06 08:06:14,652]\u001b[0m Finished trial#120 with value: 5.752566085208073 with parameters: {'c': 16383.926415417118, 'gamma': 4.984650160403209, 'epsilon': 0.1250999172914039}. Best is trial#63 with value: 5.750131438152503.\u001b[0m\n",
      "\u001b[32m[I 2020-05-06 08:06:14,744]\u001b[0m Finished trial#121 with value: 5.750381245914987 with parameters: {'c': 16384.11429572549, 'gamma': 4.779963787722258, 'epsilon': 0.05428539935796495}. Best is trial#63 with value: 5.750131438152503.\u001b[0m\n",
      "\u001b[32m[I 2020-05-06 08:06:14,836]\u001b[0m Finished trial#122 with value: 5.755489025799797 with parameters: {'c': 16383.600621042102, 'gamma': 4.268663814673371, 'epsilon': 0.22682715580839669}. Best is trial#63 with value: 5.750131438152503.\u001b[0m\n",
      "\u001b[32m[I 2020-05-06 08:06:14,928]\u001b[0m Finished trial#123 with value: 5.755693610412609 with parameters: {'c': 16383.927291874734, 'gamma': 4.570497480481861, 'epsilon': 0.23023012553525762}. Best is trial#63 with value: 5.750131438152503.\u001b[0m\n",
      "\u001b[32m[I 2020-05-06 08:06:15,019]\u001b[0m Finished trial#124 with value: 5.7638088226263875 with parameters: {'c': 16385.02784374591, 'gamma': 3.9365375548626305, 'epsilon': 0.4870518312142055}. Best is trial#63 with value: 5.750131438152503.\u001b[0m\n"
     ]
    }
   ],
   "source": [
    "def objective(trial):\n",
    "    c = trial.suggest_uniform('c', 2**(-5),  2**15)\n",
    "    gamma = trial.suggest_uniform('gamma', 2**(-15),  2**3)    \n",
    "    epsilon = trial.suggest_uniform('epsilon', 0.05,  1.0)\n",
    "    \n",
    "    svr  = SVR(kernel='rbf', C=c, gamma=gamma, epsilon=epsilon)\n",
    "    svr.fit(x_treino, y_treino)\n",
    "    \n",
    "    pred = svr.predict(x_teste)\n",
    "    mae = metrics.mean_absolute_error(y_true=y_teste, y_pred=pred)\n",
    "    \n",
    "    return mae\n",
    "\n",
    "\n",
    "sampler = optuna.samplers.CmaEsSampler()\n",
    "study = optuna.create_study(sampler=sampler)\n",
    "study.optimize(objective, n_trials=125)\n"
   ]
  },
  {
   "cell_type": "markdown",
   "metadata": {},
   "source": [
    "Logo, como resultado os melhores parâmetros encontrados durante a busca são mostrados:"
   ]
  },
  {
   "cell_type": "code",
   "execution_count": 20,
   "metadata": {},
   "outputs": [
    {
     "data": {
      "text/plain": [
       "{'c': 16384.08014158202,\n",
       " 'epsilon': 0.05052406003703493,\n",
       " 'gamma': 4.330758430702188}"
      ]
     },
     "execution_count": 20,
     "metadata": {},
     "output_type": "execute_result"
    }
   ],
   "source": [
    "study.best_params"
   ]
  },
  {
   "cell_type": "markdown",
   "metadata": {},
   "source": [
    "Bem como o resultado para o  erro absoluto médio (MAE) no conjunto de teste com esses parâmetros:"
   ]
  },
  {
   "cell_type": "code",
   "execution_count": 21,
   "metadata": {},
   "outputs": [
    {
     "data": {
      "text/plain": [
       "5.750131438152503"
      ]
     },
     "execution_count": 21,
     "metadata": {},
     "output_type": "execute_result"
    }
   ],
   "source": [
    "study.best_value"
   ]
  },
  {
   "cell_type": "code",
   "execution_count": null,
   "metadata": {},
   "outputs": [],
   "source": []
  }
 ],
 "metadata": {
  "kernelspec": {
   "display_name": "Python 3",
   "language": "python",
   "name": "python3"
  },
  "language_info": {
   "codemirror_mode": {
    "name": "ipython",
    "version": 3
   },
   "file_extension": ".py",
   "mimetype": "text/x-python",
   "name": "python",
   "nbconvert_exporter": "python",
   "pygments_lexer": "ipython3",
   "version": "3.5.6"
  }
 },
 "nbformat": 4,
 "nbformat_minor": 4
}
