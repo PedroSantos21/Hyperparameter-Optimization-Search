{
 "cells": [
  {
   "cell_type": "markdown",
   "metadata": {},
   "source": [
    "Neste trabalho, O objetivo foi de buscar os melhores hiperparametros de uma SVM para Regressão num banco de dados em particular. Há 3 hiperparâmetros que consideramos como os mais importantes: C, gamma, e epsilon.\n",
    "\n",
    "Dentre os algoritimos de otimização propostos para este trabalho, temos: \n",
    "    - Random search;\n",
    "    - Grid search;\n",
    "    - Bayesian optimization;\n",
    "    - PSO;\n",
    "    - Simulated aneeling;\n",
    "    - CMA-ES.\n",
    "    \n",
    "Para a utilziação de cada um dos algoritimos acima fizemos o uso da bibliotecas: sklearn.svm, hyperopt, pyswarm and optuna.\n",
    "\n",
    "Vamos fazer a busca no seguinte range:\n",
    "    - C entre 2^{-5} e 2^{15}  (uniforme nos expoentes);\n",
    "    - gamma entre 2^{15} e 2^{-3} (uniforme nos expoentes);\n",
    "    - episolon entre 0.05 e 10  (uniforme neste intervalo);\n",
    "    \n",
    "Para o desenvolvimneto, utilizamos como dados de treino e testes os arquivos Xtreino5.npy e Xteste5.npy. Para as sáidas dos dados correspondenetres usamos os arquivos ytreino5.npy e yteste5.npy. Todos os arquivos foram disponibilizados na página no trabalho https://www.ic.unicamp.br/~wainer/cursos/1s2020/431/ex4.html.\n"
   ]
  },
  {
   "cell_type": "markdown",
   "metadata": {},
   "source": [
    "### Importação das Bibliotecas"
   ]
  },
  {
   "cell_type": "markdown",
   "metadata": {},
   "source": [
    "Como primeiro passo, importamos as bibliotecas necessárias para a implementação desse trabalho:"
   ]
  },
  {
   "cell_type": "code",
   "execution_count": 1,
   "metadata": {
    "scrolled": true
   },
   "outputs": [],
   "source": [
    "import numpy as np\n",
    "from sklearn.svm import SVR\n",
    "from sklearn.model_selection import RandomizedSearchCV, GridSearchCV\n",
    "from sklearn import metrics\n",
    "import pyspark\n",
    "from hyperopt import fmin, tpe, hp, SparkTrials, STATUS_OK, Trials\n",
    "from sklearn.model_selection import cross_val_score\n",
    "\n",
    "from pyswarm import pso\n",
    "import optuna\n",
    "from scipy.stats import loguniform\n",
    "import random"
   ]
  },
  {
   "cell_type": "markdown",
   "metadata": {},
   "source": [
    "### Leitura e Exibição dos arquivos"
   ]
  },
  {
   "cell_type": "markdown",
   "metadata": {},
   "source": [
    "Após importamos as bibliotecas necessárias, realizamos a leitura dos arquivos .npy disponibilizados para uso neste trabalho. Para isso fizemos uso da função load() da biblioteca numpy. Armazenamos cada um dos arquivos de treino e de teste em variáveis locais."
   ]
  },
  {
   "cell_type": "code",
   "execution_count": 2,
   "metadata": {},
   "outputs": [],
   "source": [
    "x_treino = np.load('data/Xtreino5.npy')\n",
    "x_teste = np.load('data/Xteste5.npy')\n",
    "y_treino = np.load('data/ytreino5.npy')\n",
    "y_teste = np.load('data/yteste5.npy')"
   ]
  },
  {
   "cell_type": "markdown",
   "metadata": {},
   "source": [
    "### Medida de erro"
   ]
  },
  {
   "cell_type": "markdown",
   "metadata": {},
   "source": [
    "Para um dos algoritimos de otimização, e para cada conjunto de hiperparametros, treinamos o SVM no conjunto de treino ( Xtreino e ytreino), e medimos o erro absoluto médio (MAE) no conjunto de teste (Xteste e yteste). "
   ]
  },
  {
   "cell_type": "markdown",
   "metadata": {},
   "source": [
    "## Randomized Search"
   ]
  },
  {
   "cell_type": "code",
   "execution_count": 3,
   "metadata": {},
   "outputs": [],
   "source": [
    "n_combinations = 125\n",
    "\n",
    "# Hyperparameters Search Space\n",
    "C_range = np.random.uniform(-5, 15, n_combinations).astype(float)\n",
    "C_range = 2**C_range\n",
    "\n",
    "# C_range = loguniform(2**-5, 2**15).rvs(size=n_combinations)\n",
    "\n",
    "gamma_range = np.random.uniform(-15, 3, n_combinations).astype(float)\n",
    "gamma_range = 2**gamma_range\n",
    "\n",
    "# gamma_range = loguniform(2**-15, 2** 3).rvs(size=n_combinations)\n",
    "\n",
    "epsilon_range = np.random.uniform(0.05, 1.0, n_combinations).astype(float)\n",
    "\n",
    " \n",
    "hyperparameters = {'gamma': list(gamma_range), \n",
    "                    'C': list(C_range),\n",
    "                  'epsilon': list(epsilon_range)}"
   ]
  },
  {
   "cell_type": "code",
   "execution_count": 4,
   "metadata": {},
   "outputs": [
    {
     "name": "stdout",
     "output_type": "stream",
     "text": [
      "The best performing C value is: 81.48\n",
      "The best performing gamma value is: 0.00065\n",
      "The best performing epsilon value is:  0.48\n"
     ]
    }
   ],
   "source": [
    "# Run randomized search\n",
    "randomCV = RandomizedSearchCV(SVR(kernel='rbf'), param_distributions=hyperparameters, n_iter=20)\n",
    "randomCV.fit(x_treino, y_treino)\n",
    " \n",
    "# Identify optimal hyperparameter values\n",
    "best_gamma  = randomCV.best_params_['gamma']\n",
    "best_C      = randomCV.best_params_['C']\n",
    "best_epsilon= randomCV.best_params_['epsilon']\n",
    "\n",
    "print(\"The best performing C value is: {:5.2f}\".format(best_C))\n",
    "print(\"The best performing gamma value is: {:5.5f}\".format(best_gamma))\n",
    "print(\"The best performing epsilon value is: {:5.2f}\".format(best_epsilon))\n"
   ]
  },
  {
   "cell_type": "code",
   "execution_count": 5,
   "metadata": {},
   "outputs": [
    {
     "name": "stdout",
     "output_type": "stream",
     "text": [
      "MAE:  3.6183541243157356\n"
     ]
    }
   ],
   "source": [
    "# Validation\n",
    "\n",
    "svr  = SVR(kernel='rbf', gamma=best_gamma, epsilon=best_epsilon, C=best_C)\n",
    "svr.fit(x_treino, y_treino)\n",
    "\n",
    "pred = svr.predict(x_teste)\n",
    "\n",
    "# print(regression.score(x_teste, y_teste))\n",
    "print(\"MAE: \", metrics.mean_absolute_error(y_true=y_teste, y_pred=pred))"
   ]
  },
  {
   "cell_type": "markdown",
   "metadata": {},
   "source": [
    "### Grid seach"
   ]
  },
  {
   "cell_type": "markdown",
   "metadata": {},
   "source": [
    "O próximo algoritimo de otimização proposto foi o Grid Search. Seguindo a especificação de uma busca em uma grid de 5x5x5, amostras do range de busca foram tomadas:"
   ]
  },
  {
   "cell_type": "code",
   "execution_count": 6,
   "metadata": {},
   "outputs": [],
   "source": [
    "# Hyperparameters Search Space\n",
    "n_combinations = 5\n",
    "\n",
    "# Taken 5 samples randomly\n",
    "grid_c = random.sample(list(C_range), k=n_combinations)\n",
    "grid_gamma = random.sample(list(gamma_range), k=n_combinations)\n",
    "grid_episolon = random.sample(list(epsilon_range), k=n_combinations)\n",
    "\n",
    "hyperparameters_grid = {'gamma': list(grid_gamma), \n",
    "                        'C': list(grid_c),\n",
    "                        'epsilon': list(grid_episolon)}"
   ]
  },
  {
   "cell_type": "code",
   "execution_count": 7,
   "metadata": {},
   "outputs": [
    {
     "name": "stdout",
     "output_type": "stream",
     "text": [
      "The best performing gamma value is: 0.00092\n",
      "The best performing C value is: 224.82\n",
      "The best performing epsilon value is:  1.00\n"
     ]
    }
   ],
   "source": [
    "# Run Grid Search\n",
    "randomCV = GridSearchCV(SVR(kernel='rbf'), param_grid=hyperparameters_grid, cv = 5)\n",
    "randomCV.fit(x_treino, y_treino)\n",
    " \n",
    "# Identify optimal hyperparameter values\n",
    "best_gamma  = randomCV.best_params_['gamma']\n",
    "best_C      = randomCV.best_params_['C']\n",
    "best_epsilon= randomCV.best_params_['epsilon']\n",
    " \n",
    "print(\"The best performing gamma value is: {:5.5f}\".format(best_gamma))\n",
    "print(\"The best performing C value is: {:5.2f}\".format(best_C))\n",
    "print(\"The best performing epsilon value is: {:5.2f}\".format(best_epsilon))"
   ]
  },
  {
   "cell_type": "code",
   "execution_count": 8,
   "metadata": {},
   "outputs": [
    {
     "name": "stdout",
     "output_type": "stream",
     "text": [
      "MAE:  3.535026819654117\n"
     ]
    }
   ],
   "source": [
    "# Validation\n",
    "\n",
    "svr  = SVR(kernel='rbf', gamma=best_gamma, epsilon=best_epsilon, C=best_C)\n",
    "svr.fit(x_treino, y_treino)\n",
    "\n",
    "pred = svr.predict(x_teste)\n",
    "\n",
    "# print(regression.score(x_teste, y_teste))\n",
    "print(\"MAE: \", metrics.mean_absolute_error(y_true=y_teste, y_pred=pred))"
   ]
  },
  {
   "cell_type": "markdown",
   "metadata": {},
   "source": [
    "### Otimização bayesiana"
   ]
  },
  {
   "cell_type": "markdown",
   "metadata": {},
   "source": [
    "Outro algoritimo proposto foi a otimização bayesiana. Para a sua implementação utilziamos a biblioteca hyperopt, que dispnibiliza O regressor (TPE) para modelar a distribuição de probabilidades que é muito mais rápido que a implementação padrão utilizando “processos gaussianos”.\n",
    "\n",
    "Esta implementação foi feita em passos:\n",
    "    - Definição da função de mínimo;\n",
    "    - Definição do espaço de pesquisa sobre os hiperparâmteros;\n",
    "    - Seleção do algoritimo de busca;\n",
    "    - Execução do algoritimo de ajuste com hyperopt fmin();\n",
    "    \n",
    "Fizemos 125 chamadas para a função."
   ]
  },
  {
   "cell_type": "markdown",
   "metadata": {},
   "source": [
    "### Definição da Função de mínimo"
   ]
  },
  {
   "cell_type": "markdown",
   "metadata": {},
   "source": [
    "Como estamos fazendo a busca para um SVM, definimos um parâmetro params ['type'] como o nome do modelo, e uma função para executar o treinamento e retornar a precisão da validação cruzada. \n",
    "Como estamos tentando maximizar a precisão da validação cruzada, devemos negar esse valor para o hyperopt, pois o hyperopt sabe apenas como minimizar uma função."
   ]
  },
  {
   "cell_type": "code",
   "execution_count": 9,
   "metadata": {},
   "outputs": [],
   "source": [
    "def get_acc_status(clf,X_,y):\n",
    "    acc = cross_val_score(clf, X_, y, cv=5).mean()\n",
    "    return {'loss': -acc, 'status': STATUS_OK}"
   ]
  },
  {
   "cell_type": "code",
   "execution_count": 10,
   "metadata": {},
   "outputs": [],
   "source": [
    "def objective(params):\n",
    "    classifier_type = params['type']\n",
    "    del params['type']\n",
    "    if classifier_type == 'svm':\n",
    "        clf = SVR(**params)\n",
    "    else:\n",
    "        return 0\n",
    "    accuracy = cross_val_score(clf, x_treino, y_treino).mean()\n",
    "    \n",
    "    return {'loss': -accuracy, 'status': STATUS_OK}"
   ]
  },
  {
   "cell_type": "markdown",
   "metadata": {},
   "source": [
    "### Definir espaço de pesquisa sobre os hiperparâmetros"
   ]
  },
  {
   "cell_type": "markdown",
   "metadata": {},
   "source": [
    "Definimos o espaço de pesquisa dos hiperparâmetros C, gamma, e episolon de acordo com o range proposto para este trabalho."
   ]
  },
  {
   "cell_type": "code",
   "execution_count": 11,
   "metadata": {},
   "outputs": [],
   "source": [
    "search_space = hp.choice('classifier_type', [\n",
    "    {\n",
    "        'type': 'svm',\n",
    "        'C': hp.uniform('C', (2**-5), (2**15)),\n",
    "        'gamma': hp.uniform('gamma', (2**-15), (2**3)),\n",
    "        'epsilon': hp.uniform('epsilon', 0.05, 1.0),\n",
    "        'kernel': hp.choice('kernel', ['rbf'])\n",
    "    },\n",
    "])"
   ]
  },
  {
   "cell_type": "markdown",
   "metadata": {},
   "source": [
    "### Selecionar um algoritimo de busca"
   ]
  },
  {
   "cell_type": "markdown",
   "metadata": {},
   "source": [
    "As duas opções principais de algoritmos de busca são:\n",
    "\n",
    "    - hyperopt.tpe.suggest: Estimadores da Árvore de Parzen, uma abordagem bayesiana que seleciona iterativa e adaptativamente novas configurações de hiperparâmetro para explorar com base em resultados anteriores;\n",
    "    - hyperopt.rand.suggest: Pesquisa aleatória, uma abordagem não adaptativa que mostra o espaço de pesquisa.\n",
    "    \n",
    "Conforme pedido, utilziamos o algoritimo TPE."
   ]
  },
  {
   "cell_type": "markdown",
   "metadata": {},
   "source": [
    "### Executar o algoritmo de ajuste com hyperopt fmin ()"
   ]
  },
  {
   "cell_type": "markdown",
   "metadata": {},
   "source": [
    "Definimos max_evals como o número máximo de pontos no espaço do hiperparâmetro para testar, ou seja, o número máximo de modelos para ajustar e avaliar.\n",
    "\n",
    "O SparkTrials usa 2 argumentos:\n",
    "    - parallelism: Número de modelos para ajustar e avaliar simultaneamente.\n",
    "    - timeout: tempo máximo (em segundos) que fmin pode demorar. Este argumento é opcional.\n",
    "\n",
    "O rastreamento automatizado do MLflow está ativado por padrão. Ligue para mlflow.start_run () antes de chamar fmin (), como mostra o exemplo abaixo."
   ]
  },
  {
   "cell_type": "code",
   "execution_count": 12,
   "metadata": {},
   "outputs": [
    {
     "name": "stdout",
     "output_type": "stream",
     "text": [
      "100%|█████████████████████████████████████████████| 125/125 [00:09<00:00, 13.15trial/s, best loss: -0.5257307735450938]\n",
      "The best performing gamma value is: 0.00408\n",
      "The best performing C value is: 3863.98\n",
      "The best performing epsilon value is:  0.52\n"
     ]
    }
   ],
   "source": [
    "hypopt_trials = Trials()\n",
    " \n",
    "best_params = fmin(objective, search_space, algo=tpe.suggest, \n",
    "max_evals=125, trials= hypopt_trials)\n",
    " \n",
    "best_gamma  = best_params['gamma']\n",
    "best_C      = best_params['C']\n",
    "best_epsilon= best_params['epsilon']\n",
    " \n",
    "print(\"The best performing gamma value is: {:5.5f}\".format(best_gamma))\n",
    "print(\"The best performing C value is: {:5.2f}\".format(best_C))\n",
    "print(\"The best performing epsilon value is: {:5.2f}\".format(best_epsilon))"
   ]
  },
  {
   "cell_type": "code",
   "execution_count": 13,
   "metadata": {},
   "outputs": [
    {
     "name": "stdout",
     "output_type": "stream",
     "text": [
      "MAE:  4.288336166490628\n"
     ]
    }
   ],
   "source": [
    "# Validation\n",
    "\n",
    "svr  = SVR(kernel='rbf', gamma=best_gamma, epsilon=best_epsilon, C=best_C)\n",
    "svr.fit(x_treino, y_treino)\n",
    "\n",
    "pred = svr.predict(x_teste)\n",
    "\n",
    "# print(regression.score(x_teste, y_teste))\n",
    "print(\"MAE: \", metrics.mean_absolute_error(y_true=y_teste, y_pred=pred))"
   ]
  },
  {
   "cell_type": "markdown",
   "metadata": {},
   "source": [
    "## PSO"
   ]
  },
  {
   "cell_type": "markdown",
   "metadata": {},
   "source": [
    "Outro algoritimo proposto foi o PSO. Para a sua implementação utilziamos a biblioteca pyswarm, trabalhando com o uso de 11 partículas por 11 interações  e utilzaimos os valores default para os hiperparametros do PSO."
   ]
  },
  {
   "cell_type": "code",
   "execution_count": 14,
   "metadata": {},
   "outputs": [
    {
     "name": "stdout",
     "output_type": "stream",
     "text": [
      "PSO...\n",
      "Stopping search: maximum iterations reached --> 11\n",
      " C optimal: 25227.86190629691\n",
      " Gamma Optimal: 3.0517578125e-05\n",
      " Epsilon Optimal: 0.07258265456785185\n",
      "MAE:  2.320434520745058\n"
     ]
    }
   ],
   "source": [
    "# PARAMETERS\n",
    "C_MIN = 2**(-5)\n",
    "C_MAX = 2**15\n",
    "\n",
    "GAMMA_MIN = 2**(-15)\n",
    "GAMMA_MAX = 2**3\n",
    "\n",
    "EPSILON_MIN = 0.05\n",
    "EPSILON_MAX = 1.0\n",
    "\n",
    "lb = np.array([C_MIN, GAMMA_MIN, EPSILON_MIN])\n",
    "ub = np.array([C_MAX, GAMMA_MAX, EPSILON_MAX])\n",
    "\n",
    "# FUNCTION\n",
    "def svr_fun(X):\n",
    "    c = X[0]\n",
    "    g = X[1]\n",
    "    eps = X[2]\n",
    "    \n",
    "    svr  = SVR(kernel='rbf', C=c, gamma=g, epsilon=eps)\n",
    "    svr.fit(x_treino, y_treino)\n",
    "    \n",
    "    pred = svr.predict(x_teste)\n",
    "    mae = metrics.mean_absolute_error(y_true=y_teste, y_pred=pred)\n",
    "    \n",
    "    return mae\n",
    "\n",
    "print(\"PSO...\")\n",
    "x_opt, y_opt = pso(svr_fun, lb, ub, swarmsize=11, maxiter=11)\n",
    "\n",
    "print(\" C optimal: \"+ str(x_opt[0])+\n",
    "     \"\\n Gamma Optimal: \"+ str(x_opt[1])+\n",
    "     \"\\n Epsilon Optimal: \"+ str(x_opt[2]))\n",
    "print(\"MAE: \", str(y_opt))"
   ]
  },
  {
   "cell_type": "markdown",
   "metadata": {},
   "source": [
    "## Simulated Annealing"
   ]
  },
  {
   "cell_type": "markdown",
   "metadata": {},
   "source": [
    "Para a implementação dos Métodos de Simmulate Annealing e CMA-ES foi utilizado a biblioteca optuna.\n",
    "\n",
    "Para o método de Simulated Annealing a biblioteca fornece uma implementação via classe através dos chamados \"samplers\" para determinar os valores dos parâmetros a serem avaliados durante o teste. Para o Simmulated Annealing o sampler é implementado via classe explicitamente (vale ressaltar que estamos utilizando a implementação proposta pela própria documentação)."
   ]
  },
  {
   "cell_type": "code",
   "execution_count": 15,
   "metadata": {},
   "outputs": [],
   "source": [
    "class SimulatedAnnealingSampler(optuna.samplers.BaseSampler):\n",
    "    def __init__(self, temperature=100):\n",
    "        self._rng = np.random.RandomState()\n",
    "        self._temperature = temperature  # Current temperature.\n",
    "        self._current_trial = None  # Current state.\n",
    "\n",
    "    def sample_relative(self, study, trial, search_space):\n",
    "        if search_space == {}:\n",
    "            return {}\n",
    "\n",
    "        #\n",
    "        # An implementation of SA algorithm.\n",
    "        #\n",
    "\n",
    "        # Calculate transition probability.\n",
    "        prev_trial = study.trials[-2]\n",
    "        if self._current_trial is None or prev_trial.value <= self._current_trial.value:\n",
    "            probability = 1.0\n",
    "        else:\n",
    "            probability = np.exp((self._current_trial.value - prev_trial.value) / self._temperature)\n",
    "        self._temperature *= 0.9  # Decrease temperature.\n",
    "\n",
    "        # Transit the current state if the previous result is accepted.\n",
    "        if self._rng.uniform(0, 1) < probability:\n",
    "            self._current_trial = prev_trial\n",
    "\n",
    "        # Sample parameters from the neighborhood of the current point.\n",
    "        #\n",
    "        # The sampled parameters will be used during the next execution of\n",
    "        # the objective function passed to the study.\n",
    "        params = {}\n",
    "        for param_name, param_distribution in search_space.items():\n",
    "            if not isinstance(param_distribution, optuna.distributions.UniformDistribution):\n",
    "                raise NotImplementedError('Only suggest_uniform() is supported')\n",
    "\n",
    "            current_value = self._current_trial.params[param_name]\n",
    "            width = (param_distribution.high - param_distribution.low) * 0.1\n",
    "            neighbor_low = max(current_value - width, param_distribution.low)\n",
    "            neighbor_high = min(current_value + width, param_distribution.high)\n",
    "            params[param_name] = self._rng.uniform(neighbor_low, neighbor_high)\n",
    "\n",
    "        return params\n",
    "\n",
    "    #\n",
    "    # The rest is boilerplate code and unrelated to SA algorithm.\n",
    "    #\n",
    "    def infer_relative_search_space(self, study, trial):\n",
    "        return optuna.samplers.intersection_search_space(study)\n",
    "\n",
    "    def sample_independent(self, study, trial, param_name, param_distribution):\n",
    "        independent_sampler = optuna.samplers.RandomSampler()\n",
    "        return independent_sampler.sample_independent(study, trial, param_name, param_distribution)\n",
    "\n",
    "\n",
    "\n"
   ]
  },
  {
   "cell_type": "markdown",
   "metadata": {},
   "source": [
    "Por fim o é necessário criar uma função objetivo a qual deseja-se otimizar, em nosso caso procuramos minimizar o Erro Médio Absoluto (MAE) com uma validação no conjunto de testes da aplicação dos hyperparâmetros encontrados para o problema do SVM Regressor.\n",
    "\n",
    "Utilizamos 125 para a simulação."
   ]
  },
  {
   "cell_type": "code",
   "execution_count": 16,
   "metadata": {},
   "outputs": [
    {
     "name": "stderr",
     "output_type": "stream",
     "text": [
      "[I 2020-05-06 17:24:29,763] Finished trial#0 with value: 5.766257209913847 with parameters: {'c': 2495.156715464481, 'gamma': 7.628336030542195, 'epsilon': 0.5347943315441175}. Best is trial#0 with value: 5.766257209913847.\n",
      "[I 2020-05-06 17:24:29,827] Finished trial#1 with value: 5.76758500107791 with parameters: {'c': 5626.38251303355, 'gamma': 7.3663454925127025, 'epsilon': 0.5741008638305747}. Best is trial#0 with value: 5.766257209913847.\n",
      "[I 2020-05-06 17:24:29,888] Finished trial#2 with value: 5.769421490181162 with parameters: {'c': 8846.56132752596, 'gamma': 6.91452250507197, 'epsilon': 0.6277548990400752}. Best is trial#0 with value: 5.766257209913847.\n",
      "[I 2020-05-06 17:24:29,945] Finished trial#3 with value: 5.769605251617363 with parameters: {'c': 9285.15208339238, 'gamma': 6.735715309260219, 'epsilon': 0.6340596759204821}. Best is trial#0 with value: 5.766257209913847.\n",
      "[I 2020-05-06 17:24:30,002] Finished trial#4 with value: 5.771442684265217 with parameters: {'c': 12526.909346367842, 'gamma': 6.244321259257496, 'epsilon': 0.6888125458758928}. Best is trial#0 with value: 5.766257209913847.\n",
      "[I 2020-05-06 17:24:30,066] Finished trial#5 with value: 5.773142883666401 with parameters: {'c': 10891.46108727869, 'gamma': 5.838742682575928, 'epsilon': 0.7388846693175198}. Best is trial#0 with value: 5.766257209913847.\n",
      "[I 2020-05-06 17:24:30,128] Finished trial#6 with value: 5.772597842070252 with parameters: {'c': 8069.463280384252, 'gamma': 5.133692039535047, 'epsilon': 0.7253085313068357}. Best is trial#0 with value: 5.766257209913847.\n",
      "[I 2020-05-06 17:24:30,197] Finished trial#7 with value: 5.774320177447709 with parameters: {'c': 10053.852181543716, 'gamma': 5.4381318981943085, 'epsilon': 0.7720975669949561}. Best is trial#0 with value: 5.766257209913847.\n",
      "[I 2020-05-06 17:24:30,261] Finished trial#8 with value: 5.774061243112673 with parameters: {'c': 8328.893592614508, 'gamma': 4.880075129791076, 'epsilon': 0.7650543116766484}. Best is trial#0 with value: 5.766257209913847.\n",
      "[I 2020-05-06 17:24:30,325] Finished trial#9 with value: 5.771530979975703 with parameters: {'c': 7673.748946922622, 'gamma': 4.178082524515257, 'epsilon': 0.6969243230655022}. Best is trial#0 with value: 5.766257209913847.\n",
      "[I 2020-05-06 17:24:30,391] Finished trial#10 with value: 5.768405383132613 with parameters: {'c': 5015.5237569313595, 'gamma': 3.863956991669748, 'epsilon': 0.6145824383564348}. Best is trial#0 with value: 5.766257209913847.\n",
      "[I 2020-05-06 17:24:30,456] Finished trial#11 with value: 5.766396399633547 with parameters: {'c': 5298.146150247287, 'gamma': 3.8799390690209346, 'epsilon': 0.5597436304473354}. Best is trial#0 with value: 5.766257209913847.\n",
      "[I 2020-05-06 17:24:30,520] Finished trial#12 with value: 5.764043998549609 with parameters: {'c': 2852.1350364175914, 'gamma': 3.910267168732013, 'epsilon': 0.49419427772488184}. Best is trial#12 with value: 5.764043998549609.\n",
      "[I 2020-05-06 17:24:30,589] Finished trial#13 with value: 5.7622056576881135 with parameters: {'c': 196.5835600533978, 'gamma': 4.28406790704186, 'epsilon': 0.43521846378011153}. Best is trial#13 with value: 5.7622056576881135.\n",
      "[I 2020-05-06 17:24:30,657] Finished trial#14 with value: 5.763270264039604 with parameters: {'c': 1546.6123145252686, 'gamma': 4.272742642874728, 'epsilon': 0.4673592613853781}. Best is trial#13 with value: 5.7622056576881135.\n",
      "[I 2020-05-06 17:24:30,721] Finished trial#15 with value: 5.760460684296456 with parameters: {'c': 1974.0940541066236, 'gamma': 4.526976079712367, 'epsilon': 0.3792286069829263}. Best is trial#15 with value: 5.760460684296456.\n",
      "[I 2020-05-06 17:24:30,787] Finished trial#16 with value: 5.758899112404889 with parameters: {'c': 5161.319772532669, 'gamma': 4.179498691846131, 'epsilon': 0.3350229981370793}. Best is trial#16 with value: 5.758899112404889.\n",
      "[I 2020-05-06 17:24:30,856] Finished trial#17 with value: 5.757979769694251 with parameters: {'c': 6620.310235539904, 'gamma': 3.472648626352216, 'epsilon': 0.3144843513315764}. Best is trial#17 with value: 5.757979769694251.\n",
      "[I 2020-05-06 17:24:30,923] Finished trial#18 with value: 5.7570960624181735 with parameters: {'c': 3822.380837291079, 'gamma': 3.7674319291774507, 'epsilon': 0.2831167812166508}. Best is trial#18 with value: 5.7570960624181735.\n",
      "[I 2020-05-06 17:24:30,993] Finished trial#19 with value: 5.757008657537566 with parameters: {'c': 4930.785141188512, 'gamma': 3.924391474953651, 'epsilon': 0.27857041421247114}. Best is trial#19 with value: 5.757008657537566.\n",
      "[I 2020-05-06 17:24:31,056] Finished trial#20 with value: 5.7562228883865645 with parameters: {'c': 2918.297201262846, 'gamma': 4.618237791205914, 'epsilon': 0.24662341415608696}. Best is trial#20 with value: 5.7562228883865645.\n",
      "[I 2020-05-06 17:24:31,127] Finished trial#21 with value: 5.755880372098042 with parameters: {'c': 2985.5794580510465, 'gamma': 4.781739539703997, 'epsilon': 0.234091513521185}. Best is trial#21 with value: 5.755880372098042.\n",
      "[I 2020-05-06 17:24:31,199] Finished trial#22 with value: 5.758765777580039 with parameters: {'c': 3361.2414527958686, 'gamma': 4.6229403224379775, 'epsilon': 0.3264874181987655}. Best is trial#21 with value: 5.755880372098042.\n",
      "[I 2020-05-06 17:24:31,267] Finished trial#23 with value: 5.758805521415525 with parameters: {'c': 6329.44552573687, 'gamma': 4.225561352349147, 'epsilon': 0.3316896168158538}. Best is trial#21 with value: 5.755880372098042.\n",
      "[I 2020-05-06 17:24:31,339] Finished trial#24 with value: 5.756363207208992 with parameters: {'c': 5471.915665445216, 'gamma': 4.728648057984826, 'epsilon': 0.24990533341217722}. Best is trial#21 with value: 5.755880372098042.\n",
      "[I 2020-05-06 17:24:31,408] Finished trial#25 with value: 5.755039662450438 with parameters: {'c': 2560.2764086842, 'gamma': 4.441825918037799, 'epsilon': 0.21054631880794794}. Best is trial#25 with value: 5.755039662450438.\n",
      "[I 2020-05-06 17:24:31,477] Finished trial#26 with value: 5.7562076756955 with parameters: {'c': 3525.4431139671647, 'gamma': 4.08007425597504, 'epsilon': 0.2517166007457482}. Best is trial#25 with value: 5.755039662450438.\n",
      "[I 2020-05-06 17:24:31,547] Finished trial#27 with value: 5.756824904807484 with parameters: {'c': 3817.622503370613, 'gamma': 4.019334801372365, 'epsilon': 0.27172746678088044}. Best is trial#25 with value: 5.755039662450438.\n",
      "[I 2020-05-06 17:24:31,624] Finished trial#28 with value: 5.754111853504894 with parameters: {'c': 4215.589467778216, 'gamma': 4.146008970161438, 'epsilon': 0.18390158591674782}. Best is trial#28 with value: 5.754111853504894.\n",
      "[I 2020-05-06 17:24:31,700] Finished trial#29 with value: 5.751354916204652 with parameters: {'c': 1950.3763308019206, 'gamma': 3.390065606123709, 'epsilon': 0.10341352526488508}. Best is trial#29 with value: 5.751354916204652.\n",
      "[I 2020-05-06 17:24:31,774] Finished trial#30 with value: 5.751198920451745 with parameters: {'c': 2629.0643846317607, 'gamma': 3.969388233834901, 'epsilon': 0.09110547804337374}. Best is trial#30 with value: 5.751198920451745.\n",
      "[I 2020-05-06 17:24:31,841] Finished trial#31 with value: 5.7530777476522506 with parameters: {'c': 4780.535133345343, 'gamma': 3.487029894640782, 'epsilon': 0.1584676871294664}. Best is trial#30 with value: 5.751198920451745.\n",
      "[I 2020-05-06 17:24:31,908] Finished trial#32 with value: 5.755246455239467 with parameters: {'c': 3879.096367109602, 'gamma': 4.285899375636726, 'epsilon': 0.21884521520724864}. Best is trial#30 with value: 5.751198920451745.\n",
      "[I 2020-05-06 17:24:31,975] Finished trial#33 with value: 5.754591602841952 with parameters: {'c': 2385.7237968107793, 'gamma': 4.417074508081995, 'epsilon': 0.19640669035223085}. Best is trial#30 with value: 5.751198920451745.\n",
      "[I 2020-05-06 17:24:32,042] Finished trial#34 with value: 5.755850983910316 with parameters: {'c': 3559.6575739535615, 'gamma': 4.586926420444182, 'epsilon': 0.23511850514715374}. Best is trial#30 with value: 5.751198920451745.\n",
      "[I 2020-05-06 17:24:32,114] Finished trial#35 with value: 5.754638750962015 with parameters: {'c': 4813.8264299006605, 'gamma': 4.382976736464604, 'epsilon': 0.1982775943342257}. Best is trial#30 with value: 5.751198920451745.\n"
     ]
    },
    {
     "name": "stderr",
     "output_type": "stream",
     "text": [
      "[I 2020-05-06 17:24:32,184] Finished trial#36 with value: 5.752542066853223 with parameters: {'c': 2190.561157283064, 'gamma': 4.805317305813672, 'epsilon': 0.12576804764907637}. Best is trial#30 with value: 5.751198920451745.\n",
      "[I 2020-05-06 17:24:32,257] Finished trial#37 with value: 5.7526252264609035 with parameters: {'c': 3259.702582695172, 'gamma': 4.718819114833263, 'epsilon': 0.12934310205362257}. Best is trial#30 with value: 5.751198920451745.\n",
      "[I 2020-05-06 17:24:32,335] Finished trial#38 with value: 5.751417991914564 with parameters: {'c': 3655.448196637714, 'gamma': 4.01187459358119, 'epsilon': 0.09772646050801262}. Best is trial#30 with value: 5.751198920451745.\n",
      "[I 2020-05-06 17:24:32,407] Finished trial#39 with value: 5.752405116244711 with parameters: {'c': 3556.390683437655, 'gamma': 3.4805759878114206, 'epsilon': 0.13628346286550702}. Best is trial#30 with value: 5.751198920451745.\n",
      "[I 2020-05-06 17:24:32,482] Finished trial#40 with value: 5.752308520815438 with parameters: {'c': 3862.0280822020436, 'gamma': 3.636998987204956, 'epsilon': 0.1311039019074879}. Best is trial#30 with value: 5.751198920451745.\n",
      "[I 2020-05-06 17:24:32,560] Finished trial#41 with value: 5.753760977213719 with parameters: {'c': 2157.5030104817024, 'gamma': 3.42465435665315, 'epsilon': 0.18128745762399512}. Best is trial#30 with value: 5.751198920451745.\n",
      "[I 2020-05-06 17:24:32,635] Finished trial#42 with value: 5.753146609631586 with parameters: {'c': 2783.5898837930276, 'gamma': 3.076210276459232, 'epsilon': 0.1665451141995557}. Best is trial#30 with value: 5.751198920451745.\n",
      "[I 2020-05-06 17:24:32,708] Finished trial#43 with value: 5.753971929903246 with parameters: {'c': 3713.6339193760277, 'gamma': 2.5361948881706833, 'epsilon': 0.20255222272491755}. Best is trial#30 with value: 5.751198920451745.\n",
      "[I 2020-05-06 17:24:32,784] Finished trial#44 with value: 5.753753540482981 with parameters: {'c': 1233.0723179509512, 'gamma': 2.1155435636471878, 'epsilon': 0.20559047584912798}. Best is trial#30 with value: 5.751198920451745.\n",
      "[I 2020-05-06 17:24:32,854] Finished trial#45 with value: 5.7547180098172985 with parameters: {'c': 3953.980313179184, 'gamma': 1.530773653768809, 'epsilon': 0.2557312753132839}. Best is trial#30 with value: 5.751198920451745.\n",
      "[I 2020-05-06 17:24:32,925] Finished trial#46 with value: 5.751858647565969 with parameters: {'c': 5809.32296694081, 'gamma': 1.3489152698631752, 'epsilon': 0.17521076385290407}. Best is trial#30 with value: 5.751198920451745.\n",
      "[I 2020-05-06 17:24:32,998] Finished trial#47 with value: 5.752050811491717 with parameters: {'c': 4315.350013425463, 'gamma': 0.9192323997134177, 'epsilon': 0.15096422526173436}. Best is trial#30 with value: 5.751198920451745.\n",
      "[I 2020-05-06 17:24:33,073] Finished trial#48 with value: 5.754314754883002 with parameters: {'c': 4032.8656378252326, 'gamma': 1.6990388122072078, 'epsilon': 0.23665417727198235}. Best is trial#30 with value: 5.751198920451745.\n",
      "[I 2020-05-06 17:24:33,148] Finished trial#49 with value: 5.752164734147829 with parameters: {'c': 1170.3548958936192, 'gamma': 1.9918317550232056, 'epsilon': 0.15864950572776426}. Best is trial#30 with value: 5.751198920451745.\n",
      "[I 2020-05-06 17:24:33,219] Finished trial#50 with value: 5.754928517383194 with parameters: {'c': 3952.9042880036004, 'gamma': 2.423243084813241, 'epsilon': 0.23550711504752253}. Best is trial#30 with value: 5.751198920451745.\n",
      "[I 2020-05-06 17:24:33,295] Finished trial#51 with value: 5.756109577248164 with parameters: {'c': 5068.782251611361, 'gamma': 2.703798260697787, 'epsilon': 0.26711859681113326}. Best is trial#30 with value: 5.751198920451745.\n",
      "[I 2020-05-06 17:24:33,371] Finished trial#52 with value: 5.7568871548229215 with parameters: {'c': 3497.6746474922784, 'gamma': 2.9290247032619074, 'epsilon': 0.2877439366906281}. Best is trial#30 with value: 5.751198920451745.\n",
      "[I 2020-05-06 17:24:33,451] Finished trial#53 with value: 5.756898520554687 with parameters: {'c': 5087.412086182049, 'gamma': 2.9277152408836558, 'epsilon': 0.2881228074740481}. Best is trial#30 with value: 5.751198920451745.\n",
      "[I 2020-05-06 17:24:33,530] Finished trial#54 with value: 5.757764034327403 with parameters: {'c': 7685.636385846144, 'gamma': 2.8813880558858656, 'epsilon': 0.3160376359072151}. Best is trial#30 with value: 5.751198920451745.\n",
      "[I 2020-05-06 17:24:33,606] Finished trial#55 with value: 5.760315586423428 with parameters: {'c': 7440.711557321147, 'gamma': 2.31785499164285, 'epsilon': 0.40466139805409845}. Best is trial#30 with value: 5.751198920451745.\n",
      "[I 2020-05-06 17:24:33,685] Finished trial#56 with value: 5.760850074408848 with parameters: {'c': 4186.996808303277, 'gamma': 2.2617069989467655, 'epsilon': 0.42204071227846096}. Best is trial#30 with value: 5.751198920451745.\n",
      "[I 2020-05-06 17:24:33,758] Finished trial#57 with value: 5.7600252524005136 with parameters: {'c': 4230.309880497794, 'gamma': 2.6048297553661817, 'epsilon': 0.38995200923656387}. Best is trial#30 with value: 5.751198920451745.\n",
      "[I 2020-05-06 17:24:33,829] Finished trial#58 with value: 5.76283647126315 with parameters: {'c': 3771.3283842715573, 'gamma': 2.5165307221093762, 'epsilon': 0.4765769487370712}. Best is trial#30 with value: 5.751198920451745.\n",
      "[I 2020-05-06 17:24:33,906] Finished trial#59 with value: 5.759917843756809 with parameters: {'c': 4427.204286155684, 'gamma': 1.9135330313732972, 'epsilon': 0.4020721272237967}. Best is trial#30 with value: 5.751198920451745.\n",
      "[I 2020-05-06 17:24:33,983] Finished trial#60 with value: 5.758733224998632 with parameters: {'c': 2077.70588567717, 'gamma': 1.6297527078887688, 'epsilon': 0.3745626316734124}. Best is trial#30 with value: 5.751198920451745.\n",
      "[I 2020-05-06 17:24:34,061] Finished trial#61 with value: 5.7602552716621975 with parameters: {'c': 101.71168956283137, 'gamma': 1.2513875904196285, 'epsilon': 0.43508237403722877}. Best is trial#30 with value: 5.751198920451745.\n",
      "[I 2020-05-06 17:24:34,139] Finished trial#62 with value: 5.759042903306212 with parameters: {'c': 164.8928241261125, 'gamma': 1.2943180225714035, 'epsilon': 0.397314133437185}. Best is trial#30 with value: 5.751198920451745.\n",
      "[I 2020-05-06 17:24:34,220] Finished trial#63 with value: 5.75698425654886 with parameters: {'c': 2082.727011147747, 'gamma': 0.7308652988949368, 'epsilon': 0.3227905518437297}. Best is trial#30 with value: 5.751198920451745.\n",
      "[I 2020-05-06 17:24:34,299] Finished trial#64 with value: 5.554331861540871 with parameters: {'c': 3952.195775551901, 'gamma': 0.1694711433092929, 'epsilon': 0.37091453585545964}. Best is trial#64 with value: 5.554331861540871.\n",
      "[I 2020-05-06 17:24:34,385] Finished trial#65 with value: 5.210899792444811 with parameters: {'c': 1858.3795738520232, 'gamma': 0.08302096029300272, 'epsilon': 0.3809786843818547}. Best is trial#65 with value: 5.210899792444811.\n",
      "[I 2020-05-06 17:24:34,464] Finished trial#66 with value: 5.756095025346992 with parameters: {'c': 1915.055095483366, 'gamma': 0.5911758999135475, 'epsilon': 0.3503002187777057}. Best is trial#65 with value: 5.210899792444811.\n",
      "[I 2020-05-06 17:24:34,542] Finished trial#67 with value: 5.760090851481991 with parameters: {'c': 4855.126403763394, 'gamma': 0.6744782808732436, 'epsilon': 0.45324735562393137}. Best is trial#65 with value: 5.210899792444811.\n",
      "[I 2020-05-06 17:24:34,622] Finished trial#68 with value: 5.729799129574473 with parameters: {'c': 920.1947169325541, 'gamma': 0.36173902620106646, 'epsilon': 0.2983076834692671}. Best is trial#65 with value: 5.210899792444811.\n",
      "[I 2020-05-06 17:24:34,698] Finished trial#69 with value: 5.417550069231891 with parameters: {'c': 862.7926719482616, 'gamma': 0.1243907411618511, 'epsilon': 0.3118590668467705}. Best is trial#65 with value: 5.210899792444811.\n",
      "[I 2020-05-06 17:24:34,775] Finished trial#70 with value: 4.836742364577102 with parameters: {'c': 4761.577937202338, 'gamma': 0.05028222511039432, 'epsilon': 0.3623863599192207}. Best is trial#70 with value: 4.836742364577102.\n"
     ]
    },
    {
     "name": "stderr",
     "output_type": "stream",
     "text": [
      "[I 2020-05-06 17:24:34,854] Finished trial#71 with value: 4.909430433685845 with parameters: {'c': 6621.231102359655, 'gamma': 0.05539172378292453, 'epsilon': 0.2793150816098372}. Best is trial#70 with value: 4.836742364577102.\n",
      "[I 2020-05-06 17:24:34,936] Finished trial#72 with value: 5.7599611169852665 with parameters: {'c': 1682.1348658537008, 'gamma': 0.6725868025276338, 'epsilon': 0.44882674633810515}. Best is trial#70 with value: 4.836742364577102.\n",
      "[I 2020-05-06 17:24:35,011] Finished trial#73 with value: 4.959253770660642 with parameters: {'c': 6026.37175459742, 'gamma': 0.058474221119656083, 'epsilon': 0.3796905608799042}. Best is trial#70 with value: 4.836742364577102.\n",
      "[I 2020-05-06 17:24:35,084] Finished trial#74 with value: 5.527571177441688 with parameters: {'c': 3554.7030714190014, 'gamma': 0.15602799730854264, 'epsilon': 0.47026802520119454}. Best is trial#70 with value: 4.836742364577102.\n",
      "[I 2020-05-06 17:24:35,158] Finished trial#75 with value: 4.7356151147284224 with parameters: {'c': 4255.051702141923, 'gamma': 0.04436454464387571, 'epsilon': 0.4593241453671201}. Best is trial#75 with value: 4.7356151147284224.\n",
      "[I 2020-05-06 17:24:35,239] Finished trial#76 with value: 5.763047861147948 with parameters: {'c': 1102.146301927234, 'gamma': 0.8074807106743428, 'epsilon': 0.5515511273858924}. Best is trial#75 with value: 4.7356151147284224.\n",
      "[I 2020-05-06 17:24:35,321] Finished trial#77 with value: 5.759151109302077 with parameters: {'c': 5245.636452949643, 'gamma': 0.6818720288424343, 'epsilon': 0.41489900437650623}. Best is trial#75 with value: 4.7356151147284224.\n",
      "[I 2020-05-06 17:24:35,407] Finished trial#78 with value: 4.653308757629559 with parameters: {'c': 1777.0001106164927, 'gamma': 0.04046405603714709, 'epsilon': 0.4991970938753032}. Best is trial#78 with value: 4.653308757629559.\n",
      "[I 2020-05-06 17:24:35,489] Finished trial#79 with value: 5.738957913018262 with parameters: {'c': 4218.538805557047, 'gamma': 0.36665226051377114, 'epsilon': 0.5581104221195158}. Best is trial#78 with value: 4.653308757629559.\n",
      "[I 2020-05-06 17:24:35,564] Finished trial#80 with value: 5.717786651886238 with parameters: {'c': 1805.7938786059935, 'gamma': 0.3081092075886829, 'epsilon': 0.5366003730156002}. Best is trial#78 with value: 4.653308757629559.\n",
      "[I 2020-05-06 17:24:35,640] Finished trial#81 with value: 5.75876064960409 with parameters: {'c': 1415.976401542399, 'gamma': 0.5677355209597205, 'epsilon': 0.4778336534867049}. Best is trial#78 with value: 4.653308757629559.\n",
      "[I 2020-05-06 17:24:35,715] Finished trial#82 with value: 5.762832509909656 with parameters: {'c': 1054.4977440433518, 'gamma': 0.7390732580838459, 'epsilon': 0.5416878808010479}. Best is trial#78 with value: 4.653308757629559.\n",
      "[I 2020-05-06 17:24:35,795] Finished trial#83 with value: 5.761847946440673 with parameters: {'c': 1215.7879123317587, 'gamma': 0.7784330502513692, 'epsilon': 0.5078468095694548}. Best is trial#78 with value: 4.653308757629559.\n",
      "[I 2020-05-06 17:24:35,873] Finished trial#84 with value: 5.763151837673473 with parameters: {'c': 3474.5859093167705, 'gamma': 0.6390934199606392, 'epsilon': 0.5752345467360029}. Best is trial#78 with value: 4.653308757629559.\n",
      "[I 2020-05-06 17:24:35,965] Finished trial#85 with value: 5.6821112765730595 with parameters: {'c': 1652.447035104929, 'gamma': 0.25579343779535674, 'epsilon': 0.4617465963185486}. Best is trial#78 with value: 4.653308757629559.\n",
      "[I 2020-05-06 17:24:36,041] Finished trial#86 with value: 5.7552152766322315 with parameters: {'c': 729.5805321049274, 'gamma': 0.4581575723057127, 'epsilon': 0.5900918521165693}. Best is trial#78 with value: 4.653308757629559.\n",
      "[I 2020-05-06 17:24:36,135] Finished trial#87 with value: 5.755500688274139 with parameters: {'c': 1613.0406820690664, 'gamma': 0.4788266769261802, 'epsilon': 0.5353396671472144}. Best is trial#78 with value: 4.653308757629559.\n",
      "[I 2020-05-06 17:24:36,215] Finished trial#88 with value: 5.759795962409423 with parameters: {'c': 42.258383180524156, 'gamma': 0.7991515145034244, 'epsilon': 0.43407522787693265}. Best is trial#78 with value: 4.653308757629559.\n",
      "[I 2020-05-06 17:24:36,291] Finished trial#89 with value: 5.753345679318623 with parameters: {'c': 2965.538789784937, 'gamma': 0.4946668834108903, 'epsilon': 0.41479477816098487}. Best is trial#78 with value: 4.653308757629559.\n",
      "[I 2020-05-06 17:24:36,377] Finished trial#90 with value: 5.759352587549877 with parameters: {'c': 2163.544103811417, 'gamma': 0.7751760374160243, 'epsilon': 0.4150554027720796}. Best is trial#78 with value: 4.653308757629559.\n",
      "[I 2020-05-06 17:24:36,458] Finished trial#91 with value: 5.759160360174121 with parameters: {'c': 3475.5129920100594, 'gamma': 0.7093780637142336, 'epsilon': 0.4097419010124588}. Best is trial#78 with value: 4.653308757629559.\n",
      "[I 2020-05-06 17:24:36,541] Finished trial#92 with value: 5.718272902389802 with parameters: {'c': 183.75379360497547, 'gamma': 0.30864444918607115, 'epsilon': 0.5432716684704717}. Best is trial#78 with value: 4.653308757629559.\n",
      "[I 2020-05-06 17:24:36,638] Finished trial#93 with value: 5.763878035625557 with parameters: {'c': 3067.9715223195467, 'gamma': 0.7250226889791921, 'epsilon': 0.5786507964771512}. Best is trial#78 with value: 4.653308757629559.\n",
      "[I 2020-05-06 17:24:36,720] Finished trial#94 with value: 5.7587744220990205 with parameters: {'c': 3997.864969129812, 'gamma': 0.5540626043194843, 'epsilon': 0.4955465822661067}. Best is trial#78 with value: 4.653308757629559.\n",
      "[I 2020-05-06 17:24:36,801] Finished trial#95 with value: 5.7594507548084195 with parameters: {'c': 2629.384804964872, 'gamma': 0.7094523060982935, 'epsilon': 0.4208581531273527}. Best is trial#78 with value: 4.653308757629559.\n",
      "[I 2020-05-06 17:24:36,884] Finished trial#96 with value: 5.7592580464773455 with parameters: {'c': 1926.4338688004416, 'gamma': 0.80257912482169, 'epsilon': 0.4137580039647193}. Best is trial#78 with value: 4.653308757629559.\n",
      "[I 2020-05-06 17:24:36,962] Finished trial#97 with value: 5.762569595978439 with parameters: {'c': 3043.5802896842984, 'gamma': 0.7971260774689263, 'epsilon': 0.5340427856743171}. Best is trial#78 with value: 4.653308757629559.\n",
      "[I 2020-05-06 17:24:37,042] Finished trial#98 with value: 5.751256279281314 with parameters: {'c': 121.87359214979584, 'gamma': 0.42935138204370243, 'epsilon': 0.5718358493283467}. Best is trial#78 with value: 4.653308757629559.\n",
      "[I 2020-05-06 17:24:37,119] Finished trial#99 with value: 5.762917688323225 with parameters: {'c': 3131.328826948323, 'gamma': 0.8065670436122898, 'epsilon': 0.5469003524742484}. Best is trial#78 with value: 4.653308757629559.\n",
      "[I 2020-05-06 17:24:37,212] Finished trial#100 with value: 5.746764904698493 with parameters: {'c': 4930.364289677161, 'gamma': 0.3977318423684983, 'epsilon': 0.5901993464017579}. Best is trial#78 with value: 4.653308757629559.\n",
      "[I 2020-05-06 17:24:37,289] Finished trial#101 with value: 5.760537462019373 with parameters: {'c': 4161.978255425858, 'gamma': 0.6898397478833422, 'epsilon': 0.4662073295474427}. Best is trial#78 with value: 4.653308757629559.\n",
      "[I 2020-05-06 17:24:37,373] Finished trial#102 with value: 5.7607923022002385 with parameters: {'c': 3908.763908303443, 'gamma': 0.764617349393202, 'epsilon': 0.46973128889151317}. Best is trial#78 with value: 4.653308757629559.\n",
      "[I 2020-05-06 17:24:37,459] Finished trial#103 with value: 5.356215560128457 with parameters: {'c': 1145.3216186112206, 'gamma': 0.1071186001893615, 'epsilon': 0.43301157313723604}. Best is trial#78 with value: 4.653308757629559.\n",
      "[I 2020-05-06 17:24:37,542] Finished trial#104 with value: 4.0073215553870565 with parameters: {'c': 4252.639157822041, 'gamma': 0.018245621737024723, 'epsilon': 0.4162602846606807}. Best is trial#104 with value: 4.0073215553870565.\n",
      "[I 2020-05-06 17:24:37,625] Finished trial#105 with value: 5.223587719354886 with parameters: {'c': 2571.030843160338, 'gamma': 0.08402832222353651, 'epsilon': 0.48073792211833466}. Best is trial#104 with value: 4.0073215553870565.\n"
     ]
    },
    {
     "name": "stderr",
     "output_type": "stream",
     "text": [
      "[I 2020-05-06 17:24:37,717] Finished trial#106 with value: 5.75663820152936 with parameters: {'c': 4051.4911479432008, 'gamma': 0.6472832765129696, 'epsilon': 0.3301519927865547}. Best is trial#104 with value: 4.0073215553870565.\n",
      "[I 2020-05-06 17:24:37,797] Finished trial#107 with value: 5.749915443934137 with parameters: {'c': 4006.800992262197, 'gamma': 0.46179953172028143, 'epsilon': 0.3934721850246249}. Best is trial#104 with value: 4.0073215553870565.\n",
      "[I 2020-05-06 17:24:37,876] Finished trial#108 with value: 5.713000725399918 with parameters: {'c': 4595.018759424363, 'gamma': 0.309939101858409, 'epsilon': 0.36762655178990883}. Best is trial#104 with value: 4.0073215553870565.\n",
      "[I 2020-05-06 17:24:37,959] Finished trial#109 with value: 5.757415643338282 with parameters: {'c': 3354.310043538314, 'gamma': 0.7776356835397136, 'epsilon': 0.340102650005028}. Best is trial#104 with value: 4.0073215553870565.\n",
      "[I 2020-05-06 17:24:38,044] Finished trial#110 with value: 5.7586962203305605 with parameters: {'c': 7426.645190125146, 'gamma': 0.6723291830338397, 'epsilon': 0.4005927909701002}. Best is trial#104 with value: 4.0073215553870565.\n",
      "[I 2020-05-06 17:24:38,124] Finished trial#111 with value: 5.760220386673443 with parameters: {'c': 6921.309879802639, 'gamma': 0.7126331564088441, 'epsilon': 0.450177883070094}. Best is trial#104 with value: 4.0073215553870565.\n",
      "[I 2020-05-06 17:24:38,207] Finished trial#112 with value: 5.7585932660533174 with parameters: {'c': 3563.312870820151, 'gamma': 0.6646837740166246, 'epsilon': 0.39923835137884817}. Best is trial#104 with value: 4.0073215553870565.\n",
      "[I 2020-05-06 17:24:38,290] Finished trial#113 with value: 5.732032705100889 with parameters: {'c': 3413.5915190102637, 'gamma': 0.35749488774669125, 'epsilon': 0.41514399073378805}. Best is trial#104 with value: 4.0073215553870565.\n",
      "[I 2020-05-06 17:24:38,376] Finished trial#114 with value: 5.676575147913267 with parameters: {'c': 1393.9493163033285, 'gamma': 0.24901020487784667, 'epsilon': 0.46991145429245385}. Best is trial#104 with value: 4.0073215553870565.\n",
      "[I 2020-05-06 17:24:38,459] Finished trial#115 with value: 5.565816618506988 with parameters: {'c': 5515.5196597015265, 'gamma': 0.17591669330403154, 'epsilon': 0.32792926062876265}. Best is trial#104 with value: 4.0073215553870565.\n",
      "[I 2020-05-06 17:24:38,553] Finished trial#116 with value: 5.489267427315528 with parameters: {'c': 5341.69851972378, 'gamma': 0.14387499242277624, 'epsilon': 0.37577622439504155}. Best is trial#104 with value: 4.0073215553870565.\n",
      "[I 2020-05-06 17:24:38,639] Finished trial#117 with value: 5.594743310690447 with parameters: {'c': 4087.3054325641842, 'gamma': 0.1881074832141714, 'epsilon': 0.42492799271450665}. Best is trial#104 with value: 4.0073215553870565.\n",
      "[I 2020-05-06 17:24:38,727] Finished trial#118 with value: 5.757530361368522 with parameters: {'c': 4416.5710745638935, 'gamma': 0.7741685826957153, 'epsilon': 0.3443731243412309}. Best is trial#104 with value: 4.0073215553870565.\n",
      "[I 2020-05-06 17:24:38,810] Finished trial#119 with value: 5.758420417981165 with parameters: {'c': 1631.590948435854, 'gamma': 0.8058227506325625, 'epsilon': 0.3820624148505718}. Best is trial#104 with value: 4.0073215553870565.\n",
      "[I 2020-05-06 17:24:38,892] Finished trial#120 with value: 5.757524526461987 with parameters: {'c': 2363.7882979795695, 'gamma': 0.6269771095679336, 'epsilon': 0.3768520861706134}. Best is trial#104 with value: 4.0073215553870565.\n",
      "[I 2020-05-06 17:24:38,977] Finished trial#121 with value: 5.701989663718744 with parameters: {'c': 1844.799619685627, 'gamma': 0.28475780635006165, 'epsilon': 0.4415747232234414}. Best is trial#104 with value: 4.0073215553870565.\n",
      "[I 2020-05-06 17:24:39,059] Finished trial#122 with value: 5.7451167187542636 with parameters: {'c': 7417.5292153815435, 'gamma': 0.4304166208743774, 'epsilon': 0.35445999960617836}. Best is trial#104 with value: 4.0073215553870565.\n",
      "[I 2020-05-06 17:24:39,141] Finished trial#123 with value: 5.408709023198284 with parameters: {'c': 5423.236855047234, 'gamma': 0.11951726231853134, 'epsilon': 0.47682154434383467}. Best is trial#104 with value: 4.0073215553870565.\n",
      "[I 2020-05-06 17:24:39,225] Finished trial#124 with value: 5.663344288632326 with parameters: {'c': 2156.5445150686883, 'gamma': 0.24093220879677354, 'epsilon': 0.32636172413338754}. Best is trial#104 with value: 4.0073215553870565.\n"
     ]
    }
   ],
   "source": [
    "def objective(trial):\n",
    "    c = trial.suggest_uniform('c', 2**(-5),  2**15)\n",
    "    gamma = trial.suggest_uniform('gamma', 2**(-15),  2**3)    \n",
    "    epsilon = trial.suggest_uniform('epsilon', 0.05,  1.0)\n",
    "    \n",
    "    svr  = SVR(kernel='rbf', C=c, gamma=gamma, epsilon=epsilon)\n",
    "    svr.fit(x_treino, y_treino)\n",
    "    \n",
    "    pred = svr.predict(x_teste)\n",
    "    mae = metrics.mean_absolute_error(y_true=y_teste, y_pred=pred)\n",
    "    \n",
    "    return mae\n",
    "\n",
    "\n",
    "sampler = SimulatedAnnealingSampler()\n",
    "study = optuna.create_study(sampler=sampler)\n",
    "study.optimize(objective, n_trials=125)"
   ]
  },
  {
   "cell_type": "markdown",
   "metadata": {},
   "source": [
    "Logo, como resultado os melhores parâmetros encontrados durante a busca são mostrados:"
   ]
  },
  {
   "cell_type": "code",
   "execution_count": 17,
   "metadata": {},
   "outputs": [
    {
     "data": {
      "text/plain": [
       "{'c': 4252.639157822041,\n",
       " 'gamma': 0.018245621737024723,\n",
       " 'epsilon': 0.4162602846606807}"
      ]
     },
     "execution_count": 17,
     "metadata": {},
     "output_type": "execute_result"
    }
   ],
   "source": [
    "study.best_params"
   ]
  },
  {
   "cell_type": "markdown",
   "metadata": {},
   "source": [
    "Bem como o resultado para o  erro absoluto médio (MAE) no conjunto de teste com esses parâmetros:"
   ]
  },
  {
   "cell_type": "code",
   "execution_count": 18,
   "metadata": {},
   "outputs": [
    {
     "data": {
      "text/plain": [
       "4.0073215553870565"
      ]
     },
     "execution_count": 18,
     "metadata": {},
     "output_type": "execute_result"
    }
   ],
   "source": [
    "study.best_value"
   ]
  },
  {
   "cell_type": "markdown",
   "metadata": {},
   "source": [
    "## CMA-ES"
   ]
  },
  {
   "cell_type": "markdown",
   "metadata": {},
   "source": [
    "Semelhantemente ao algoritmo de Simullate Annealing, a implementação do algoritmo de otimização CMA-ES também foi feita via biblioteca optunza. A implementação porém é encapsulada em um sampler default fornecido pela própria biblioteca, assim não sendo necessário a implementação de uma classe sampler específica, somente a função objetivo.\n",
    "\n",
    "Utilize 125 chamadas da função. "
   ]
  },
  {
   "cell_type": "code",
   "execution_count": 22,
   "metadata": {},
   "outputs": [
    {
     "name": "stderr",
     "output_type": "stream",
     "text": [
      "[I 2020-05-06 17:26:13,001] Finished trial#0 with value: 5.680609721776994 with parameters: {'c': 26038.403109170056, 'gamma': 0.24516986867698137, 'epsilon': 0.6540674772925259}. Best is trial#0 with value: 5.680609721776994.\n"
     ]
    },
    {
     "ename": "ValueError",
     "evalue": "high is out of bounds for int32",
     "output_type": "error",
     "traceback": [
      "\u001b[1;31m---------------------------------------------------------------------------\u001b[0m",
      "\u001b[1;31mValueError\u001b[0m                                Traceback (most recent call last)",
      "\u001b[1;32m<ipython-input-22-5c3487ff2883>\u001b[0m in \u001b[0;36m<module>\u001b[1;34m\u001b[0m\n\u001b[0;32m     15\u001b[0m \u001b[0msampler\u001b[0m \u001b[1;33m=\u001b[0m \u001b[0moptuna\u001b[0m\u001b[1;33m.\u001b[0m\u001b[0msamplers\u001b[0m\u001b[1;33m.\u001b[0m\u001b[0mCmaEsSampler\u001b[0m\u001b[1;33m(\u001b[0m\u001b[1;33m)\u001b[0m\u001b[1;33m\u001b[0m\u001b[1;33m\u001b[0m\u001b[0m\n\u001b[0;32m     16\u001b[0m \u001b[0mstudy\u001b[0m \u001b[1;33m=\u001b[0m \u001b[0moptuna\u001b[0m\u001b[1;33m.\u001b[0m\u001b[0mcreate_study\u001b[0m\u001b[1;33m(\u001b[0m\u001b[0msampler\u001b[0m\u001b[1;33m=\u001b[0m\u001b[0msampler\u001b[0m\u001b[1;33m)\u001b[0m\u001b[1;33m\u001b[0m\u001b[1;33m\u001b[0m\u001b[0m\n\u001b[1;32m---> 17\u001b[1;33m \u001b[0mstudy\u001b[0m\u001b[1;33m.\u001b[0m\u001b[0moptimize\u001b[0m\u001b[1;33m(\u001b[0m\u001b[0mobjective\u001b[0m\u001b[1;33m,\u001b[0m \u001b[0mn_trials\u001b[0m\u001b[1;33m=\u001b[0m\u001b[1;36m125\u001b[0m\u001b[1;33m)\u001b[0m\u001b[1;33m\u001b[0m\u001b[1;33m\u001b[0m\u001b[0m\n\u001b[0m",
      "\u001b[1;32m~\\Anaconda3\\lib\\site-packages\\optuna\\study.py\u001b[0m in \u001b[0;36moptimize\u001b[1;34m(self, func, n_trials, timeout, n_jobs, catch, callbacks, gc_after_trial, show_progress_bar)\u001b[0m\n\u001b[0;32m    329\u001b[0m             \u001b[1;32mif\u001b[0m \u001b[0mn_jobs\u001b[0m \u001b[1;33m==\u001b[0m \u001b[1;36m1\u001b[0m\u001b[1;33m:\u001b[0m\u001b[1;33m\u001b[0m\u001b[1;33m\u001b[0m\u001b[0m\n\u001b[0;32m    330\u001b[0m                 self._optimize_sequential(\n\u001b[1;32m--> 331\u001b[1;33m                     \u001b[0mfunc\u001b[0m\u001b[1;33m,\u001b[0m \u001b[0mn_trials\u001b[0m\u001b[1;33m,\u001b[0m \u001b[0mtimeout\u001b[0m\u001b[1;33m,\u001b[0m \u001b[0mcatch\u001b[0m\u001b[1;33m,\u001b[0m \u001b[0mcallbacks\u001b[0m\u001b[1;33m,\u001b[0m \u001b[0mgc_after_trial\u001b[0m\u001b[1;33m,\u001b[0m \u001b[1;32mNone\u001b[0m\u001b[1;33m\u001b[0m\u001b[1;33m\u001b[0m\u001b[0m\n\u001b[0m\u001b[0;32m    332\u001b[0m                 )\n\u001b[0;32m    333\u001b[0m             \u001b[1;32melse\u001b[0m\u001b[1;33m:\u001b[0m\u001b[1;33m\u001b[0m\u001b[1;33m\u001b[0m\u001b[0m\n",
      "\u001b[1;32m~\\Anaconda3\\lib\\site-packages\\optuna\\study.py\u001b[0m in \u001b[0;36m_optimize_sequential\u001b[1;34m(self, func, n_trials, timeout, catch, callbacks, gc_after_trial, time_start)\u001b[0m\n\u001b[0;32m    624\u001b[0m                     \u001b[1;32mbreak\u001b[0m\u001b[1;33m\u001b[0m\u001b[1;33m\u001b[0m\u001b[0m\n\u001b[0;32m    625\u001b[0m \u001b[1;33m\u001b[0m\u001b[0m\n\u001b[1;32m--> 626\u001b[1;33m             \u001b[0mself\u001b[0m\u001b[1;33m.\u001b[0m\u001b[0m_run_trial_and_callbacks\u001b[0m\u001b[1;33m(\u001b[0m\u001b[0mfunc\u001b[0m\u001b[1;33m,\u001b[0m \u001b[0mcatch\u001b[0m\u001b[1;33m,\u001b[0m \u001b[0mcallbacks\u001b[0m\u001b[1;33m,\u001b[0m \u001b[0mgc_after_trial\u001b[0m\u001b[1;33m)\u001b[0m\u001b[1;33m\u001b[0m\u001b[1;33m\u001b[0m\u001b[0m\n\u001b[0m\u001b[0;32m    627\u001b[0m \u001b[1;33m\u001b[0m\u001b[0m\n\u001b[0;32m    628\u001b[0m             \u001b[0mself\u001b[0m\u001b[1;33m.\u001b[0m\u001b[0m_progress_bar\u001b[0m\u001b[1;33m.\u001b[0m\u001b[0mupdate\u001b[0m\u001b[1;33m(\u001b[0m\u001b[1;33m(\u001b[0m\u001b[0mdatetime\u001b[0m\u001b[1;33m.\u001b[0m\u001b[0mdatetime\u001b[0m\u001b[1;33m.\u001b[0m\u001b[0mnow\u001b[0m\u001b[1;33m(\u001b[0m\u001b[1;33m)\u001b[0m \u001b[1;33m-\u001b[0m \u001b[0mtime_start\u001b[0m\u001b[1;33m)\u001b[0m\u001b[1;33m.\u001b[0m\u001b[0mtotal_seconds\u001b[0m\u001b[1;33m(\u001b[0m\u001b[1;33m)\u001b[0m\u001b[1;33m)\u001b[0m\u001b[1;33m\u001b[0m\u001b[1;33m\u001b[0m\u001b[0m\n",
      "\u001b[1;32m~\\Anaconda3\\lib\\site-packages\\optuna\\study.py\u001b[0m in \u001b[0;36m_run_trial_and_callbacks\u001b[1;34m(self, func, catch, callbacks, gc_after_trial)\u001b[0m\n\u001b[0;32m    654\u001b[0m         \u001b[1;31m# type: (...) -> None\u001b[0m\u001b[1;33m\u001b[0m\u001b[1;33m\u001b[0m\u001b[1;33m\u001b[0m\u001b[0m\n\u001b[0;32m    655\u001b[0m \u001b[1;33m\u001b[0m\u001b[0m\n\u001b[1;32m--> 656\u001b[1;33m         \u001b[0mtrial\u001b[0m \u001b[1;33m=\u001b[0m \u001b[0mself\u001b[0m\u001b[1;33m.\u001b[0m\u001b[0m_run_trial\u001b[0m\u001b[1;33m(\u001b[0m\u001b[0mfunc\u001b[0m\u001b[1;33m,\u001b[0m \u001b[0mcatch\u001b[0m\u001b[1;33m,\u001b[0m \u001b[0mgc_after_trial\u001b[0m\u001b[1;33m)\u001b[0m\u001b[1;33m\u001b[0m\u001b[1;33m\u001b[0m\u001b[0m\n\u001b[0m\u001b[0;32m    657\u001b[0m         \u001b[1;32mif\u001b[0m \u001b[0mcallbacks\u001b[0m \u001b[1;32mis\u001b[0m \u001b[1;32mnot\u001b[0m \u001b[1;32mNone\u001b[0m\u001b[1;33m:\u001b[0m\u001b[1;33m\u001b[0m\u001b[1;33m\u001b[0m\u001b[0m\n\u001b[0;32m    658\u001b[0m             \u001b[0mfrozen_trial\u001b[0m \u001b[1;33m=\u001b[0m \u001b[0mself\u001b[0m\u001b[1;33m.\u001b[0m\u001b[0m_storage\u001b[0m\u001b[1;33m.\u001b[0m\u001b[0mget_trial\u001b[0m\u001b[1;33m(\u001b[0m\u001b[0mtrial\u001b[0m\u001b[1;33m.\u001b[0m\u001b[0m_trial_id\u001b[0m\u001b[1;33m)\u001b[0m\u001b[1;33m\u001b[0m\u001b[1;33m\u001b[0m\u001b[0m\n",
      "\u001b[1;32m~\\Anaconda3\\lib\\site-packages\\optuna\\study.py\u001b[0m in \u001b[0;36m_run_trial\u001b[1;34m(self, func, catch, gc_after_trial)\u001b[0m\n\u001b[0;32m    671\u001b[0m         \u001b[1;32mif\u001b[0m \u001b[0mtrial_id\u001b[0m \u001b[1;32mis\u001b[0m \u001b[1;32mNone\u001b[0m\u001b[1;33m:\u001b[0m\u001b[1;33m\u001b[0m\u001b[1;33m\u001b[0m\u001b[0m\n\u001b[0;32m    672\u001b[0m             \u001b[0mtrial_id\u001b[0m \u001b[1;33m=\u001b[0m \u001b[0mself\u001b[0m\u001b[1;33m.\u001b[0m\u001b[0m_storage\u001b[0m\u001b[1;33m.\u001b[0m\u001b[0mcreate_new_trial\u001b[0m\u001b[1;33m(\u001b[0m\u001b[0mself\u001b[0m\u001b[1;33m.\u001b[0m\u001b[0m_study_id\u001b[0m\u001b[1;33m)\u001b[0m\u001b[1;33m\u001b[0m\u001b[1;33m\u001b[0m\u001b[0m\n\u001b[1;32m--> 673\u001b[1;33m         \u001b[0mtrial\u001b[0m \u001b[1;33m=\u001b[0m \u001b[0mtrial_module\u001b[0m\u001b[1;33m.\u001b[0m\u001b[0mTrial\u001b[0m\u001b[1;33m(\u001b[0m\u001b[0mself\u001b[0m\u001b[1;33m,\u001b[0m \u001b[0mtrial_id\u001b[0m\u001b[1;33m)\u001b[0m\u001b[1;33m\u001b[0m\u001b[1;33m\u001b[0m\u001b[0m\n\u001b[0m\u001b[0;32m    674\u001b[0m         \u001b[0mtrial_number\u001b[0m \u001b[1;33m=\u001b[0m \u001b[0mtrial\u001b[0m\u001b[1;33m.\u001b[0m\u001b[0mnumber\u001b[0m\u001b[1;33m\u001b[0m\u001b[1;33m\u001b[0m\u001b[0m\n\u001b[0;32m    675\u001b[0m \u001b[1;33m\u001b[0m\u001b[0m\n",
      "\u001b[1;32m~\\Anaconda3\\lib\\site-packages\\optuna\\trial.py\u001b[0m in \u001b[0;36m__init__\u001b[1;34m(self, study, trial_id)\u001b[0m\n\u001b[0;32m    145\u001b[0m         \u001b[0mself\u001b[0m\u001b[1;33m.\u001b[0m\u001b[0mlogger\u001b[0m \u001b[1;33m=\u001b[0m \u001b[0mlogging\u001b[0m\u001b[1;33m.\u001b[0m\u001b[0mget_logger\u001b[0m\u001b[1;33m(\u001b[0m\u001b[0m__name__\u001b[0m\u001b[1;33m)\u001b[0m\u001b[1;33m\u001b[0m\u001b[1;33m\u001b[0m\u001b[0m\n\u001b[0;32m    146\u001b[0m \u001b[1;33m\u001b[0m\u001b[0m\n\u001b[1;32m--> 147\u001b[1;33m         \u001b[0mself\u001b[0m\u001b[1;33m.\u001b[0m\u001b[0m_init_relative_params\u001b[0m\u001b[1;33m(\u001b[0m\u001b[1;33m)\u001b[0m\u001b[1;33m\u001b[0m\u001b[1;33m\u001b[0m\u001b[0m\n\u001b[0m\u001b[0;32m    148\u001b[0m \u001b[1;33m\u001b[0m\u001b[0m\n\u001b[0;32m    149\u001b[0m     \u001b[1;32mdef\u001b[0m \u001b[0m_init_relative_params\u001b[0m\u001b[1;33m(\u001b[0m\u001b[0mself\u001b[0m\u001b[1;33m)\u001b[0m\u001b[1;33m:\u001b[0m\u001b[1;33m\u001b[0m\u001b[1;33m\u001b[0m\u001b[0m\n",
      "\u001b[1;32m~\\Anaconda3\\lib\\site-packages\\optuna\\trial.py\u001b[0m in \u001b[0;36m_init_relative_params\u001b[1;34m(self)\u001b[0m\n\u001b[0;32m    156\u001b[0m         )\n\u001b[0;32m    157\u001b[0m         self.relative_params = self.study.sampler.sample_relative(\n\u001b[1;32m--> 158\u001b[1;33m             \u001b[0mself\u001b[0m\u001b[1;33m.\u001b[0m\u001b[0mstudy\u001b[0m\u001b[1;33m,\u001b[0m \u001b[0mtrial\u001b[0m\u001b[1;33m,\u001b[0m \u001b[0mself\u001b[0m\u001b[1;33m.\u001b[0m\u001b[0mrelative_search_space\u001b[0m\u001b[1;33m\u001b[0m\u001b[1;33m\u001b[0m\u001b[0m\n\u001b[0m\u001b[0;32m    159\u001b[0m         )\n\u001b[0;32m    160\u001b[0m \u001b[1;33m\u001b[0m\u001b[0m\n",
      "\u001b[1;32m~\\Anaconda3\\lib\\site-packages\\optuna\\samplers\\cmaes.py\u001b[0m in \u001b[0;36msample_relative\u001b[1;34m(self, study, trial, search_space)\u001b[0m\n\u001b[0;32m    168\u001b[0m         \u001b[0mordered_keys\u001b[0m\u001b[1;33m.\u001b[0m\u001b[0msort\u001b[0m\u001b[1;33m(\u001b[0m\u001b[1;33m)\u001b[0m\u001b[1;33m\u001b[0m\u001b[1;33m\u001b[0m\u001b[0m\n\u001b[0;32m    169\u001b[0m \u001b[1;33m\u001b[0m\u001b[0m\n\u001b[1;32m--> 170\u001b[1;33m         \u001b[0moptimizer\u001b[0m \u001b[1;33m=\u001b[0m \u001b[0mself\u001b[0m\u001b[1;33m.\u001b[0m\u001b[0m_restore_or_init_optimizer\u001b[0m\u001b[1;33m(\u001b[0m\u001b[0mcompleted_trials\u001b[0m\u001b[1;33m,\u001b[0m \u001b[0msearch_space\u001b[0m\u001b[1;33m,\u001b[0m \u001b[0mordered_keys\u001b[0m\u001b[1;33m)\u001b[0m\u001b[1;33m\u001b[0m\u001b[1;33m\u001b[0m\u001b[0m\n\u001b[0m\u001b[0;32m    171\u001b[0m \u001b[1;33m\u001b[0m\u001b[0m\n\u001b[0;32m    172\u001b[0m         \u001b[1;32mif\u001b[0m \u001b[0moptimizer\u001b[0m\u001b[1;33m.\u001b[0m\u001b[0mdim\u001b[0m \u001b[1;33m!=\u001b[0m \u001b[0mlen\u001b[0m\u001b[1;33m(\u001b[0m\u001b[0mordered_keys\u001b[0m\u001b[1;33m)\u001b[0m\u001b[1;33m:\u001b[0m\u001b[1;33m\u001b[0m\u001b[1;33m\u001b[0m\u001b[0m\n",
      "\u001b[1;32m~\\Anaconda3\\lib\\site-packages\\optuna\\samplers\\cmaes.py\u001b[0m in \u001b[0;36m_restore_or_init_optimizer\u001b[1;34m(self, completed_trials, search_space, ordered_keys)\u001b[0m\n\u001b[0;32m    244\u001b[0m             \u001b[0msigma\u001b[0m\u001b[1;33m=\u001b[0m\u001b[0msigma0\u001b[0m\u001b[1;33m,\u001b[0m\u001b[1;33m\u001b[0m\u001b[1;33m\u001b[0m\u001b[0m\n\u001b[0;32m    245\u001b[0m             \u001b[0mbounds\u001b[0m\u001b[1;33m=\u001b[0m\u001b[0mbounds\u001b[0m\u001b[1;33m,\u001b[0m\u001b[1;33m\u001b[0m\u001b[1;33m\u001b[0m\u001b[0m\n\u001b[1;32m--> 246\u001b[1;33m             \u001b[0mseed\u001b[0m\u001b[1;33m=\u001b[0m\u001b[0mself\u001b[0m\u001b[1;33m.\u001b[0m\u001b[0m_cma_rng\u001b[0m\u001b[1;33m.\u001b[0m\u001b[0mrandint\u001b[0m\u001b[1;33m(\u001b[0m\u001b[1;36m1\u001b[0m\u001b[1;33m,\u001b[0m \u001b[1;36m2\u001b[0m \u001b[1;33m**\u001b[0m \u001b[1;36m32\u001b[0m\u001b[1;33m)\u001b[0m\u001b[1;33m,\u001b[0m\u001b[1;33m\u001b[0m\u001b[1;33m\u001b[0m\u001b[0m\n\u001b[0m\u001b[0;32m    247\u001b[0m             \u001b[0mn_max_resampling\u001b[0m\u001b[1;33m=\u001b[0m\u001b[1;36m10\u001b[0m \u001b[1;33m*\u001b[0m \u001b[0mn_dimension\u001b[0m\u001b[1;33m,\u001b[0m\u001b[1;33m\u001b[0m\u001b[1;33m\u001b[0m\u001b[0m\n\u001b[0;32m    248\u001b[0m         )\n",
      "\u001b[1;32mmtrand.pyx\u001b[0m in \u001b[0;36mnumpy.random.mtrand.RandomState.randint\u001b[1;34m()\u001b[0m\n",
      "\u001b[1;32m_bounded_integers.pyx\u001b[0m in \u001b[0;36mnumpy.random._bounded_integers._rand_int32\u001b[1;34m()\u001b[0m\n",
      "\u001b[1;31mValueError\u001b[0m: high is out of bounds for int32"
     ]
    }
   ],
   "source": [
    "def objective(trial):\n",
    "    c = trial.suggest_uniform('c', 2**(-5),  2**15)\n",
    "    gamma = trial.suggest_uniform('gamma', 2**(-15),  2**3)    \n",
    "    epsilon = trial.suggest_uniform('epsilon', 0.05,  1.0)\n",
    "    \n",
    "    svr  = SVR(kernel='rbf', C=c, gamma=gamma, epsilon=epsilon)\n",
    "    svr.fit(x_treino, y_treino)\n",
    "    \n",
    "    pred = svr.predict(x_teste)\n",
    "    mae = metrics.mean_absolute_error(y_true=y_teste, y_pred=pred)\n",
    "    \n",
    "    return mae\n",
    "\n",
    "\n",
    "sampler = optuna.samplers.CmaEsSampler()\n",
    "study = optuna.create_study(sampler=sampler)\n",
    "study.optimize(objective, n_trials=125)\n"
   ]
  },
  {
   "cell_type": "markdown",
   "metadata": {},
   "source": [
    "Logo, como resultado os melhores parâmetros encontrados durante a busca são mostrados:"
   ]
  },
  {
   "cell_type": "code",
   "execution_count": null,
   "metadata": {},
   "outputs": [],
   "source": [
    "study.best_params"
   ]
  },
  {
   "cell_type": "markdown",
   "metadata": {},
   "source": [
    "Bem como o resultado para o  erro absoluto médio (MAE) no conjunto de teste com esses parâmetros:"
   ]
  },
  {
   "cell_type": "code",
   "execution_count": null,
   "metadata": {},
   "outputs": [],
   "source": [
    "study.best_value"
   ]
  },
  {
   "cell_type": "code",
   "execution_count": null,
   "metadata": {},
   "outputs": [],
   "source": []
  }
 ],
 "metadata": {
  "kernelspec": {
   "display_name": "Python 3",
   "language": "python",
   "name": "python3"
  },
  "language_info": {
   "codemirror_mode": {
    "name": "ipython",
    "version": 3
   },
   "file_extension": ".py",
   "mimetype": "text/x-python",
   "name": "python",
   "nbconvert_exporter": "python",
   "pygments_lexer": "ipython3",
   "version": "3.7.6"
  }
 },
 "nbformat": 4,
 "nbformat_minor": 4
}
